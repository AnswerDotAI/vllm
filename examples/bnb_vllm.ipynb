{
 "cells": [
  {
   "cell_type": "markdown",
   "id": "c22d8c79-3add-4d49-9cae-e212b493467e",
   "metadata": {},
   "source": [
    "### BNB with Tensor Parallelism"
   ]
  },
  {
   "cell_type": "code",
   "execution_count": 1,
   "id": "9ff26655-6d13-479a-9af8-9d64083ec9de",
   "metadata": {},
   "outputs": [],
   "source": [
    "import torch\n",
    "import copy\n",
    "from bitsandbytes.nn.modules import Params4bit, Linear4bit\n",
    "from bitsandbytes.functional import dequantize_4bit\n",
    "import bitsandbytes as bnb\n",
    "from bitsandbytes.functional import dequantize_4bit, QuantState"
   ]
  },
  {
   "cell_type": "code",
   "execution_count": 2,
   "id": "c906c609-2777-4148-acac-700d72842b94",
   "metadata": {},
   "outputs": [],
   "source": [
    "from transformers import AutoTokenizer, AutoModelForCausalLM, AutoConfig"
   ]
  },
  {
   "cell_type": "code",
   "execution_count": 3,
   "id": "dea59055-c341-47c3-86b9-f48415d239d0",
   "metadata": {},
   "outputs": [],
   "source": [
    "blocksize = 64\n",
    "quant_type = \"nf4\"\n",
    "quant_storage = torch.uint8\n",
    "\n",
    "data = torch.randn(128,256).to(torch.bfloat16)\n",
    "param = Params4bit(data, blocksize=blocksize, quant_type=quant_type, \n",
    "                   quant_storage=quant_storage, compress_statistics=False)"
   ]
  },
  {
   "cell_type": "code",
   "execution_count": 4,
   "id": "8b7929ba",
   "metadata": {},
   "outputs": [],
   "source": [
    "if quant_storage == torch.uint8:\n",
    "    pack_factor = 2"
   ]
  },
  {
   "cell_type": "code",
   "execution_count": 5,
   "id": "6890d631-c63f-4939-a5f4-00883a324aca",
   "metadata": {},
   "outputs": [
    {
     "data": {
      "text/plain": [
       "Parameter containing:\n",
       "Parameter(Params4bit([[-0.1260, -1.6250,  0.0508,  ...,  0.3379, -1.7500,  1.1484],\n",
       "            [-0.2305, -1.3047, -2.0312,  ..., -0.1328, -0.3125,  1.8594],\n",
       "            [-1.1875,  0.9766,  0.0840,  ..., -2.2812,  0.6016,  1.1328],\n",
       "            ...,\n",
       "            [ 1.1875,  1.0234,  1.3281,  ...,  1.5781, -0.7227,  0.5156],\n",
       "            [ 0.0610, -0.3477,  1.2578,  ..., -1.7109,  1.0781,  0.6914],\n",
       "            [ 0.2002, -0.7422,  0.0527,  ...,  1.1953, -0.0952,  0.0854]],\n",
       "           dtype=torch.bfloat16))"
      ]
     },
     "execution_count": 5,
     "metadata": {},
     "output_type": "execute_result"
    }
   ],
   "source": [
    "param"
   ]
  },
  {
   "cell_type": "code",
   "execution_count": 6,
   "id": "222fae9b-6520-46de-bd43-21867026cc1e",
   "metadata": {},
   "outputs": [],
   "source": [
    "param.cuda();"
   ]
  },
  {
   "cell_type": "code",
   "execution_count": 7,
   "id": "920862c7-0c28-43cf-ba29-5a624eadaace",
   "metadata": {},
   "outputs": [
    {
     "data": {
      "text/plain": [
       "(torch.Size([16384, 1]), 'nf4', torch.uint8, 64)"
      ]
     },
     "execution_count": 7,
     "metadata": {},
     "output_type": "execute_result"
    }
   ],
   "source": [
    "param.shape, param.quant_type, param.quant_storage, param.blocksize"
   ]
  },
  {
   "cell_type": "code",
   "execution_count": 8,
   "id": "78e79d3e-ca1c-49e8-8da1-8578b346d2f0",
   "metadata": {},
   "outputs": [
    {
     "data": {
      "text/plain": [
       "torch.Size([16384, 1])"
      ]
     },
     "execution_count": 8,
     "metadata": {},
     "output_type": "execute_result"
    }
   ],
   "source": [
    "param.shape"
   ]
  },
  {
   "cell_type": "code",
   "execution_count": 9,
   "id": "a273b007",
   "metadata": {},
   "outputs": [
    {
     "data": {
      "text/plain": [
       "0.5"
      ]
     },
     "execution_count": 9,
     "metadata": {},
     "output_type": "execute_result"
    }
   ],
   "source": [
    "param.numel() / data.numel()"
   ]
  },
  {
   "cell_type": "code",
   "execution_count": 10,
   "id": "0a3b663b",
   "metadata": {
    "scrolled": true
   },
   "outputs": [
    {
     "data": {
      "text/plain": [
       "{'quant_type': 'nf4',\n",
       " 'absmax': tensor([2.6406, 2.4062, 3.7812, 2.2344, 2.7500, 3.2500, 2.2500, 2.8594, 2.7656,\n",
       "         2.4688, 3.2969, 3.4844, 2.7812, 2.2188, 2.9375, 3.2812, 2.1094, 2.8125,\n",
       "         2.2344, 3.2344, 3.2188, 2.8125, 2.3906, 2.2812, 2.7031, 3.5938, 2.5156,\n",
       "         2.9219, 2.1875, 3.0469, 2.5781, 2.5781, 2.2188, 2.8125, 2.3281, 2.6094,\n",
       "         2.9219, 2.7344, 2.1719, 3.4375, 2.5000, 3.0625, 2.4688, 2.5625, 2.9531,\n",
       "         2.8125, 2.7969, 2.2500, 3.6094, 2.4062, 2.0781, 2.4531, 3.3281, 2.6250,\n",
       "         3.1250, 2.7969, 2.8594, 2.4844, 2.8906, 2.5000, 2.1719, 3.1406, 2.6094,\n",
       "         2.4375, 3.0000, 2.2188, 3.4062, 3.9688, 2.6250, 2.5938, 2.2500, 3.0000,\n",
       "         2.7188, 2.5625, 2.5156, 3.3750, 2.5469, 2.8125, 3.0781, 2.4688, 2.5781,\n",
       "         3.3281, 2.5781, 1.7109, 2.9375, 2.0781, 2.2031, 2.3750, 2.0312, 2.3750,\n",
       "         2.4688, 2.6406, 2.2812, 2.2344, 3.2031, 2.5312, 1.8203, 2.3438, 2.0625,\n",
       "         2.7500, 2.5312, 2.6094, 2.4844, 2.7188, 2.6562, 2.1094, 1.8594, 2.4688,\n",
       "         2.2188, 3.0312, 3.4062, 2.2031, 2.2188, 2.0000, 2.8438, 2.5156, 2.3594,\n",
       "         1.9844, 2.9531, 2.7344, 2.8750, 2.0156, 2.1406, 2.9844, 3.0312, 2.7344,\n",
       "         2.2656, 2.5938, 3.5625, 2.8750, 1.8672, 2.4531, 1.8672, 2.8281, 2.2500,\n",
       "         2.0312, 2.9375, 2.1719, 1.9531, 2.0938, 2.5625, 3.2812, 2.4375, 2.8750,\n",
       "         2.9062, 2.0469, 2.7188, 2.5000, 2.7500, 2.1094, 1.7344, 2.3750, 2.8281,\n",
       "         3.1250, 3.2344, 2.8906, 2.2344, 1.9844, 4.2812, 2.6562, 2.5938, 2.3750,\n",
       "         2.8750, 2.1719, 3.1250, 2.9219, 3.5469, 2.4844, 2.6250, 1.9922, 2.3125,\n",
       "         2.4844, 2.7656, 2.3281, 2.7969, 3.2656, 2.2188, 2.1875, 2.2500, 2.3906,\n",
       "         2.2344, 2.5156, 3.3125, 1.9922, 1.7344, 2.6406, 2.1406, 2.5000, 2.1562,\n",
       "         2.5469, 2.1875, 1.9219, 1.9609, 2.4219, 2.8438, 2.0938, 2.9062, 1.8750,\n",
       "         2.6719, 2.5312, 3.2969, 2.6250, 2.2812, 2.4219, 2.1875, 2.6719, 3.2656,\n",
       "         2.3906, 1.8281, 2.4844, 2.8438, 2.5156, 2.6562, 2.4219, 2.0000, 2.8906,\n",
       "         2.5312, 2.7188, 2.7500, 3.4375, 2.6094, 2.7500, 1.7734, 2.1250, 2.4531,\n",
       "         2.4688, 2.7812, 2.5469, 2.0312, 1.8906, 3.6406, 2.3281, 2.6094, 2.5938,\n",
       "         2.1562, 2.4531, 2.1719, 2.1406, 2.2969, 2.1406, 3.3906, 2.3594, 2.2812,\n",
       "         2.6250, 2.7812, 2.5938, 2.6562, 2.6250, 2.3750, 3.3750, 2.2500, 2.1719,\n",
       "         2.8750, 2.1719, 2.4375, 2.4062, 2.5469, 2.9688, 2.1719, 1.8906, 2.2812,\n",
       "         2.2969, 2.6875, 2.7656, 3.5312, 2.4844, 2.2812, 3.7656, 3.4375, 2.9531,\n",
       "         2.2031, 2.7812, 3.0781, 2.5625, 2.1875, 2.1562, 3.2344, 2.3438, 2.2969,\n",
       "         2.1875, 2.4844, 2.6719, 2.1562, 2.2969, 2.7812, 3.2969, 1.9688, 2.1719,\n",
       "         2.9219, 1.9609, 3.2969, 3.0312, 2.6562, 2.8438, 2.7656, 2.5156, 2.5312,\n",
       "         2.4375, 2.8750, 3.1250, 2.0938, 2.5312, 2.4062, 2.5938, 3.1406, 2.2812,\n",
       "         2.7188, 3.2812, 3.0781, 2.8750, 2.3906, 2.2344, 2.4062, 1.9922, 3.5312,\n",
       "         2.6250, 2.0625, 2.9375, 2.1875, 2.4062, 2.7500, 2.7188, 2.1250, 2.3125,\n",
       "         3.2656, 2.3281, 2.9375, 2.6719, 2.2188, 2.4844, 2.5781, 2.4375, 3.7031,\n",
       "         3.4844, 2.7188, 2.4688, 2.2969, 2.9219, 3.0000, 1.9219, 2.0312, 2.8125,\n",
       "         1.9766, 3.5938, 2.9844, 2.9219, 2.0938, 2.2188, 2.7188, 2.6094, 2.6406,\n",
       "         2.6562, 2.4688, 2.0156, 3.0156, 3.0625, 2.1250, 2.7188, 2.5000, 2.9531,\n",
       "         2.7188, 2.4375, 2.7031, 2.7188, 2.8594, 2.6719, 2.0156, 2.3281, 2.8750,\n",
       "         2.1562, 2.5312, 2.9062, 2.1250, 2.5938, 2.4688, 2.7812, 2.9219, 2.2188,\n",
       "         1.8516, 2.5938, 3.1406, 2.6719, 1.7656, 2.6250, 2.0156, 2.6875, 2.2500,\n",
       "         3.1719, 2.5000, 3.1250, 1.6875, 3.0000, 2.0625, 2.7500, 2.9844, 2.4844,\n",
       "         2.9375, 3.5000, 1.8906, 2.4219, 2.1406, 3.0312, 2.8125, 1.9922, 2.1562,\n",
       "         1.7656, 2.3281, 2.6094, 2.4531, 2.7500, 2.5156, 2.3281, 3.1875, 1.6953,\n",
       "         2.4219, 3.2812, 2.3438, 2.3281, 3.0781, 2.5000, 2.6719, 2.2812, 1.8281,\n",
       "         2.0781, 2.7656, 2.8438, 2.3594, 2.1875, 1.9297, 2.6562, 2.7344, 2.3594,\n",
       "         2.9062, 2.2969, 3.0469, 2.9531, 2.8281, 3.0625, 2.3438, 2.0000, 2.9219,\n",
       "         3.1875, 2.3906, 2.7344, 2.1719, 2.9219, 2.3906, 3.0469, 2.0938, 2.2031,\n",
       "         2.8906, 2.5156, 2.3125, 1.7734, 3.5156, 2.4688, 3.5000, 2.2969, 2.3750,\n",
       "         2.2188, 2.5625, 2.4375, 2.1250, 2.8750, 2.7031, 2.8594, 2.3125, 3.4531,\n",
       "         3.0938, 2.6094, 2.7656, 2.9062, 2.4375, 2.7031, 2.5781, 2.6094, 2.2812,\n",
       "         2.9375, 2.2031, 3.0156, 2.2812, 2.5625, 3.1406, 2.4062, 1.9062, 2.8438,\n",
       "         2.4375, 2.5156, 2.7031, 2.1406, 3.0469, 2.5469, 2.0469, 2.4062, 2.2344,\n",
       "         2.2188, 2.3594, 2.3438, 1.7656, 1.8984, 2.7656, 2.0938, 2.8125, 2.5625,\n",
       "         2.0781, 2.5312, 3.1562, 2.5000, 2.3438, 2.4062, 2.9375, 2.5312],\n",
       "        device='cuda:0'),\n",
       " 'blocksize': 64,\n",
       " 'quant_map': tensor([-1.0000, -0.6962, -0.5251, -0.3949, -0.2844, -0.1848, -0.0911,  0.0000,\n",
       "          0.0796,  0.1609,  0.2461,  0.3379,  0.4407,  0.5626,  0.7230,  1.0000],\n",
       "        device='cuda:0'),\n",
       " 'dtype': 'bfloat16',\n",
       " 'shape': (128, 256)}"
      ]
     },
     "execution_count": 10,
     "metadata": {},
     "output_type": "execute_result"
    }
   ],
   "source": [
    "param.quant_state.as_dict()"
   ]
  },
  {
   "cell_type": "code",
   "execution_count": 11,
   "id": "0b110f7a",
   "metadata": {},
   "outputs": [],
   "source": [
    "input_size_per_partition = 64\n",
    "output_size_per_partition = 64"
   ]
  },
  {
   "cell_type": "code",
   "execution_count": 12,
   "id": "35c5479f",
   "metadata": {},
   "outputs": [
    {
     "data": {
      "text/plain": [
       "torch.Size([128, 128])"
      ]
     },
     "execution_count": 12,
     "metadata": {},
     "output_type": "execute_result"
    }
   ],
   "source": [
    "# row-major quantization, reshape for vllm tensor parallelism\n",
    "qweight = param.data.reshape(data.size(0), data.size(1) // pack_factor); qweight.shape"
   ]
  },
  {
   "cell_type": "code",
   "execution_count": 13,
   "id": "bd34c2f0",
   "metadata": {},
   "outputs": [
    {
     "data": {
      "text/plain": [
       "tensor([[ 97, 119,  55,  ...,  65, 201,  29],\n",
       "        [ 98,  24,  97,  ..., 156, 134, 110],\n",
       "        [ 59, 112,  71,  ...,  58,  81, 155],\n",
       "        ...,\n",
       "        [203, 201, 227,  ...,  20, 173,  73],\n",
       "        [117, 217, 181,  ...,  65,  97, 202],\n",
       "        [132, 122, 134,  ...,  38,  44, 119]], device='cuda:0',\n",
       "       dtype=torch.uint8)"
      ]
     },
     "execution_count": 13,
     "metadata": {},
     "output_type": "execute_result"
    }
   ],
   "source": [
    "qweight"
   ]
  },
  {
   "cell_type": "code",
   "execution_count": 14,
   "id": "2b3a5601",
   "metadata": {},
   "outputs": [
    {
     "data": {
      "text/plain": [
       "tensor([[ 97],\n",
       "        [119],\n",
       "        [ 55],\n",
       "        ...,\n",
       "        [ 38],\n",
       "        [ 44],\n",
       "        [119]], device='cuda:0', dtype=torch.uint8)"
      ]
     },
     "execution_count": 14,
     "metadata": {},
     "output_type": "execute_result"
    }
   ],
   "source": [
    "qweight.view(-1,1)"
   ]
  },
  {
   "cell_type": "code",
   "execution_count": 15,
   "id": "11e42bb9",
   "metadata": {},
   "outputs": [],
   "source": [
    "deqweight = dequantize_4bit(qweight.view(-1,1), param.quant_state, blocksize=blocksize)"
   ]
  },
  {
   "cell_type": "code",
   "execution_count": 16,
   "id": "3e794c0c",
   "metadata": {},
   "outputs": [
    {
     "data": {
      "text/plain": [
       "tensor(254., dtype=torch.bfloat16)"
      ]
     },
     "execution_count": 16,
     "metadata": {},
     "output_type": "execute_result"
    }
   ],
   "source": [
    "(data - torch.randn_like(data)).norm()"
   ]
  },
  {
   "cell_type": "code",
   "execution_count": 17,
   "id": "e4c3eb54",
   "metadata": {},
   "outputs": [
    {
     "data": {
      "text/plain": [
       "tensor(16.5000, dtype=torch.bfloat16)"
      ]
     },
     "execution_count": 17,
     "metadata": {},
     "output_type": "execute_result"
    }
   ],
   "source": [
    "(data - deqweight.cpu()).norm()"
   ]
  },
  {
   "cell_type": "code",
   "execution_count": 18,
   "id": "1c66129c-c120-4b67-bf0c-fee3d8e94a23",
   "metadata": {},
   "outputs": [],
   "source": [
    "x = torch.randn(4, 128).cuda().to(torch.bfloat16)"
   ]
  },
  {
   "cell_type": "code",
   "execution_count": 19,
   "id": "ed100e7d-5097-4682-9a6d-333f4434c877",
   "metadata": {
    "scrolled": true
   },
   "outputs": [
    {
     "data": {
      "text/plain": [
       "{'quant_type': 'nf4',\n",
       " 'absmax': tensor([2.6406, 2.4062, 3.7812, 2.2344, 2.7500, 3.2500, 2.2500, 2.8594, 2.7656,\n",
       "         2.4688, 3.2969, 3.4844, 2.7812, 2.2188, 2.9375, 3.2812, 2.1094, 2.8125,\n",
       "         2.2344, 3.2344, 3.2188, 2.8125, 2.3906, 2.2812, 2.7031, 3.5938, 2.5156,\n",
       "         2.9219, 2.1875, 3.0469, 2.5781, 2.5781, 2.2188, 2.8125, 2.3281, 2.6094,\n",
       "         2.9219, 2.7344, 2.1719, 3.4375, 2.5000, 3.0625, 2.4688, 2.5625, 2.9531,\n",
       "         2.8125, 2.7969, 2.2500, 3.6094, 2.4062, 2.0781, 2.4531, 3.3281, 2.6250,\n",
       "         3.1250, 2.7969, 2.8594, 2.4844, 2.8906, 2.5000, 2.1719, 3.1406, 2.6094,\n",
       "         2.4375, 3.0000, 2.2188, 3.4062, 3.9688, 2.6250, 2.5938, 2.2500, 3.0000,\n",
       "         2.7188, 2.5625, 2.5156, 3.3750, 2.5469, 2.8125, 3.0781, 2.4688, 2.5781,\n",
       "         3.3281, 2.5781, 1.7109, 2.9375, 2.0781, 2.2031, 2.3750, 2.0312, 2.3750,\n",
       "         2.4688, 2.6406, 2.2812, 2.2344, 3.2031, 2.5312, 1.8203, 2.3438, 2.0625,\n",
       "         2.7500, 2.5312, 2.6094, 2.4844, 2.7188, 2.6562, 2.1094, 1.8594, 2.4688,\n",
       "         2.2188, 3.0312, 3.4062, 2.2031, 2.2188, 2.0000, 2.8438, 2.5156, 2.3594,\n",
       "         1.9844, 2.9531, 2.7344, 2.8750, 2.0156, 2.1406, 2.9844, 3.0312, 2.7344,\n",
       "         2.2656, 2.5938, 3.5625, 2.8750, 1.8672, 2.4531, 1.8672, 2.8281, 2.2500,\n",
       "         2.0312, 2.9375, 2.1719, 1.9531, 2.0938, 2.5625, 3.2812, 2.4375, 2.8750,\n",
       "         2.9062, 2.0469, 2.7188, 2.5000, 2.7500, 2.1094, 1.7344, 2.3750, 2.8281,\n",
       "         3.1250, 3.2344, 2.8906, 2.2344, 1.9844, 4.2812, 2.6562, 2.5938, 2.3750,\n",
       "         2.8750, 2.1719, 3.1250, 2.9219, 3.5469, 2.4844, 2.6250, 1.9922, 2.3125,\n",
       "         2.4844, 2.7656, 2.3281, 2.7969, 3.2656, 2.2188, 2.1875, 2.2500, 2.3906,\n",
       "         2.2344, 2.5156, 3.3125, 1.9922, 1.7344, 2.6406, 2.1406, 2.5000, 2.1562,\n",
       "         2.5469, 2.1875, 1.9219, 1.9609, 2.4219, 2.8438, 2.0938, 2.9062, 1.8750,\n",
       "         2.6719, 2.5312, 3.2969, 2.6250, 2.2812, 2.4219, 2.1875, 2.6719, 3.2656,\n",
       "         2.3906, 1.8281, 2.4844, 2.8438, 2.5156, 2.6562, 2.4219, 2.0000, 2.8906,\n",
       "         2.5312, 2.7188, 2.7500, 3.4375, 2.6094, 2.7500, 1.7734, 2.1250, 2.4531,\n",
       "         2.4688, 2.7812, 2.5469, 2.0312, 1.8906, 3.6406, 2.3281, 2.6094, 2.5938,\n",
       "         2.1562, 2.4531, 2.1719, 2.1406, 2.2969, 2.1406, 3.3906, 2.3594, 2.2812,\n",
       "         2.6250, 2.7812, 2.5938, 2.6562, 2.6250, 2.3750, 3.3750, 2.2500, 2.1719,\n",
       "         2.8750, 2.1719, 2.4375, 2.4062, 2.5469, 2.9688, 2.1719, 1.8906, 2.2812,\n",
       "         2.2969, 2.6875, 2.7656, 3.5312, 2.4844, 2.2812, 3.7656, 3.4375, 2.9531,\n",
       "         2.2031, 2.7812, 3.0781, 2.5625, 2.1875, 2.1562, 3.2344, 2.3438, 2.2969,\n",
       "         2.1875, 2.4844, 2.6719, 2.1562, 2.2969, 2.7812, 3.2969, 1.9688, 2.1719,\n",
       "         2.9219, 1.9609, 3.2969, 3.0312, 2.6562, 2.8438, 2.7656, 2.5156, 2.5312,\n",
       "         2.4375, 2.8750, 3.1250, 2.0938, 2.5312, 2.4062, 2.5938, 3.1406, 2.2812,\n",
       "         2.7188, 3.2812, 3.0781, 2.8750, 2.3906, 2.2344, 2.4062, 1.9922, 3.5312,\n",
       "         2.6250, 2.0625, 2.9375, 2.1875, 2.4062, 2.7500, 2.7188, 2.1250, 2.3125,\n",
       "         3.2656, 2.3281, 2.9375, 2.6719, 2.2188, 2.4844, 2.5781, 2.4375, 3.7031,\n",
       "         3.4844, 2.7188, 2.4688, 2.2969, 2.9219, 3.0000, 1.9219, 2.0312, 2.8125,\n",
       "         1.9766, 3.5938, 2.9844, 2.9219, 2.0938, 2.2188, 2.7188, 2.6094, 2.6406,\n",
       "         2.6562, 2.4688, 2.0156, 3.0156, 3.0625, 2.1250, 2.7188, 2.5000, 2.9531,\n",
       "         2.7188, 2.4375, 2.7031, 2.7188, 2.8594, 2.6719, 2.0156, 2.3281, 2.8750,\n",
       "         2.1562, 2.5312, 2.9062, 2.1250, 2.5938, 2.4688, 2.7812, 2.9219, 2.2188,\n",
       "         1.8516, 2.5938, 3.1406, 2.6719, 1.7656, 2.6250, 2.0156, 2.6875, 2.2500,\n",
       "         3.1719, 2.5000, 3.1250, 1.6875, 3.0000, 2.0625, 2.7500, 2.9844, 2.4844,\n",
       "         2.9375, 3.5000, 1.8906, 2.4219, 2.1406, 3.0312, 2.8125, 1.9922, 2.1562,\n",
       "         1.7656, 2.3281, 2.6094, 2.4531, 2.7500, 2.5156, 2.3281, 3.1875, 1.6953,\n",
       "         2.4219, 3.2812, 2.3438, 2.3281, 3.0781, 2.5000, 2.6719, 2.2812, 1.8281,\n",
       "         2.0781, 2.7656, 2.8438, 2.3594, 2.1875, 1.9297, 2.6562, 2.7344, 2.3594,\n",
       "         2.9062, 2.2969, 3.0469, 2.9531, 2.8281, 3.0625, 2.3438, 2.0000, 2.9219,\n",
       "         3.1875, 2.3906, 2.7344, 2.1719, 2.9219, 2.3906, 3.0469, 2.0938, 2.2031,\n",
       "         2.8906, 2.5156, 2.3125, 1.7734, 3.5156, 2.4688, 3.5000, 2.2969, 2.3750,\n",
       "         2.2188, 2.5625, 2.4375, 2.1250, 2.8750, 2.7031, 2.8594, 2.3125, 3.4531,\n",
       "         3.0938, 2.6094, 2.7656, 2.9062, 2.4375, 2.7031, 2.5781, 2.6094, 2.2812,\n",
       "         2.9375, 2.2031, 3.0156, 2.2812, 2.5625, 3.1406, 2.4062, 1.9062, 2.8438,\n",
       "         2.4375, 2.5156, 2.7031, 2.1406, 3.0469, 2.5469, 2.0469, 2.4062, 2.2344,\n",
       "         2.2188, 2.3594, 2.3438, 1.7656, 1.8984, 2.7656, 2.0938, 2.8125, 2.5625,\n",
       "         2.0781, 2.5312, 3.1562, 2.5000, 2.3438, 2.4062, 2.9375, 2.5312],\n",
       "        device='cuda:0'),\n",
       " 'blocksize': 64,\n",
       " 'quant_map': tensor([-1.0000, -0.6962, -0.5251, -0.3949, -0.2844, -0.1848, -0.0911,  0.0000,\n",
       "          0.0796,  0.1609,  0.2461,  0.3379,  0.4407,  0.5626,  0.7230,  1.0000],\n",
       "        device='cuda:0'),\n",
       " 'dtype': 'bfloat16',\n",
       " 'shape': (128, 256)}"
      ]
     },
     "execution_count": 19,
     "metadata": {},
     "output_type": "execute_result"
    }
   ],
   "source": [
    "param.quant_state.as_dict()"
   ]
  },
  {
   "cell_type": "code",
   "execution_count": 29,
   "id": "0d82d89f-235e-4a2a-b0b3-62a3e5d2adbf",
   "metadata": {},
   "outputs": [],
   "source": [
    "input_size, output_size = data.size()"
   ]
  },
  {
   "cell_type": "code",
   "execution_count": 34,
   "id": "ea5b382e-e078-4a23-8a95-c5802eca1cbc",
   "metadata": {},
   "outputs": [
    {
     "data": {
      "text/plain": [
       "(128, 256)"
      ]
     },
     "execution_count": 34,
     "metadata": {},
     "output_type": "execute_result"
    }
   ],
   "source": [
    "input_size, output_size"
   ]
  },
  {
   "cell_type": "markdown",
   "id": "d2a33876",
   "metadata": {},
   "source": [
    "### Column Parallel\n",
    "\n",
    "The linear layer is defined as Y = XA + b. A is parallelized along its second dimension as A = [A_1, ..., A_p]."
   ]
  },
  {
   "cell_type": "code",
   "execution_count": 37,
   "id": "54220b7c-a24b-4052-8ccc-d0cbe04827ed",
   "metadata": {},
   "outputs": [],
   "source": [
    "num_partitions = 2"
   ]
  },
  {
   "cell_type": "code",
   "execution_count": 20,
   "id": "5883249c",
   "metadata": {},
   "outputs": [
    {
     "data": {
      "text/plain": [
       "torch.Size([128, 128])"
      ]
     },
     "execution_count": 20,
     "metadata": {},
     "output_type": "execute_result"
    }
   ],
   "source": [
    "qweight.shape"
   ]
  },
  {
   "cell_type": "code",
   "execution_count": 21,
   "id": "ec7d2b64",
   "metadata": {},
   "outputs": [
    {
     "data": {
      "text/plain": [
       "64"
      ]
     },
     "execution_count": 21,
     "metadata": {},
     "output_type": "execute_result"
    }
   ],
   "source": [
    "output_size_per_partition"
   ]
  },
  {
   "cell_type": "code",
   "execution_count": 22,
   "id": "b8e60aab",
   "metadata": {},
   "outputs": [],
   "source": [
    "qweight_partitioned = qweight.split(output_size_per_partition, dim=1)"
   ]
  },
  {
   "cell_type": "code",
   "execution_count": 23,
   "id": "e2f41ce3",
   "metadata": {},
   "outputs": [
    {
     "data": {
      "text/plain": [
       "2"
      ]
     },
     "execution_count": 23,
     "metadata": {},
     "output_type": "execute_result"
    }
   ],
   "source": [
    "len(qweight_partitioned)"
   ]
  },
  {
   "cell_type": "code",
   "execution_count": 24,
   "id": "7746431f-166b-4a71-959c-83cead869e35",
   "metadata": {},
   "outputs": [
    {
     "name": "stdout",
     "output_type": "stream",
     "text": [
      "torch.Size([128, 64])\n",
      "torch.Size([128, 64])\n"
     ]
    }
   ],
   "source": [
    "for w in qweight_partitioned: print(w.shape)"
   ]
  },
  {
   "cell_type": "code",
   "execution_count": 25,
   "id": "be00bc23",
   "metadata": {},
   "outputs": [],
   "source": [
    "orig_absmax = param.quant_state.absmax"
   ]
  },
  {
   "cell_type": "code",
   "execution_count": 26,
   "id": "d5c02e37-8815-474e-8b2e-da1414790c58",
   "metadata": {},
   "outputs": [
    {
     "data": {
      "text/plain": [
       "torch.Size([512])"
      ]
     },
     "execution_count": 26,
     "metadata": {},
     "output_type": "execute_result"
    }
   ],
   "source": [
    "orig_absmax.shape"
   ]
  },
  {
   "cell_type": "code",
   "execution_count": 31,
   "id": "a3d776ba",
   "metadata": {},
   "outputs": [],
   "source": [
    "orig_absmax_reshaped = orig_absmax.reshape(input_size, data.size(1) // blocksize)"
   ]
  },
  {
   "cell_type": "code",
   "execution_count": 33,
   "id": "f7e1670e-a677-47cc-9e67-1ea10d399e8e",
   "metadata": {},
   "outputs": [
    {
     "data": {
      "text/plain": [
       "(torch.float32, torch.Size([128, 4]))"
      ]
     },
     "execution_count": 33,
     "metadata": {},
     "output_type": "execute_result"
    }
   ],
   "source": [
    "orig_absmax_reshaped.dtype, orig_absmax_reshaped.shape"
   ]
  },
  {
   "cell_type": "code",
   "execution_count": 91,
   "id": "dfd94e13",
   "metadata": {},
   "outputs": [],
   "source": [
    "num_partitions = len(qweight_partitioned)"
   ]
  },
  {
   "cell_type": "code",
   "execution_count": 38,
   "id": "f63f1e09",
   "metadata": {},
   "outputs": [],
   "source": [
    "absmax_partitioned = orig_absmax_reshaped.split(orig_absmax_reshaped.size(1) // num_partitions, dim=1)"
   ]
  },
  {
   "cell_type": "code",
   "execution_count": 39,
   "id": "9d276291",
   "metadata": {},
   "outputs": [
    {
     "name": "stdout",
     "output_type": "stream",
     "text": [
      "torch.Size([128, 2])\n",
      "torch.Size([128, 2])\n"
     ]
    }
   ],
   "source": [
    "for a in absmax_partitioned: print(a.shape)"
   ]
  },
  {
   "cell_type": "code",
   "execution_count": 40,
   "id": "9e9668e7",
   "metadata": {},
   "outputs": [
    {
     "data": {
      "text/plain": [
       "(2, 2)"
      ]
     },
     "execution_count": 40,
     "metadata": {},
     "output_type": "execute_result"
    }
   ],
   "source": [
    "len(qweight_partitioned), len(absmax_partitioned)"
   ]
  },
  {
   "cell_type": "code",
   "execution_count": 41,
   "id": "3e7299d4",
   "metadata": {},
   "outputs": [],
   "source": [
    "quant_state = copy.deepcopy(param.quant_state)"
   ]
  },
  {
   "cell_type": "code",
   "execution_count": 42,
   "id": "80b8bf3c",
   "metadata": {},
   "outputs": [],
   "source": [
    "quant_state.shape = torch.Size([quant_state.shape[0], quant_state.shape[1]//num_partitions])"
   ]
  },
  {
   "cell_type": "code",
   "execution_count": 43,
   "id": "de428e4f",
   "metadata": {},
   "outputs": [
    {
     "data": {
      "text/plain": [
       "torch.Size([128, 128])"
      ]
     },
     "execution_count": 43,
     "metadata": {},
     "output_type": "execute_result"
    }
   ],
   "source": [
    "quant_state.shape"
   ]
  },
  {
   "cell_type": "code",
   "execution_count": 44,
   "id": "241a2d2e",
   "metadata": {},
   "outputs": [],
   "source": [
    "quant_state.absmax = absmax_partitioned[0].contiguous().view(-1)\n",
    "deqweight_part1 = dequantize_4bit(qweight_partitioned[0].contiguous().view(-1,1), quant_state=quant_state)\n",
    "\n",
    "quant_state.absmax = absmax_partitioned[1].contiguous().view(-1)\n",
    "deqweight_part2 = dequantize_4bit(qweight_partitioned[1].contiguous().view(-1,1), quant_state=quant_state)"
   ]
  },
  {
   "cell_type": "code",
   "execution_count": 45,
   "id": "e15c1671-03b7-45a4-b036-72bf3e82c43f",
   "metadata": {},
   "outputs": [
    {
     "data": {
      "text/plain": [
       "(torch.Size([128, 128]), torch.Size([128, 128]))"
      ]
     },
     "execution_count": 45,
     "metadata": {},
     "output_type": "execute_result"
    }
   ],
   "source": [
    "deqweight_part1.shape, deqweight_part2.shape"
   ]
  },
  {
   "cell_type": "code",
   "execution_count": 46,
   "id": "e4085cb3-2b80-492a-b89b-ca259ce950c8",
   "metadata": {
    "scrolled": true
   },
   "outputs": [],
   "source": [
    "# quant_state.as_dict()"
   ]
  },
  {
   "cell_type": "code",
   "execution_count": 47,
   "id": "b63ec5cf",
   "metadata": {},
   "outputs": [
    {
     "data": {
      "text/plain": [
       "torch.Size([128, 256])"
      ]
     },
     "execution_count": 47,
     "metadata": {},
     "output_type": "execute_result"
    }
   ],
   "source": [
    "deqweight.shape"
   ]
  },
  {
   "cell_type": "code",
   "execution_count": 48,
   "id": "978e7a93",
   "metadata": {},
   "outputs": [
    {
     "data": {
      "text/plain": [
       "torch.Size([128, 256])"
      ]
     },
     "execution_count": 48,
     "metadata": {},
     "output_type": "execute_result"
    }
   ],
   "source": [
    "torch.cat([deqweight_part1, deqweight_part2], dim=1).shape"
   ]
  },
  {
   "cell_type": "code",
   "execution_count": 49,
   "id": "3d50215b",
   "metadata": {},
   "outputs": [],
   "source": [
    "assert torch.equal(deqweight, torch.cat([deqweight_part1, deqweight_part2], dim=1))"
   ]
  },
  {
   "cell_type": "code",
   "execution_count": 50,
   "id": "a43bafd4-7b83-4314-9019-a41499be5045",
   "metadata": {},
   "outputs": [],
   "source": [
    "out1 = (x @ deqweight_part2)"
   ]
  },
  {
   "cell_type": "code",
   "execution_count": 51,
   "id": "4f2fe31f-1af2-4712-9356-b9894c2d7e35",
   "metadata": {
    "scrolled": true
   },
   "outputs": [],
   "source": [
    "out2 = bnb.matmul_4bit(x, qweight_partitioned[1].contiguous().view(-1,1), quant_state=quant_state)"
   ]
  },
  {
   "cell_type": "code",
   "execution_count": 52,
   "id": "1bf8b879-052b-48f4-ba5c-d28e1672d3f7",
   "metadata": {},
   "outputs": [],
   "source": [
    "assert torch.equal(out1, out2)"
   ]
  },
  {
   "cell_type": "code",
   "execution_count": 53,
   "id": "af60fb46-97b8-4b65-8f65-ddb11fd02c38",
   "metadata": {},
   "outputs": [
    {
     "data": {
      "text/plain": [
       "torch.Size([4, 128])"
      ]
     },
     "execution_count": 53,
     "metadata": {},
     "output_type": "execute_result"
    }
   ],
   "source": [
    "out2.shape"
   ]
  },
  {
   "cell_type": "markdown",
   "id": "cc17f5f4",
   "metadata": {},
   "source": [
    "### Row Parallel\n",
    "\n",
    "The linear layer is defined as Y = XA + b. A is parallelized along\n",
    "its first dimension and X along its second dimension as:\n",
    "\n",
    "```\n",
    "    -   -\n",
    "    | A_1 |\n",
    "    | .   |\n",
    "A = | .   |        X = [X_1, ..., X_p]\n",
    "    | .   |\n",
    "    | A_p |\n",
    "    -   -\n",
    "```"
   ]
  },
  {
   "cell_type": "code",
   "execution_count": 54,
   "id": "8c3dc1eb",
   "metadata": {},
   "outputs": [],
   "source": [
    "qweight_partitioned = qweight.split(output_size_per_partition, dim=0)"
   ]
  },
  {
   "cell_type": "code",
   "execution_count": 55,
   "id": "98d0add2",
   "metadata": {},
   "outputs": [
    {
     "data": {
      "text/plain": [
       "2"
      ]
     },
     "execution_count": 55,
     "metadata": {},
     "output_type": "execute_result"
    }
   ],
   "source": [
    "num_partitions = len(qweight_partitioned); num_partitions"
   ]
  },
  {
   "cell_type": "code",
   "execution_count": 56,
   "id": "77c5bce7",
   "metadata": {},
   "outputs": [
    {
     "name": "stdout",
     "output_type": "stream",
     "text": [
      "torch.Size([64, 128])\n",
      "torch.Size([64, 128])\n"
     ]
    }
   ],
   "source": [
    "for w in qweight_partitioned: print(w.shape)"
   ]
  },
  {
   "cell_type": "code",
   "execution_count": 57,
   "id": "ed58848e",
   "metadata": {},
   "outputs": [],
   "source": [
    "orig_absmax = param.quant_state.absmax"
   ]
  },
  {
   "cell_type": "code",
   "execution_count": 58,
   "id": "e368bab4-38d8-4ee5-9ca7-8a0943fd7de8",
   "metadata": {},
   "outputs": [],
   "source": [
    "orig_absmax_reshaped = orig_absmax.reshape(input_size, data.size(1) // blocksize)"
   ]
  },
  {
   "cell_type": "code",
   "execution_count": 59,
   "id": "1b155bd0",
   "metadata": {},
   "outputs": [],
   "source": [
    "absmax_partitioned = orig_absmax.split(len(orig_absmax) // num_partitions, dim=0)"
   ]
  },
  {
   "cell_type": "code",
   "execution_count": 60,
   "id": "130b5f5b",
   "metadata": {},
   "outputs": [
    {
     "data": {
      "text/plain": [
       "2"
      ]
     },
     "execution_count": 60,
     "metadata": {},
     "output_type": "execute_result"
    }
   ],
   "source": [
    "len(absmax_partitioned)"
   ]
  },
  {
   "cell_type": "code",
   "execution_count": 61,
   "id": "e64143be",
   "metadata": {},
   "outputs": [],
   "source": [
    "quant_state = copy.deepcopy(param.quant_state)"
   ]
  },
  {
   "cell_type": "code",
   "execution_count": 62,
   "id": "47f91077",
   "metadata": {},
   "outputs": [
    {
     "data": {
      "text/plain": [
       "torch.Size([64, 256])"
      ]
     },
     "execution_count": 62,
     "metadata": {},
     "output_type": "execute_result"
    }
   ],
   "source": [
    "quant_state.shape = torch.Size([quant_state.shape[0]//num_partitions, quant_state.shape[1]]); quant_state.shape"
   ]
  },
  {
   "cell_type": "code",
   "execution_count": 63,
   "id": "128e667c",
   "metadata": {},
   "outputs": [],
   "source": [
    "quant_state.absmax = absmax_partitioned[0].contiguous().view(-1)\n",
    "deqweight_part1 = dequantize_4bit(qweight_partitioned[0].contiguous().view(-1,1), quant_state=quant_state)\n",
    "\n",
    "quant_state.absmax = absmax_partitioned[1].contiguous().view(-1)\n",
    "deqweight_part2 = dequantize_4bit(qweight_partitioned[1].contiguous().view(-1,1), quant_state=quant_state)"
   ]
  },
  {
   "cell_type": "code",
   "execution_count": 64,
   "id": "d735c31b",
   "metadata": {},
   "outputs": [],
   "source": [
    "assert torch.equal(deqweight, torch.cat([deqweight_part1, deqweight_part2], dim=0))"
   ]
  },
  {
   "cell_type": "markdown",
   "id": "0b53f04e-f053-423b-b3f7-88283531858c",
   "metadata": {},
   "source": [
    "### Loading"
   ]
  },
  {
   "cell_type": "code",
   "execution_count": 3,
   "id": "b39e0da2-6d9e-4a0e-bec9-7e4007c8af09",
   "metadata": {},
   "outputs": [
    {
     "name": "stdout",
     "output_type": "stream",
     "text": [
      "INFO 03-29 13:23:10 pynccl_utils.py:13] vLLM is using nccl==2.18.1\n"
     ]
    }
   ],
   "source": [
    "from vllm.model_executor.weight_utils import default_weight_loader, hf_model_weights_iterator"
   ]
  },
  {
   "cell_type": "code",
   "execution_count": 2,
   "id": "6b267b53-a7d4-43af-82e2-ac18b6b66a3b",
   "metadata": {},
   "outputs": [],
   "source": [
    "weights_iterator = hf_model_weights_iterator(\"meta-llama/Llama-2-7b-hf\")"
   ]
  },
  {
   "cell_type": "code",
   "execution_count": 3,
   "id": "9cdc64de-22cd-413c-9b63-e2351e018c8b",
   "metadata": {},
   "outputs": [
    {
     "name": "stdout",
     "output_type": "stream",
     "text": [
      "INFO 03-29 08:48:45 weight_utils.py:177] Using model weights format ['*.safetensors']\n"
     ]
    },
    {
     "data": {
      "application/vnd.jupyter.widget-view+json": {
       "model_id": "fd674cc5dcf7487f923f00c680e6a73e",
       "version_major": 2,
       "version_minor": 0
      },
      "text/plain": [
       "model-00002-of-00002.safetensors:   0%|          | 0.00/3.50G [00:00<?, ?B/s]"
      ]
     },
     "metadata": {},
     "output_type": "display_data"
    },
    {
     "data": {
      "application/vnd.jupyter.widget-view+json": {
       "model_id": "d93c344b17544540b2d5f59dac5af4c8",
       "version_major": 2,
       "version_minor": 0
      },
      "text/plain": [
       "model-00001-of-00002.safetensors:   0%|          | 0.00/9.98G [00:00<?, ?B/s]"
      ]
     },
     "metadata": {},
     "output_type": "display_data"
    }
   ],
   "source": [
    "for name, loaded_weight in weights_iterator: break"
   ]
  },
  {
   "cell_type": "code",
   "execution_count": 5,
   "id": "0853623c-1c05-4599-8b74-26e55d33a310",
   "metadata": {},
   "outputs": [
    {
     "data": {
      "text/plain": [
       "('model.embed_tokens.weight',\n",
       " tensor([[ 1.2517e-06, -1.7881e-06, -4.3511e-06,  ...,  8.9407e-07,\n",
       "          -6.5565e-06,  8.9407e-07],\n",
       "         [ 1.8616e-03, -3.3722e-03,  3.9864e-04,  ..., -8.3008e-03,\n",
       "           2.5787e-03, -3.9368e-03],\n",
       "         [ 1.0986e-02,  9.8877e-03, -5.0964e-03,  ...,  2.5177e-03,\n",
       "           7.7057e-04, -5.0049e-03],\n",
       "         ...,\n",
       "         [-1.3977e-02, -2.7313e-03, -1.9897e-02,  ..., -1.0437e-02,\n",
       "           9.5825e-03, -1.8005e-03],\n",
       "         [-1.0742e-02,  9.3384e-03,  1.2939e-02,  ..., -3.3203e-02,\n",
       "          -1.6357e-02,  3.3875e-03],\n",
       "         [-8.3008e-03, -4.0588e-03, -1.1063e-03,  ...,  3.4790e-03,\n",
       "          -1.2939e-02,  3.1948e-05]], dtype=torch.float16))"
      ]
     },
     "execution_count": 5,
     "metadata": {},
     "output_type": "execute_result"
    }
   ],
   "source": [
    "name, loaded_weight"
   ]
  },
  {
   "cell_type": "code",
   "execution_count": 29,
   "id": "b31e4388-af56-49ee-b81e-a4d2a333bac4",
   "metadata": {},
   "outputs": [],
   "source": [
    "weights_iterator = hf_model_weights_iterator(\"TheBloke/CodeUp-Alpha-13B-HF-AWQ\")"
   ]
  },
  {
   "cell_type": "code",
   "execution_count": 32,
   "id": "6b23f97a-ad91-434b-aa63-2fa548c0193d",
   "metadata": {
    "scrolled": true
   },
   "outputs": [
    {
     "name": "stdout",
     "output_type": "stream",
     "text": [
      "model.layers.0.mlp.down_proj.qzeros\n",
      "model.layers.0.mlp.down_proj.scales\n",
      "model.layers.0.mlp.gate_proj.qzeros\n",
      "model.layers.0.mlp.gate_proj.scales\n",
      "model.layers.0.mlp.up_proj.qzeros\n",
      "model.layers.0.mlp.up_proj.scales\n",
      "model.layers.0.self_attn.k_proj.qzeros\n",
      "model.layers.0.self_attn.k_proj.scales\n",
      "model.layers.0.self_attn.o_proj.qzeros\n",
      "model.layers.0.self_attn.o_proj.scales\n",
      "model.layers.0.self_attn.q_proj.qzeros\n",
      "model.layers.0.self_attn.q_proj.scales\n",
      "model.layers.0.self_attn.v_proj.qzeros\n",
      "model.layers.0.self_attn.v_proj.scales\n",
      "model.layers.1.mlp.down_proj.qzeros\n",
      "model.layers.1.mlp.down_proj.scales\n",
      "model.layers.1.mlp.gate_proj.qzeros\n",
      "model.layers.1.mlp.gate_proj.scales\n",
      "model.layers.1.mlp.up_proj.qzeros\n",
      "model.layers.1.mlp.up_proj.scales\n",
      "model.layers.1.self_attn.k_proj.qzeros\n",
      "model.layers.1.self_attn.k_proj.scales\n",
      "model.layers.1.self_attn.o_proj.qzeros\n",
      "model.layers.1.self_attn.o_proj.scales\n",
      "model.layers.1.self_attn.q_proj.qzeros\n",
      "model.layers.1.self_attn.q_proj.scales\n",
      "model.layers.1.self_attn.v_proj.qzeros\n",
      "model.layers.1.self_attn.v_proj.scales\n",
      "model.layers.10.mlp.down_proj.qzeros\n",
      "model.layers.10.mlp.down_proj.scales\n",
      "model.layers.10.mlp.gate_proj.qzeros\n",
      "model.layers.10.mlp.gate_proj.scales\n",
      "model.layers.10.mlp.up_proj.qzeros\n",
      "model.layers.10.mlp.up_proj.scales\n",
      "model.layers.10.self_attn.k_proj.qzeros\n",
      "model.layers.10.self_attn.k_proj.scales\n",
      "model.layers.10.self_attn.o_proj.qzeros\n",
      "model.layers.10.self_attn.o_proj.scales\n",
      "model.layers.10.self_attn.q_proj.qzeros\n",
      "model.layers.10.self_attn.q_proj.scales\n",
      "model.layers.10.self_attn.v_proj.qzeros\n",
      "model.layers.10.self_attn.v_proj.scales\n",
      "model.layers.11.mlp.down_proj.qzeros\n",
      "model.layers.11.mlp.down_proj.scales\n",
      "model.layers.11.mlp.gate_proj.qzeros\n",
      "model.layers.11.mlp.gate_proj.scales\n",
      "model.layers.11.mlp.up_proj.qzeros\n",
      "model.layers.11.mlp.up_proj.scales\n",
      "model.layers.11.self_attn.k_proj.qzeros\n",
      "model.layers.11.self_attn.k_proj.scales\n",
      "model.layers.11.self_attn.o_proj.qzeros\n",
      "model.layers.11.self_attn.o_proj.scales\n",
      "model.layers.11.self_attn.q_proj.qzeros\n",
      "model.layers.11.self_attn.q_proj.scales\n",
      "model.layers.11.self_attn.v_proj.qzeros\n",
      "model.layers.11.self_attn.v_proj.scales\n",
      "model.layers.12.mlp.down_proj.qzeros\n",
      "model.layers.12.mlp.down_proj.scales\n",
      "model.layers.12.mlp.gate_proj.qzeros\n",
      "model.layers.12.mlp.gate_proj.scales\n",
      "model.layers.12.mlp.up_proj.qzeros\n",
      "model.layers.12.mlp.up_proj.scales\n",
      "model.layers.12.self_attn.k_proj.qzeros\n",
      "model.layers.12.self_attn.k_proj.scales\n",
      "model.layers.12.self_attn.o_proj.qzeros\n",
      "model.layers.12.self_attn.o_proj.scales\n",
      "model.layers.12.self_attn.q_proj.qzeros\n",
      "model.layers.12.self_attn.q_proj.scales\n",
      "model.layers.12.self_attn.v_proj.qzeros\n",
      "model.layers.12.self_attn.v_proj.scales\n",
      "model.layers.13.mlp.down_proj.qzeros\n",
      "model.layers.13.mlp.down_proj.scales\n",
      "model.layers.13.mlp.gate_proj.qzeros\n",
      "model.layers.13.mlp.gate_proj.scales\n",
      "model.layers.13.mlp.up_proj.qzeros\n",
      "model.layers.13.mlp.up_proj.scales\n",
      "model.layers.13.self_attn.k_proj.qzeros\n",
      "model.layers.13.self_attn.k_proj.scales\n",
      "model.layers.13.self_attn.o_proj.qzeros\n",
      "model.layers.13.self_attn.o_proj.scales\n",
      "model.layers.13.self_attn.q_proj.qzeros\n",
      "model.layers.13.self_attn.q_proj.scales\n",
      "model.layers.13.self_attn.v_proj.qzeros\n",
      "model.layers.13.self_attn.v_proj.scales\n",
      "model.layers.14.mlp.down_proj.qzeros\n",
      "model.layers.14.mlp.down_proj.scales\n",
      "model.layers.14.mlp.gate_proj.qzeros\n",
      "model.layers.14.mlp.gate_proj.scales\n",
      "model.layers.14.mlp.up_proj.qzeros\n",
      "model.layers.14.mlp.up_proj.scales\n",
      "model.layers.14.self_attn.k_proj.qzeros\n",
      "model.layers.14.self_attn.k_proj.scales\n",
      "model.layers.14.self_attn.o_proj.qzeros\n",
      "model.layers.14.self_attn.o_proj.scales\n",
      "model.layers.14.self_attn.q_proj.qzeros\n",
      "model.layers.14.self_attn.q_proj.scales\n",
      "model.layers.14.self_attn.v_proj.qzeros\n",
      "model.layers.14.self_attn.v_proj.scales\n",
      "model.layers.15.mlp.down_proj.qzeros\n",
      "model.layers.15.mlp.down_proj.scales\n",
      "model.layers.15.mlp.gate_proj.qzeros\n",
      "model.layers.15.mlp.gate_proj.scales\n",
      "model.layers.15.mlp.up_proj.qzeros\n",
      "model.layers.15.mlp.up_proj.scales\n",
      "model.layers.15.self_attn.k_proj.qzeros\n",
      "model.layers.15.self_attn.k_proj.scales\n",
      "model.layers.15.self_attn.o_proj.qzeros\n",
      "model.layers.15.self_attn.o_proj.scales\n",
      "model.layers.15.self_attn.q_proj.qzeros\n",
      "model.layers.15.self_attn.q_proj.scales\n",
      "model.layers.15.self_attn.v_proj.qzeros\n",
      "model.layers.15.self_attn.v_proj.scales\n",
      "model.layers.16.mlp.down_proj.qzeros\n",
      "model.layers.16.mlp.down_proj.scales\n",
      "model.layers.16.mlp.gate_proj.qzeros\n",
      "model.layers.16.mlp.gate_proj.scales\n",
      "model.layers.16.mlp.up_proj.qzeros\n",
      "model.layers.16.mlp.up_proj.scales\n",
      "model.layers.16.self_attn.k_proj.qzeros\n",
      "model.layers.16.self_attn.k_proj.scales\n",
      "model.layers.16.self_attn.o_proj.qzeros\n",
      "model.layers.16.self_attn.o_proj.scales\n",
      "model.layers.16.self_attn.q_proj.qzeros\n",
      "model.layers.16.self_attn.q_proj.scales\n",
      "model.layers.16.self_attn.v_proj.qzeros\n",
      "model.layers.16.self_attn.v_proj.scales\n",
      "model.layers.17.mlp.down_proj.qzeros\n",
      "model.layers.17.mlp.down_proj.scales\n",
      "model.layers.17.mlp.gate_proj.qzeros\n",
      "model.layers.17.mlp.gate_proj.scales\n",
      "model.layers.17.mlp.up_proj.qzeros\n",
      "model.layers.17.mlp.up_proj.scales\n",
      "model.layers.17.self_attn.k_proj.qzeros\n",
      "model.layers.17.self_attn.k_proj.scales\n",
      "model.layers.17.self_attn.o_proj.qzeros\n",
      "model.layers.17.self_attn.o_proj.scales\n",
      "model.layers.17.self_attn.q_proj.qzeros\n",
      "model.layers.17.self_attn.q_proj.scales\n",
      "model.layers.17.self_attn.v_proj.qzeros\n",
      "model.layers.17.self_attn.v_proj.scales\n",
      "model.layers.18.mlp.down_proj.qzeros\n",
      "model.layers.18.mlp.down_proj.scales\n",
      "model.layers.18.mlp.gate_proj.qzeros\n",
      "model.layers.18.mlp.gate_proj.scales\n",
      "model.layers.18.mlp.up_proj.qzeros\n",
      "model.layers.18.mlp.up_proj.scales\n",
      "model.layers.18.self_attn.k_proj.qzeros\n",
      "model.layers.18.self_attn.k_proj.scales\n",
      "model.layers.18.self_attn.o_proj.qzeros\n",
      "model.layers.18.self_attn.o_proj.scales\n",
      "model.layers.18.self_attn.q_proj.qzeros\n",
      "model.layers.18.self_attn.q_proj.scales\n",
      "model.layers.18.self_attn.v_proj.qzeros\n",
      "model.layers.18.self_attn.v_proj.scales\n",
      "model.layers.19.mlp.down_proj.qzeros\n",
      "model.layers.19.mlp.down_proj.scales\n",
      "model.layers.19.mlp.gate_proj.qzeros\n",
      "model.layers.19.mlp.gate_proj.scales\n",
      "model.layers.19.mlp.up_proj.qzeros\n",
      "model.layers.19.mlp.up_proj.scales\n",
      "model.layers.19.self_attn.k_proj.qzeros\n",
      "model.layers.19.self_attn.k_proj.scales\n",
      "model.layers.19.self_attn.o_proj.qzeros\n",
      "model.layers.19.self_attn.o_proj.scales\n",
      "model.layers.19.self_attn.q_proj.qzeros\n",
      "model.layers.19.self_attn.q_proj.scales\n",
      "model.layers.19.self_attn.v_proj.qzeros\n",
      "model.layers.19.self_attn.v_proj.scales\n",
      "model.layers.2.mlp.down_proj.qzeros\n",
      "model.layers.2.mlp.down_proj.scales\n",
      "model.layers.2.mlp.gate_proj.qzeros\n",
      "model.layers.2.mlp.gate_proj.scales\n",
      "model.layers.2.mlp.up_proj.qzeros\n",
      "model.layers.2.mlp.up_proj.scales\n",
      "model.layers.2.self_attn.k_proj.qzeros\n",
      "model.layers.2.self_attn.k_proj.scales\n",
      "model.layers.2.self_attn.o_proj.qzeros\n",
      "model.layers.2.self_attn.o_proj.scales\n",
      "model.layers.2.self_attn.q_proj.qzeros\n",
      "model.layers.2.self_attn.q_proj.scales\n",
      "model.layers.2.self_attn.v_proj.qzeros\n",
      "model.layers.2.self_attn.v_proj.scales\n",
      "model.layers.20.mlp.down_proj.qzeros\n",
      "model.layers.20.mlp.down_proj.scales\n",
      "model.layers.20.mlp.gate_proj.qzeros\n",
      "model.layers.20.mlp.gate_proj.scales\n",
      "model.layers.20.mlp.up_proj.qzeros\n",
      "model.layers.20.mlp.up_proj.scales\n",
      "model.layers.20.self_attn.k_proj.qzeros\n",
      "model.layers.20.self_attn.k_proj.scales\n",
      "model.layers.20.self_attn.o_proj.qzeros\n",
      "model.layers.20.self_attn.o_proj.scales\n",
      "model.layers.20.self_attn.q_proj.qzeros\n",
      "model.layers.20.self_attn.q_proj.scales\n",
      "model.layers.20.self_attn.v_proj.qzeros\n",
      "model.layers.20.self_attn.v_proj.scales\n",
      "model.layers.21.mlp.down_proj.qzeros\n",
      "model.layers.21.mlp.down_proj.scales\n",
      "model.layers.21.mlp.gate_proj.qzeros\n",
      "model.layers.21.mlp.gate_proj.scales\n",
      "model.layers.21.mlp.up_proj.qzeros\n",
      "model.layers.21.mlp.up_proj.scales\n",
      "model.layers.21.self_attn.k_proj.qzeros\n",
      "model.layers.21.self_attn.k_proj.scales\n",
      "model.layers.21.self_attn.o_proj.qzeros\n",
      "model.layers.21.self_attn.o_proj.scales\n",
      "model.layers.21.self_attn.q_proj.qzeros\n",
      "model.layers.21.self_attn.q_proj.scales\n",
      "model.layers.21.self_attn.v_proj.qzeros\n",
      "model.layers.21.self_attn.v_proj.scales\n",
      "model.layers.22.mlp.down_proj.qzeros\n",
      "model.layers.22.mlp.down_proj.scales\n",
      "model.layers.22.mlp.gate_proj.qzeros\n",
      "model.layers.22.mlp.gate_proj.scales\n",
      "model.layers.22.mlp.up_proj.qzeros\n",
      "model.layers.22.mlp.up_proj.scales\n",
      "model.layers.22.self_attn.k_proj.qzeros\n",
      "model.layers.22.self_attn.k_proj.scales\n",
      "model.layers.22.self_attn.o_proj.qzeros\n",
      "model.layers.22.self_attn.o_proj.scales\n",
      "model.layers.22.self_attn.q_proj.qzeros\n",
      "model.layers.22.self_attn.q_proj.scales\n",
      "model.layers.22.self_attn.v_proj.qzeros\n",
      "model.layers.22.self_attn.v_proj.scales\n",
      "model.layers.23.mlp.down_proj.qzeros\n",
      "model.layers.23.mlp.down_proj.scales\n",
      "model.layers.23.mlp.gate_proj.qzeros\n",
      "model.layers.23.mlp.gate_proj.scales\n",
      "model.layers.23.mlp.up_proj.qzeros\n",
      "model.layers.23.mlp.up_proj.scales\n",
      "model.layers.23.self_attn.k_proj.qzeros\n",
      "model.layers.23.self_attn.k_proj.scales\n",
      "model.layers.23.self_attn.o_proj.qzeros\n",
      "model.layers.23.self_attn.o_proj.scales\n",
      "model.layers.23.self_attn.q_proj.qzeros\n",
      "model.layers.23.self_attn.q_proj.scales\n",
      "model.layers.23.self_attn.v_proj.qzeros\n",
      "model.layers.23.self_attn.v_proj.scales\n",
      "model.layers.24.mlp.down_proj.qzeros\n",
      "model.layers.24.mlp.down_proj.scales\n",
      "model.layers.24.mlp.gate_proj.qzeros\n",
      "model.layers.24.mlp.gate_proj.scales\n",
      "model.layers.24.mlp.up_proj.qzeros\n",
      "model.layers.24.mlp.up_proj.scales\n",
      "model.layers.24.self_attn.k_proj.qzeros\n",
      "model.layers.24.self_attn.k_proj.scales\n",
      "model.layers.24.self_attn.o_proj.qzeros\n",
      "model.layers.24.self_attn.o_proj.scales\n",
      "model.layers.24.self_attn.q_proj.qzeros\n",
      "model.layers.24.self_attn.q_proj.scales\n",
      "model.layers.24.self_attn.v_proj.qzeros\n",
      "model.layers.24.self_attn.v_proj.scales\n",
      "model.layers.25.mlp.down_proj.qzeros\n",
      "model.layers.25.mlp.down_proj.scales\n",
      "model.layers.25.mlp.gate_proj.qzeros\n",
      "model.layers.25.mlp.gate_proj.scales\n",
      "model.layers.25.mlp.up_proj.qzeros\n",
      "model.layers.25.mlp.up_proj.scales\n",
      "model.layers.25.self_attn.k_proj.qzeros\n",
      "model.layers.25.self_attn.k_proj.scales\n",
      "model.layers.25.self_attn.o_proj.qzeros\n",
      "model.layers.25.self_attn.o_proj.scales\n",
      "model.layers.25.self_attn.q_proj.qzeros\n",
      "model.layers.25.self_attn.q_proj.scales\n",
      "model.layers.25.self_attn.v_proj.qzeros\n",
      "model.layers.25.self_attn.v_proj.scales\n",
      "model.layers.26.mlp.down_proj.qzeros\n",
      "model.layers.26.mlp.down_proj.scales\n",
      "model.layers.26.mlp.gate_proj.qzeros\n",
      "model.layers.26.mlp.gate_proj.scales\n",
      "model.layers.26.mlp.up_proj.qzeros\n",
      "model.layers.26.mlp.up_proj.scales\n",
      "model.layers.26.self_attn.k_proj.qzeros\n",
      "model.layers.26.self_attn.k_proj.scales\n",
      "model.layers.26.self_attn.o_proj.qzeros\n",
      "model.layers.26.self_attn.o_proj.scales\n",
      "model.layers.26.self_attn.q_proj.qzeros\n",
      "model.layers.26.self_attn.q_proj.scales\n",
      "model.layers.26.self_attn.v_proj.qzeros\n",
      "model.layers.26.self_attn.v_proj.scales\n",
      "model.layers.27.mlp.down_proj.qzeros\n",
      "model.layers.27.mlp.down_proj.scales\n",
      "model.layers.27.mlp.gate_proj.qzeros\n",
      "model.layers.27.mlp.gate_proj.scales\n",
      "model.layers.27.mlp.up_proj.qzeros\n",
      "model.layers.27.mlp.up_proj.scales\n",
      "model.layers.27.self_attn.k_proj.qzeros\n",
      "model.layers.27.self_attn.k_proj.scales\n",
      "model.layers.27.self_attn.o_proj.qzeros\n",
      "model.layers.27.self_attn.o_proj.scales\n",
      "model.layers.27.self_attn.q_proj.qzeros\n",
      "model.layers.27.self_attn.q_proj.scales\n",
      "model.layers.27.self_attn.v_proj.qzeros\n",
      "model.layers.27.self_attn.v_proj.scales\n",
      "model.layers.28.mlp.down_proj.qzeros\n",
      "model.layers.28.mlp.down_proj.scales\n",
      "model.layers.28.mlp.gate_proj.qzeros\n",
      "model.layers.28.mlp.gate_proj.scales\n",
      "model.layers.28.mlp.up_proj.qzeros\n",
      "model.layers.28.mlp.up_proj.scales\n",
      "model.layers.28.self_attn.k_proj.qzeros\n",
      "model.layers.28.self_attn.k_proj.scales\n",
      "model.layers.28.self_attn.o_proj.qzeros\n",
      "model.layers.28.self_attn.o_proj.scales\n",
      "model.layers.28.self_attn.q_proj.qzeros\n",
      "model.layers.28.self_attn.q_proj.scales\n",
      "model.layers.28.self_attn.v_proj.qzeros\n",
      "model.layers.28.self_attn.v_proj.scales\n",
      "model.layers.29.mlp.down_proj.qzeros\n",
      "model.layers.29.mlp.down_proj.scales\n",
      "model.layers.29.mlp.gate_proj.qzeros\n",
      "model.layers.29.mlp.gate_proj.scales\n",
      "model.layers.29.mlp.up_proj.qzeros\n",
      "model.layers.29.mlp.up_proj.scales\n",
      "model.layers.29.self_attn.k_proj.qzeros\n",
      "model.layers.29.self_attn.k_proj.scales\n",
      "model.layers.29.self_attn.o_proj.qzeros\n",
      "model.layers.29.self_attn.o_proj.scales\n",
      "model.layers.29.self_attn.q_proj.qzeros\n",
      "model.layers.29.self_attn.q_proj.scales\n",
      "model.layers.29.self_attn.v_proj.qzeros\n",
      "model.layers.29.self_attn.v_proj.scales\n",
      "model.layers.3.mlp.down_proj.qzeros\n",
      "model.layers.3.mlp.down_proj.scales\n",
      "model.layers.3.mlp.gate_proj.qzeros\n",
      "model.layers.3.mlp.gate_proj.scales\n",
      "model.layers.3.mlp.up_proj.qzeros\n",
      "model.layers.3.mlp.up_proj.scales\n",
      "model.layers.3.self_attn.k_proj.qzeros\n",
      "model.layers.3.self_attn.k_proj.scales\n",
      "model.layers.3.self_attn.o_proj.qzeros\n",
      "model.layers.3.self_attn.o_proj.scales\n",
      "model.layers.3.self_attn.q_proj.qzeros\n",
      "model.layers.3.self_attn.q_proj.scales\n",
      "model.layers.3.self_attn.v_proj.qzeros\n",
      "model.layers.3.self_attn.v_proj.scales\n",
      "model.layers.30.mlp.down_proj.qzeros\n",
      "model.layers.30.mlp.down_proj.scales\n",
      "model.layers.30.mlp.gate_proj.qzeros\n",
      "model.layers.30.mlp.gate_proj.scales\n",
      "model.layers.30.mlp.up_proj.qzeros\n",
      "model.layers.30.mlp.up_proj.scales\n",
      "model.layers.30.self_attn.k_proj.qzeros\n",
      "model.layers.30.self_attn.k_proj.scales\n",
      "model.layers.30.self_attn.o_proj.qzeros\n",
      "model.layers.30.self_attn.o_proj.scales\n",
      "model.layers.30.self_attn.q_proj.qzeros\n",
      "model.layers.30.self_attn.q_proj.scales\n",
      "model.layers.30.self_attn.v_proj.qzeros\n",
      "model.layers.30.self_attn.v_proj.scales\n",
      "model.layers.31.mlp.down_proj.qzeros\n",
      "model.layers.31.mlp.down_proj.scales\n",
      "model.layers.31.mlp.gate_proj.qzeros\n",
      "model.layers.31.mlp.gate_proj.scales\n",
      "model.layers.31.mlp.up_proj.qzeros\n",
      "model.layers.31.mlp.up_proj.scales\n",
      "model.layers.31.self_attn.k_proj.qzeros\n",
      "model.layers.31.self_attn.k_proj.scales\n",
      "model.layers.31.self_attn.o_proj.qzeros\n",
      "model.layers.31.self_attn.o_proj.scales\n",
      "model.layers.31.self_attn.q_proj.qzeros\n",
      "model.layers.31.self_attn.q_proj.scales\n",
      "model.layers.31.self_attn.v_proj.qzeros\n",
      "model.layers.31.self_attn.v_proj.scales\n",
      "model.layers.32.mlp.down_proj.qzeros\n",
      "model.layers.32.mlp.down_proj.scales\n",
      "model.layers.32.mlp.gate_proj.qzeros\n",
      "model.layers.32.mlp.gate_proj.scales\n",
      "model.layers.32.mlp.up_proj.qzeros\n",
      "model.layers.32.mlp.up_proj.scales\n",
      "model.layers.32.self_attn.k_proj.qzeros\n",
      "model.layers.32.self_attn.k_proj.scales\n",
      "model.layers.32.self_attn.o_proj.qzeros\n",
      "model.layers.32.self_attn.o_proj.scales\n",
      "model.layers.32.self_attn.q_proj.qzeros\n",
      "model.layers.32.self_attn.q_proj.scales\n",
      "model.layers.32.self_attn.v_proj.qzeros\n",
      "model.layers.32.self_attn.v_proj.scales\n",
      "model.layers.33.mlp.down_proj.qzeros\n",
      "model.layers.33.mlp.down_proj.scales\n",
      "model.layers.33.mlp.gate_proj.qzeros\n",
      "model.layers.33.mlp.gate_proj.scales\n",
      "model.layers.33.mlp.up_proj.qzeros\n",
      "model.layers.33.mlp.up_proj.scales\n",
      "model.layers.33.self_attn.k_proj.qzeros\n",
      "model.layers.33.self_attn.k_proj.scales\n",
      "model.layers.33.self_attn.o_proj.qzeros\n",
      "model.layers.33.self_attn.o_proj.scales\n",
      "model.layers.33.self_attn.q_proj.qzeros\n",
      "model.layers.33.self_attn.q_proj.scales\n",
      "model.layers.33.self_attn.v_proj.qzeros\n",
      "model.layers.33.self_attn.v_proj.scales\n",
      "model.layers.34.mlp.down_proj.qzeros\n",
      "model.layers.34.mlp.down_proj.scales\n",
      "model.layers.34.mlp.gate_proj.qzeros\n",
      "model.layers.34.mlp.gate_proj.scales\n",
      "model.layers.34.mlp.up_proj.qzeros\n",
      "model.layers.34.mlp.up_proj.scales\n",
      "model.layers.34.self_attn.k_proj.qzeros\n",
      "model.layers.34.self_attn.k_proj.scales\n",
      "model.layers.34.self_attn.o_proj.qzeros\n",
      "model.layers.34.self_attn.o_proj.scales\n",
      "model.layers.34.self_attn.q_proj.qzeros\n",
      "model.layers.34.self_attn.q_proj.scales\n",
      "model.layers.34.self_attn.v_proj.qzeros\n",
      "model.layers.34.self_attn.v_proj.scales\n",
      "model.layers.35.mlp.down_proj.qzeros\n",
      "model.layers.35.mlp.down_proj.scales\n",
      "model.layers.35.mlp.gate_proj.qzeros\n",
      "model.layers.35.mlp.gate_proj.scales\n",
      "model.layers.35.mlp.up_proj.qzeros\n",
      "model.layers.35.mlp.up_proj.scales\n",
      "model.layers.35.self_attn.k_proj.qzeros\n",
      "model.layers.35.self_attn.k_proj.scales\n",
      "model.layers.35.self_attn.o_proj.qzeros\n",
      "model.layers.35.self_attn.o_proj.scales\n",
      "model.layers.35.self_attn.q_proj.qzeros\n",
      "model.layers.35.self_attn.q_proj.scales\n",
      "model.layers.35.self_attn.v_proj.qzeros\n",
      "model.layers.35.self_attn.v_proj.scales\n",
      "model.layers.36.mlp.down_proj.qzeros\n",
      "model.layers.36.mlp.down_proj.scales\n",
      "model.layers.36.mlp.gate_proj.qzeros\n",
      "model.layers.36.mlp.gate_proj.scales\n",
      "model.layers.36.mlp.up_proj.qzeros\n",
      "model.layers.36.mlp.up_proj.scales\n",
      "model.layers.36.self_attn.k_proj.qzeros\n",
      "model.layers.36.self_attn.k_proj.scales\n",
      "model.layers.36.self_attn.o_proj.qzeros\n",
      "model.layers.36.self_attn.o_proj.scales\n",
      "model.layers.36.self_attn.q_proj.qzeros\n",
      "model.layers.36.self_attn.q_proj.scales\n",
      "model.layers.36.self_attn.v_proj.qzeros\n",
      "model.layers.36.self_attn.v_proj.scales\n",
      "model.layers.37.mlp.down_proj.qzeros\n",
      "model.layers.37.mlp.down_proj.scales\n",
      "model.layers.37.mlp.gate_proj.qzeros\n",
      "model.layers.37.mlp.gate_proj.scales\n",
      "model.layers.37.mlp.up_proj.qzeros\n",
      "model.layers.37.mlp.up_proj.scales\n",
      "model.layers.37.self_attn.k_proj.qzeros\n",
      "model.layers.37.self_attn.k_proj.scales\n",
      "model.layers.37.self_attn.o_proj.qzeros\n",
      "model.layers.37.self_attn.o_proj.scales\n",
      "model.layers.37.self_attn.q_proj.qzeros\n",
      "model.layers.37.self_attn.q_proj.scales\n",
      "model.layers.37.self_attn.v_proj.qzeros\n",
      "model.layers.37.self_attn.v_proj.scales\n",
      "model.layers.38.mlp.down_proj.qzeros\n",
      "model.layers.38.mlp.down_proj.scales\n",
      "model.layers.38.mlp.gate_proj.qzeros\n",
      "model.layers.38.mlp.gate_proj.scales\n",
      "model.layers.38.mlp.up_proj.qzeros\n",
      "model.layers.38.mlp.up_proj.scales\n",
      "model.layers.38.self_attn.k_proj.qzeros\n",
      "model.layers.38.self_attn.k_proj.scales\n",
      "model.layers.38.self_attn.o_proj.qzeros\n",
      "model.layers.38.self_attn.o_proj.scales\n",
      "model.layers.38.self_attn.q_proj.qzeros\n",
      "model.layers.38.self_attn.q_proj.scales\n",
      "model.layers.38.self_attn.v_proj.qzeros\n",
      "model.layers.38.self_attn.v_proj.scales\n",
      "model.layers.39.mlp.down_proj.qzeros\n",
      "model.layers.39.mlp.down_proj.scales\n",
      "model.layers.39.mlp.gate_proj.qzeros\n",
      "model.layers.39.mlp.gate_proj.scales\n",
      "model.layers.39.mlp.up_proj.qzeros\n",
      "model.layers.39.mlp.up_proj.scales\n",
      "model.layers.39.self_attn.k_proj.qzeros\n",
      "model.layers.39.self_attn.k_proj.scales\n",
      "model.layers.39.self_attn.o_proj.qzeros\n",
      "model.layers.39.self_attn.o_proj.scales\n",
      "model.layers.39.self_attn.q_proj.qzeros\n",
      "model.layers.39.self_attn.q_proj.scales\n",
      "model.layers.39.self_attn.v_proj.qzeros\n",
      "model.layers.39.self_attn.v_proj.scales\n",
      "model.layers.4.mlp.down_proj.qzeros\n",
      "model.layers.4.mlp.down_proj.scales\n",
      "model.layers.4.mlp.gate_proj.qzeros\n",
      "model.layers.4.mlp.gate_proj.scales\n",
      "model.layers.4.mlp.up_proj.qzeros\n",
      "model.layers.4.mlp.up_proj.scales\n",
      "model.layers.4.self_attn.k_proj.qzeros\n",
      "model.layers.4.self_attn.k_proj.scales\n",
      "model.layers.4.self_attn.o_proj.qzeros\n",
      "model.layers.4.self_attn.o_proj.scales\n",
      "model.layers.4.self_attn.q_proj.qzeros\n",
      "model.layers.4.self_attn.q_proj.scales\n",
      "model.layers.4.self_attn.v_proj.qzeros\n",
      "model.layers.4.self_attn.v_proj.scales\n",
      "model.layers.5.mlp.down_proj.qzeros\n",
      "model.layers.5.mlp.down_proj.scales\n",
      "model.layers.5.mlp.gate_proj.qzeros\n",
      "model.layers.5.mlp.gate_proj.scales\n",
      "model.layers.5.mlp.up_proj.qzeros\n",
      "model.layers.5.mlp.up_proj.scales\n",
      "model.layers.5.self_attn.k_proj.qzeros\n",
      "model.layers.5.self_attn.k_proj.scales\n",
      "model.layers.5.self_attn.o_proj.qzeros\n",
      "model.layers.5.self_attn.o_proj.scales\n",
      "model.layers.5.self_attn.q_proj.qzeros\n",
      "model.layers.5.self_attn.q_proj.scales\n",
      "model.layers.5.self_attn.v_proj.qzeros\n",
      "model.layers.5.self_attn.v_proj.scales\n",
      "model.layers.6.mlp.down_proj.qzeros\n",
      "model.layers.6.mlp.down_proj.scales\n",
      "model.layers.6.mlp.gate_proj.qzeros\n",
      "model.layers.6.mlp.gate_proj.scales\n",
      "model.layers.6.mlp.up_proj.qzeros\n",
      "model.layers.6.mlp.up_proj.scales\n",
      "model.layers.6.self_attn.k_proj.qzeros\n",
      "model.layers.6.self_attn.k_proj.scales\n",
      "model.layers.6.self_attn.o_proj.qzeros\n",
      "model.layers.6.self_attn.o_proj.scales\n",
      "model.layers.6.self_attn.q_proj.qzeros\n",
      "model.layers.6.self_attn.q_proj.scales\n",
      "model.layers.6.self_attn.v_proj.qzeros\n",
      "model.layers.6.self_attn.v_proj.scales\n",
      "model.layers.7.mlp.down_proj.qzeros\n",
      "model.layers.7.mlp.down_proj.scales\n",
      "model.layers.7.mlp.gate_proj.qzeros\n",
      "model.layers.7.mlp.gate_proj.scales\n",
      "model.layers.7.mlp.up_proj.qzeros\n",
      "model.layers.7.mlp.up_proj.scales\n",
      "model.layers.7.self_attn.k_proj.qzeros\n",
      "model.layers.7.self_attn.k_proj.scales\n",
      "model.layers.7.self_attn.o_proj.qzeros\n",
      "model.layers.7.self_attn.o_proj.scales\n",
      "model.layers.7.self_attn.q_proj.qzeros\n",
      "model.layers.7.self_attn.q_proj.scales\n",
      "model.layers.7.self_attn.v_proj.qzeros\n",
      "model.layers.7.self_attn.v_proj.scales\n",
      "model.layers.8.mlp.down_proj.qzeros\n",
      "model.layers.8.mlp.down_proj.scales\n",
      "model.layers.8.mlp.gate_proj.qzeros\n",
      "model.layers.8.mlp.gate_proj.scales\n",
      "model.layers.8.mlp.up_proj.qzeros\n",
      "model.layers.8.mlp.up_proj.scales\n",
      "model.layers.8.self_attn.k_proj.qzeros\n",
      "model.layers.8.self_attn.k_proj.scales\n",
      "model.layers.8.self_attn.o_proj.qzeros\n",
      "model.layers.8.self_attn.o_proj.scales\n",
      "model.layers.8.self_attn.q_proj.qzeros\n",
      "model.layers.8.self_attn.q_proj.scales\n",
      "model.layers.8.self_attn.v_proj.qzeros\n",
      "model.layers.8.self_attn.v_proj.scales\n",
      "model.layers.9.mlp.down_proj.qzeros\n",
      "model.layers.9.mlp.down_proj.scales\n",
      "model.layers.9.mlp.gate_proj.qzeros\n",
      "model.layers.9.mlp.gate_proj.scales\n",
      "model.layers.9.mlp.up_proj.qzeros\n",
      "model.layers.9.mlp.up_proj.scales\n",
      "model.layers.9.self_attn.k_proj.qzeros\n",
      "model.layers.9.self_attn.k_proj.scales\n",
      "model.layers.9.self_attn.o_proj.qzeros\n",
      "model.layers.9.self_attn.o_proj.scales\n",
      "model.layers.9.self_attn.q_proj.qzeros\n",
      "model.layers.9.self_attn.q_proj.scales\n",
      "model.layers.9.self_attn.v_proj.qzeros\n",
      "model.layers.9.self_attn.v_proj.scales\n"
     ]
    }
   ],
   "source": [
    "for name, loaded_weight in weights_iterator: \n",
    "    if 'scales' in name or 'zeros' in name:\n",
    "        print(name)"
   ]
  },
  {
   "cell_type": "markdown",
   "id": "9b9098d1-2374-4060-b8fe-60052c04110e",
   "metadata": {},
   "source": [
    "### Create Quantized Model Files"
   ]
  },
  {
   "cell_type": "code",
   "execution_count": 53,
   "id": "e7cfc1da-2147-4722-a766-ee216a29ff30",
   "metadata": {},
   "outputs": [],
   "source": [
    "from pathlib import Path\n",
    "import os, json\n",
    "from safetensors.torch import save_file\n",
    "import copy\n",
    "from tqdm import tqdm"
   ]
  },
  {
   "cell_type": "code",
   "execution_count": 54,
   "id": "c7d1dd78-d696-4477-b878-a13a763c270f",
   "metadata": {},
   "outputs": [],
   "source": [
    "model_dir = Path(\"/home/ubuntu/models/llama-7b-orca-math-100k-full-quantized\")\n",
    "os.makedirs(model_dir, exist_ok=True)"
   ]
  },
  {
   "cell_type": "code",
   "execution_count": 55,
   "id": "714a8cb2-6eff-4645-bcff-c4bf66238802",
   "metadata": {},
   "outputs": [],
   "source": [
    "# original quantized layers from fsdp_qlora/train.py\n",
    "# [\"k_proj\", \"q_proj\", \"v_proj\", \"up_proj\", \"down_proj\", \"gate_proj\"]"
   ]
  },
  {
   "cell_type": "code",
   "execution_count": 56,
   "id": "afaa582c-95b9-4e22-a209-485cfb73f129",
   "metadata": {},
   "outputs": [],
   "source": [
    "# Similar to AWQ for now\n",
    "quantized_layers = [\"q_proj\", \"k_proj\", \"v_proj\", \"o_proj\", \"gate_proj\", \"up_proj\", \"down_proj\"]"
   ]
  },
  {
   "cell_type": "code",
   "execution_count": 57,
   "id": "65b4afb3-d1ff-434d-8e8d-e9537b1ccda3",
   "metadata": {},
   "outputs": [],
   "source": [
    "orca_math_model_dir = \"/home/ubuntu/models/llama-7b-orca-math-100k-full\""
   ]
  },
  {
   "cell_type": "code",
   "execution_count": 58,
   "id": "4e3067be-c874-4550-b999-1452d7e8f938",
   "metadata": {},
   "outputs": [],
   "source": [
    "weights = safetensors.torch.load_file(glob(os.path.join(orca_math_model_dir, \"*.safetensors\"))[0])"
   ]
  },
  {
   "cell_type": "code",
   "execution_count": 59,
   "id": "9eaef503-678f-4084-b3f7-faa0af7f6d56",
   "metadata": {},
   "outputs": [],
   "source": [
    "quantized_state_dict = copy.deepcopy(weights)"
   ]
  },
  {
   "cell_type": "code",
   "execution_count": 60,
   "id": "a3686d0a-497a-4486-bf84-169dc6924ddb",
   "metadata": {},
   "outputs": [],
   "source": [
    "pack_factor = 2\n",
    "blocksize = 64"
   ]
  },
  {
   "cell_type": "code",
   "execution_count": 61,
   "id": "7c23baa0-6dc7-4939-986d-9bf0e6b2722a",
   "metadata": {
    "scrolled": true
   },
   "outputs": [
    {
     "name": "stdout",
     "output_type": "stream",
     "text": [
      "model.layers.0.mlp.down_proj.weight torch.Size([4096, 11008])\n",
      "model.layers.0.mlp.gate_proj.weight torch.Size([11008, 4096])\n",
      "model.layers.0.mlp.up_proj.weight torch.Size([11008, 4096])\n",
      "model.layers.0.self_attn.k_proj.weight torch.Size([4096, 4096])\n",
      "model.layers.0.self_attn.o_proj.weight torch.Size([4096, 4096])\n",
      "model.layers.0.self_attn.q_proj.weight torch.Size([4096, 4096])\n",
      "model.layers.0.self_attn.v_proj.weight torch.Size([4096, 4096])\n",
      "model.layers.1.mlp.down_proj.weight torch.Size([4096, 11008])\n",
      "model.layers.1.mlp.gate_proj.weight torch.Size([11008, 4096])\n",
      "model.layers.1.mlp.up_proj.weight torch.Size([11008, 4096])\n",
      "model.layers.1.self_attn.k_proj.weight torch.Size([4096, 4096])\n",
      "model.layers.1.self_attn.o_proj.weight torch.Size([4096, 4096])\n",
      "model.layers.1.self_attn.q_proj.weight torch.Size([4096, 4096])\n",
      "model.layers.1.self_attn.v_proj.weight torch.Size([4096, 4096])\n",
      "model.layers.10.mlp.down_proj.weight torch.Size([4096, 11008])\n",
      "model.layers.10.mlp.gate_proj.weight torch.Size([11008, 4096])\n",
      "model.layers.10.mlp.up_proj.weight torch.Size([11008, 4096])\n",
      "model.layers.10.self_attn.k_proj.weight torch.Size([4096, 4096])\n",
      "model.layers.10.self_attn.o_proj.weight torch.Size([4096, 4096])\n",
      "model.layers.10.self_attn.q_proj.weight torch.Size([4096, 4096])\n",
      "model.layers.10.self_attn.v_proj.weight torch.Size([4096, 4096])\n",
      "model.layers.11.mlp.down_proj.weight torch.Size([4096, 11008])\n",
      "model.layers.11.mlp.gate_proj.weight torch.Size([11008, 4096])\n",
      "model.layers.11.mlp.up_proj.weight torch.Size([11008, 4096])\n",
      "model.layers.11.self_attn.k_proj.weight torch.Size([4096, 4096])\n",
      "model.layers.11.self_attn.o_proj.weight torch.Size([4096, 4096])\n",
      "model.layers.11.self_attn.q_proj.weight torch.Size([4096, 4096])\n",
      "model.layers.11.self_attn.v_proj.weight torch.Size([4096, 4096])\n",
      "model.layers.12.mlp.down_proj.weight torch.Size([4096, 11008])\n",
      "model.layers.12.mlp.gate_proj.weight torch.Size([11008, 4096])\n",
      "model.layers.12.mlp.up_proj.weight torch.Size([11008, 4096])\n",
      "model.layers.12.self_attn.k_proj.weight torch.Size([4096, 4096])\n",
      "model.layers.12.self_attn.o_proj.weight torch.Size([4096, 4096])\n",
      "model.layers.12.self_attn.q_proj.weight torch.Size([4096, 4096])\n",
      "model.layers.12.self_attn.v_proj.weight torch.Size([4096, 4096])\n",
      "model.layers.13.mlp.down_proj.weight torch.Size([4096, 11008])\n",
      "model.layers.13.mlp.gate_proj.weight torch.Size([11008, 4096])\n",
      "model.layers.13.mlp.up_proj.weight torch.Size([11008, 4096])\n",
      "model.layers.13.self_attn.k_proj.weight torch.Size([4096, 4096])\n",
      "model.layers.13.self_attn.o_proj.weight torch.Size([4096, 4096])\n",
      "model.layers.13.self_attn.q_proj.weight torch.Size([4096, 4096])\n",
      "model.layers.13.self_attn.v_proj.weight torch.Size([4096, 4096])\n",
      "model.layers.14.mlp.down_proj.weight torch.Size([4096, 11008])\n",
      "model.layers.14.mlp.gate_proj.weight torch.Size([11008, 4096])\n",
      "model.layers.14.mlp.up_proj.weight torch.Size([11008, 4096])\n",
      "model.layers.14.self_attn.k_proj.weight torch.Size([4096, 4096])\n",
      "model.layers.14.self_attn.o_proj.weight torch.Size([4096, 4096])\n",
      "model.layers.14.self_attn.q_proj.weight torch.Size([4096, 4096])\n",
      "model.layers.14.self_attn.v_proj.weight torch.Size([4096, 4096])\n",
      "model.layers.15.mlp.down_proj.weight torch.Size([4096, 11008])\n",
      "model.layers.15.mlp.gate_proj.weight torch.Size([11008, 4096])\n",
      "model.layers.15.mlp.up_proj.weight torch.Size([11008, 4096])\n",
      "model.layers.15.self_attn.k_proj.weight torch.Size([4096, 4096])\n",
      "model.layers.15.self_attn.o_proj.weight torch.Size([4096, 4096])\n",
      "model.layers.15.self_attn.q_proj.weight torch.Size([4096, 4096])\n",
      "model.layers.15.self_attn.v_proj.weight torch.Size([4096, 4096])\n",
      "model.layers.16.mlp.down_proj.weight torch.Size([4096, 11008])\n",
      "model.layers.16.mlp.gate_proj.weight torch.Size([11008, 4096])\n",
      "model.layers.16.mlp.up_proj.weight torch.Size([11008, 4096])\n",
      "model.layers.16.self_attn.k_proj.weight torch.Size([4096, 4096])\n",
      "model.layers.16.self_attn.o_proj.weight torch.Size([4096, 4096])\n",
      "model.layers.16.self_attn.q_proj.weight torch.Size([4096, 4096])\n",
      "model.layers.16.self_attn.v_proj.weight torch.Size([4096, 4096])\n",
      "model.layers.17.mlp.down_proj.weight torch.Size([4096, 11008])\n",
      "model.layers.17.mlp.gate_proj.weight torch.Size([11008, 4096])\n",
      "model.layers.17.mlp.up_proj.weight torch.Size([11008, 4096])\n",
      "model.layers.17.self_attn.k_proj.weight torch.Size([4096, 4096])\n",
      "model.layers.17.self_attn.o_proj.weight torch.Size([4096, 4096])\n",
      "model.layers.17.self_attn.q_proj.weight torch.Size([4096, 4096])\n",
      "model.layers.17.self_attn.v_proj.weight torch.Size([4096, 4096])\n",
      "model.layers.18.mlp.down_proj.weight torch.Size([4096, 11008])\n",
      "model.layers.18.mlp.gate_proj.weight torch.Size([11008, 4096])\n",
      "model.layers.18.mlp.up_proj.weight torch.Size([11008, 4096])\n",
      "model.layers.18.self_attn.k_proj.weight torch.Size([4096, 4096])\n",
      "model.layers.18.self_attn.o_proj.weight torch.Size([4096, 4096])\n",
      "model.layers.18.self_attn.q_proj.weight torch.Size([4096, 4096])\n",
      "model.layers.18.self_attn.v_proj.weight torch.Size([4096, 4096])\n",
      "model.layers.19.mlp.down_proj.weight torch.Size([4096, 11008])\n",
      "model.layers.19.mlp.gate_proj.weight torch.Size([11008, 4096])\n",
      "model.layers.19.mlp.up_proj.weight torch.Size([11008, 4096])\n",
      "model.layers.19.self_attn.k_proj.weight torch.Size([4096, 4096])\n",
      "model.layers.19.self_attn.o_proj.weight torch.Size([4096, 4096])\n",
      "model.layers.19.self_attn.q_proj.weight torch.Size([4096, 4096])\n",
      "model.layers.19.self_attn.v_proj.weight torch.Size([4096, 4096])\n",
      "model.layers.2.mlp.down_proj.weight torch.Size([4096, 11008])\n",
      "model.layers.2.mlp.gate_proj.weight torch.Size([11008, 4096])\n",
      "model.layers.2.mlp.up_proj.weight torch.Size([11008, 4096])\n",
      "model.layers.2.self_attn.k_proj.weight torch.Size([4096, 4096])\n",
      "model.layers.2.self_attn.o_proj.weight torch.Size([4096, 4096])\n",
      "model.layers.2.self_attn.q_proj.weight torch.Size([4096, 4096])\n",
      "model.layers.2.self_attn.v_proj.weight torch.Size([4096, 4096])\n",
      "model.layers.20.mlp.down_proj.weight torch.Size([4096, 11008])\n",
      "model.layers.20.mlp.gate_proj.weight torch.Size([11008, 4096])\n",
      "model.layers.20.mlp.up_proj.weight torch.Size([11008, 4096])\n",
      "model.layers.20.self_attn.k_proj.weight torch.Size([4096, 4096])\n",
      "model.layers.20.self_attn.o_proj.weight torch.Size([4096, 4096])\n",
      "model.layers.20.self_attn.q_proj.weight torch.Size([4096, 4096])\n",
      "model.layers.20.self_attn.v_proj.weight torch.Size([4096, 4096])\n",
      "model.layers.21.mlp.down_proj.weight torch.Size([4096, 11008])\n",
      "model.layers.21.mlp.gate_proj.weight torch.Size([11008, 4096])\n",
      "model.layers.21.mlp.up_proj.weight torch.Size([11008, 4096])\n",
      "model.layers.21.self_attn.k_proj.weight torch.Size([4096, 4096])\n",
      "model.layers.21.self_attn.o_proj.weight torch.Size([4096, 4096])\n",
      "model.layers.21.self_attn.q_proj.weight torch.Size([4096, 4096])\n",
      "model.layers.21.self_attn.v_proj.weight torch.Size([4096, 4096])\n",
      "model.layers.22.mlp.down_proj.weight torch.Size([4096, 11008])\n",
      "model.layers.22.mlp.gate_proj.weight torch.Size([11008, 4096])\n",
      "model.layers.22.mlp.up_proj.weight torch.Size([11008, 4096])\n",
      "model.layers.22.self_attn.k_proj.weight torch.Size([4096, 4096])\n",
      "model.layers.22.self_attn.o_proj.weight torch.Size([4096, 4096])\n",
      "model.layers.22.self_attn.q_proj.weight torch.Size([4096, 4096])\n",
      "model.layers.22.self_attn.v_proj.weight torch.Size([4096, 4096])\n",
      "model.layers.23.mlp.down_proj.weight torch.Size([4096, 11008])\n",
      "model.layers.23.mlp.gate_proj.weight torch.Size([11008, 4096])\n",
      "model.layers.23.mlp.up_proj.weight torch.Size([11008, 4096])\n",
      "model.layers.23.self_attn.k_proj.weight torch.Size([4096, 4096])\n",
      "model.layers.23.self_attn.o_proj.weight torch.Size([4096, 4096])\n",
      "model.layers.23.self_attn.q_proj.weight torch.Size([4096, 4096])\n",
      "model.layers.23.self_attn.v_proj.weight torch.Size([4096, 4096])\n",
      "model.layers.24.mlp.down_proj.weight torch.Size([4096, 11008])\n",
      "model.layers.24.mlp.gate_proj.weight torch.Size([11008, 4096])\n",
      "model.layers.24.mlp.up_proj.weight torch.Size([11008, 4096])\n",
      "model.layers.24.self_attn.k_proj.weight torch.Size([4096, 4096])\n",
      "model.layers.24.self_attn.o_proj.weight torch.Size([4096, 4096])\n",
      "model.layers.24.self_attn.q_proj.weight torch.Size([4096, 4096])\n",
      "model.layers.24.self_attn.v_proj.weight torch.Size([4096, 4096])\n",
      "model.layers.25.mlp.down_proj.weight torch.Size([4096, 11008])\n",
      "model.layers.25.mlp.gate_proj.weight torch.Size([11008, 4096])\n",
      "model.layers.25.mlp.up_proj.weight torch.Size([11008, 4096])\n",
      "model.layers.25.self_attn.k_proj.weight torch.Size([4096, 4096])\n",
      "model.layers.25.self_attn.o_proj.weight torch.Size([4096, 4096])\n",
      "model.layers.25.self_attn.q_proj.weight torch.Size([4096, 4096])\n",
      "model.layers.25.self_attn.v_proj.weight torch.Size([4096, 4096])\n",
      "model.layers.26.mlp.down_proj.weight torch.Size([4096, 11008])\n",
      "model.layers.26.mlp.gate_proj.weight torch.Size([11008, 4096])\n",
      "model.layers.26.mlp.up_proj.weight torch.Size([11008, 4096])\n",
      "model.layers.26.self_attn.k_proj.weight torch.Size([4096, 4096])\n",
      "model.layers.26.self_attn.o_proj.weight torch.Size([4096, 4096])\n",
      "model.layers.26.self_attn.q_proj.weight torch.Size([4096, 4096])\n",
      "model.layers.26.self_attn.v_proj.weight torch.Size([4096, 4096])\n",
      "model.layers.27.mlp.down_proj.weight torch.Size([4096, 11008])\n",
      "model.layers.27.mlp.gate_proj.weight torch.Size([11008, 4096])\n",
      "model.layers.27.mlp.up_proj.weight torch.Size([11008, 4096])\n",
      "model.layers.27.self_attn.k_proj.weight torch.Size([4096, 4096])\n",
      "model.layers.27.self_attn.o_proj.weight torch.Size([4096, 4096])\n",
      "model.layers.27.self_attn.q_proj.weight torch.Size([4096, 4096])\n",
      "model.layers.27.self_attn.v_proj.weight torch.Size([4096, 4096])\n",
      "model.layers.28.mlp.down_proj.weight torch.Size([4096, 11008])\n",
      "model.layers.28.mlp.gate_proj.weight torch.Size([11008, 4096])\n",
      "model.layers.28.mlp.up_proj.weight torch.Size([11008, 4096])\n",
      "model.layers.28.self_attn.k_proj.weight torch.Size([4096, 4096])\n",
      "model.layers.28.self_attn.o_proj.weight torch.Size([4096, 4096])\n",
      "model.layers.28.self_attn.q_proj.weight torch.Size([4096, 4096])\n",
      "model.layers.28.self_attn.v_proj.weight torch.Size([4096, 4096])\n",
      "model.layers.29.mlp.down_proj.weight torch.Size([4096, 11008])\n",
      "model.layers.29.mlp.gate_proj.weight torch.Size([11008, 4096])\n",
      "model.layers.29.mlp.up_proj.weight torch.Size([11008, 4096])\n",
      "model.layers.29.self_attn.k_proj.weight torch.Size([4096, 4096])\n",
      "model.layers.29.self_attn.o_proj.weight torch.Size([4096, 4096])\n",
      "model.layers.29.self_attn.q_proj.weight torch.Size([4096, 4096])\n",
      "model.layers.29.self_attn.v_proj.weight torch.Size([4096, 4096])\n",
      "model.layers.3.mlp.down_proj.weight torch.Size([4096, 11008])\n",
      "model.layers.3.mlp.gate_proj.weight torch.Size([11008, 4096])\n",
      "model.layers.3.mlp.up_proj.weight torch.Size([11008, 4096])\n",
      "model.layers.3.self_attn.k_proj.weight torch.Size([4096, 4096])\n",
      "model.layers.3.self_attn.o_proj.weight torch.Size([4096, 4096])\n",
      "model.layers.3.self_attn.q_proj.weight torch.Size([4096, 4096])\n",
      "model.layers.3.self_attn.v_proj.weight torch.Size([4096, 4096])\n",
      "model.layers.30.mlp.down_proj.weight torch.Size([4096, 11008])\n",
      "model.layers.30.mlp.gate_proj.weight torch.Size([11008, 4096])\n",
      "model.layers.30.mlp.up_proj.weight torch.Size([11008, 4096])\n",
      "model.layers.30.self_attn.k_proj.weight torch.Size([4096, 4096])\n",
      "model.layers.30.self_attn.o_proj.weight torch.Size([4096, 4096])\n",
      "model.layers.30.self_attn.q_proj.weight torch.Size([4096, 4096])\n",
      "model.layers.30.self_attn.v_proj.weight torch.Size([4096, 4096])\n",
      "model.layers.31.mlp.down_proj.weight torch.Size([4096, 11008])\n",
      "model.layers.31.mlp.gate_proj.weight torch.Size([11008, 4096])\n",
      "model.layers.31.mlp.up_proj.weight torch.Size([11008, 4096])\n",
      "model.layers.31.self_attn.k_proj.weight torch.Size([4096, 4096])\n",
      "model.layers.31.self_attn.o_proj.weight torch.Size([4096, 4096])\n",
      "model.layers.31.self_attn.q_proj.weight torch.Size([4096, 4096])\n",
      "model.layers.31.self_attn.v_proj.weight torch.Size([4096, 4096])\n",
      "model.layers.4.mlp.down_proj.weight torch.Size([4096, 11008])\n",
      "model.layers.4.mlp.gate_proj.weight torch.Size([11008, 4096])\n",
      "model.layers.4.mlp.up_proj.weight torch.Size([11008, 4096])\n",
      "model.layers.4.self_attn.k_proj.weight torch.Size([4096, 4096])\n",
      "model.layers.4.self_attn.o_proj.weight torch.Size([4096, 4096])\n",
      "model.layers.4.self_attn.q_proj.weight torch.Size([4096, 4096])\n",
      "model.layers.4.self_attn.v_proj.weight torch.Size([4096, 4096])\n",
      "model.layers.5.mlp.down_proj.weight torch.Size([4096, 11008])\n",
      "model.layers.5.mlp.gate_proj.weight torch.Size([11008, 4096])\n",
      "model.layers.5.mlp.up_proj.weight torch.Size([11008, 4096])\n",
      "model.layers.5.self_attn.k_proj.weight torch.Size([4096, 4096])\n",
      "model.layers.5.self_attn.o_proj.weight torch.Size([4096, 4096])\n",
      "model.layers.5.self_attn.q_proj.weight torch.Size([4096, 4096])\n",
      "model.layers.5.self_attn.v_proj.weight torch.Size([4096, 4096])\n",
      "model.layers.6.mlp.down_proj.weight torch.Size([4096, 11008])\n",
      "model.layers.6.mlp.gate_proj.weight torch.Size([11008, 4096])\n",
      "model.layers.6.mlp.up_proj.weight torch.Size([11008, 4096])\n",
      "model.layers.6.self_attn.k_proj.weight torch.Size([4096, 4096])\n",
      "model.layers.6.self_attn.o_proj.weight torch.Size([4096, 4096])\n",
      "model.layers.6.self_attn.q_proj.weight torch.Size([4096, 4096])\n",
      "model.layers.6.self_attn.v_proj.weight torch.Size([4096, 4096])\n",
      "model.layers.7.mlp.down_proj.weight torch.Size([4096, 11008])\n",
      "model.layers.7.mlp.gate_proj.weight torch.Size([11008, 4096])\n",
      "model.layers.7.mlp.up_proj.weight torch.Size([11008, 4096])\n",
      "model.layers.7.self_attn.k_proj.weight torch.Size([4096, 4096])\n",
      "model.layers.7.self_attn.o_proj.weight torch.Size([4096, 4096])\n",
      "model.layers.7.self_attn.q_proj.weight torch.Size([4096, 4096])\n",
      "model.layers.7.self_attn.v_proj.weight torch.Size([4096, 4096])\n",
      "model.layers.8.mlp.down_proj.weight torch.Size([4096, 11008])\n",
      "model.layers.8.mlp.gate_proj.weight torch.Size([11008, 4096])\n",
      "model.layers.8.mlp.up_proj.weight torch.Size([11008, 4096])\n",
      "model.layers.8.self_attn.k_proj.weight torch.Size([4096, 4096])\n",
      "model.layers.8.self_attn.o_proj.weight torch.Size([4096, 4096])\n",
      "model.layers.8.self_attn.q_proj.weight torch.Size([4096, 4096])\n",
      "model.layers.8.self_attn.v_proj.weight torch.Size([4096, 4096])\n",
      "model.layers.9.mlp.down_proj.weight torch.Size([4096, 11008])\n",
      "model.layers.9.mlp.gate_proj.weight torch.Size([11008, 4096])\n",
      "model.layers.9.mlp.up_proj.weight torch.Size([11008, 4096])\n",
      "model.layers.9.self_attn.k_proj.weight torch.Size([4096, 4096])\n",
      "model.layers.9.self_attn.o_proj.weight torch.Size([4096, 4096])\n",
      "model.layers.9.self_attn.q_proj.weight torch.Size([4096, 4096])\n",
      "model.layers.9.self_attn.v_proj.weight torch.Size([4096, 4096])\n"
     ]
    }
   ],
   "source": [
    "for n,p in iter(weights.items()):\n",
    "    if any(l in n for l in quantized_layers) and \"weight\" in n:\n",
    "        # output_size x input_size\n",
    "        print(n, p.shape)\n",
    "        input_size, output_size = p.shape\n",
    "        param = Params4bit(p, quant_type=\"nf4\", blocksize=blocksize, compress_statistics=False, quant_storage=torch.uint8)\n",
    "        param.cuda();\n",
    "\n",
    "        # reshape for tensor parallelism\n",
    "        qweight, absmax = param.data.cpu(), param.quant_state.absmax.cpu()        \n",
    "        qweight = qweight.reshape(input_size, output_size // pack_factor)\n",
    "        absmax = absmax.reshape(input_size, output_size // blocksize)\n",
    "                \n",
    "        quantized_state_dict[n] = qweight\n",
    "        quantized_state_dict[n.replace(\".weight\", \".absmax\")] = absmax\n",
    "\n",
    "        param = None\n",
    "        torch.cuda.empty_cache()"
   ]
  },
  {
   "cell_type": "code",
   "execution_count": 62,
   "id": "07d917df-7614-41b5-bac7-c85fb73c9ef3",
   "metadata": {
    "scrolled": true
   },
   "outputs": [],
   "source": [
    "# save quantized weights\n",
    "save_file(quantized_state_dict, model_dir/\"model_state_dict.safetensors\")"
   ]
  },
  {
   "cell_type": "code",
   "execution_count": 63,
   "id": "3c27a023-7ef7-456f-a3e9-d40c453b60cf",
   "metadata": {},
   "outputs": [],
   "source": [
    "# save quant config\n",
    "quant_config_dict = {\n",
    "    \"weight_bits\" : 4,\n",
    "    \"blocksize\" : 64,\n",
    "    \"quant_type\" : \"nf4\",\n",
    "    \"quant_storage\" : \"uint8\",\n",
    "    \"compress_statistics\" : False\n",
    "}\n",
    "quant_config_filename = model_dir/\"quantize_config.json\"\n",
    "with open(quant_config_filename, \"w+\") as f: json.dump(quant_config_dict, f)"
   ]
  },
  {
   "cell_type": "code",
   "execution_count": 64,
   "id": "4254ffdf-8b6e-47da-ae80-27f9e19f4b06",
   "metadata": {
    "scrolled": true
   },
   "outputs": [],
   "source": [
    "# save model config\n",
    "model_config = AutoConfig.from_pretrained(\"meta-llama/Llama-2-7b-hf\")\n",
    "model_config_filename = model_dir/\"config.json\"\n",
    "with open(model_config_filename, \"w+\") as f: json.dump(model_config.to_dict(), f)"
   ]
  },
  {
   "cell_type": "markdown",
   "id": "42a28ac0-9d96-46a6-a0e8-a28211728cb4",
   "metadata": {},
   "source": [
    "### BNB Quantized VLLM"
   ]
  },
  {
   "cell_type": "code",
   "execution_count": 1,
   "id": "81f8c396-e4ec-4bc5-81b0-0bf7239a73ce",
   "metadata": {},
   "outputs": [],
   "source": [
    "# from huggingface_hub import hf_hub_download\n",
    "# import os\n",
    "# os.makedirs(\"/home/ubuntu/models/llama-7b-orca-math-100k-full\", exist_ok=True)\n",
    "# hf_hub_download(repo_id=\"answerdotai/llama-7b-orca-math-100k-full\", \n",
    "#                 filename=\"model_state_dict.safetensors\",\n",
    "#                 local_dir=\"/home/ubuntu/models/llama-7b-orca-math-100k-full\")"
   ]
  },
  {
   "cell_type": "code",
   "execution_count": 1,
   "id": "b4eca361-0895-4858-ad46-c705ff64451d",
   "metadata": {},
   "outputs": [],
   "source": [
    "import torch\n",
    "import torch.nn as nn\n",
    "from typing import List\n",
    "import safetensors\n",
    "import safetensors.torch\n",
    "from pathlib import Path\n",
    "import bitsandbytes as bnb\n",
    "from bitsandbytes.functional import dequantize_4bit, QuantState\n",
    "from bitsandbytes.nn.modules import Params4bit, Linear4bit\n",
    "from transformers import AutoModelForCausalLM, AutoTokenizer, AutoConfig\n",
    "from transformers.generation.configuration_utils import GenerationConfig\n",
    "from accelerate import init_empty_weights\n",
    "from glob import glob\n",
    "import os\n",
    "from fastcore.parallel import parallel\n",
    "import copy"
   ]
  },
  {
   "cell_type": "code",
   "execution_count": 2,
   "id": "c98b3fff-f6ad-488b-b41a-0f108bb7688b",
   "metadata": {
    "scrolled": true
   },
   "outputs": [],
   "source": [
    "# !pip install accelerate"
   ]
  },
  {
   "cell_type": "code",
   "execution_count": 3,
   "id": "f053d9b4-a087-4301-b069-def8705ec4bd",
   "metadata": {},
   "outputs": [],
   "source": [
    "from vllm.sequence import SequenceGroupMetadata, SequenceData"
   ]
  },
  {
   "cell_type": "code",
   "execution_count": 4,
   "id": "5951483a-d5d6-4c82-bab0-c07d868f8c60",
   "metadata": {},
   "outputs": [],
   "source": [
    "from vllm import LLM, SamplingParams"
   ]
  },
  {
   "cell_type": "code",
   "execution_count": 5,
   "id": "c61c1c1c-6717-42d7-870f-713b4923bfe9",
   "metadata": {},
   "outputs": [],
   "source": [
    "def replace_linear(model:nn.Module, linear_replacement:nn.Module, quant_config:dict|None=None,\n",
    "                   skip_modules:List[str]=[\"lm_head\"], **kwargs):\n",
    "    \"\"\"\n",
    "    Replace linear modules with a new Linear module.\n",
    "    Parameters:\n",
    "        model (`torch.nn.Module`):\n",
    "            Input model or `torch.nn.Module` as the function is run recursively.\n",
    "        linear_replacement (`torch.nn.Module`):\n",
    "            The linear module that replaces the old one. Only expects standard arguments.\n",
    "            If other arguments need to be passed, use a lambda.\n",
    "        skip_modules (`List[str]`, *optional*, defaults to `lm_head`):\n",
    "            List of modules names not to convert. Defaults to `lm_head`.\n",
    "    \"\"\"\n",
    "    for name, module in model.named_children():\n",
    "        if name in skip_modules:\n",
    "            print(f\"Skipping {name}\")\n",
    "            continue\n",
    "        \n",
    "        if len(list(module.children())) > 0:\n",
    "            replace_linear(module, linear_replacement, quant_config, skip_modules, **kwargs)\n",
    "\n",
    "        if isinstance(module, torch.nn.Linear):\n",
    "            if issubclass(linear_replacement, Linear4bit):\n",
    "                model._modules[name] = linear_replacement(\n",
    "                    module.in_features,\n",
    "                    module.out_features,\n",
    "                    module.bias is not None,\n",
    "                    **kwargs\n",
    "                )\n",
    "            # elif issubclass(linear_replacement, HQQLinear):\n",
    "            #     model._modules[name] = linear_replacement(module, quant_config, **kwargs)\n",
    "            else:\n",
    "                raise ValueError(f\"Unsupported linear replacement: {type(linear_replacement)}\")\n",
    "    return model"
   ]
  },
  {
   "cell_type": "code",
   "execution_count": 6,
   "id": "bd8402bd-a3b6-4479-8ab3-21fb9c8c8ad6",
   "metadata": {},
   "outputs": [],
   "source": [
    "def load_and_quantize(module:nn.Module, name:str, value:torch.Tensor, device:torch.device=None, dtype:torch.dtype=None,\n",
    "                      skip_names:list[str]=[], is_meta_rank:bool=False, low_memory:bool=True, verbose:bool=False,\n",
    "                      quant_method:str='bnb', is_dora:bool=False):\n",
    "    \"\"\"\n",
    "    Loads `value` tensor into submodule of `module`, optionally skipping `skip_names` and converting to `dtype`.\n",
    "\n",
    "    Quantizes `Params4bit` on `device` then places on \"cpu\" if low_memory=True or \"meta\" if is_meta_rank=True.\n",
    "    \"\"\"\n",
    "    def place_on_device(value):\n",
    "        if is_meta_rank:\n",
    "            device = 'meta'\n",
    "        elif low_memory:\n",
    "            device = 'cpu'\n",
    "        return value.to(device=device, dtype=dtype)\n",
    "\n",
    "    if any([skip_name in name for skip_name in skip_names]):\n",
    "        if verbose:\n",
    "            print(f\"Skipping {name} because it is in skip_names\")\n",
    "        return\n",
    "\n",
    "    module_key, _, value_key = name.rpartition('.')\n",
    "    try:\n",
    "        submodule = module.get_submodule(module_key)\n",
    "    except AttributeError as e:\n",
    "        print(f\"Module {module_key} not found:\\n{e}\")\n",
    "        return\n",
    "\n",
    "    try:\n",
    "        if quant_method=='bnb':\n",
    "            param = submodule.get_parameter(value_key)\n",
    "            if isinstance(param, Params4bit):\n",
    "                # With `sync_module_states=True`, a meta device Params4bit needs to be the same\n",
    "                # shape as the quantized Params4bit with an initialized quant_state. However,\n",
    "                # FSDP only syncs parameters and buffers, so the quant_state isn't copied. This\n",
    "                # workaround quantizes Params4bit to initialize quant_state on all ranks, then\n",
    "                # replaces Params4bit's data with a meta tensor to free memory on non-rank 0.\n",
    "                if is_dora:\n",
    "                    setattr(submodule, \"dora_scale\", value.norm(p=2, dim=1).to(dtype=dtype).to(\"cpu\"))                \n",
    "                    print(\"DORA scale initialized\")\n",
    "                value = type(param)(value.to(device=device, dtype=dtype).data, **param.__dict__).cuda(device)\n",
    "                if is_meta_rank:\n",
    "                    value = type(param)(value.data.to(\"meta\"), **value.__dict__)\n",
    "                elif low_memory:\n",
    "                    value = type(param)(value.data.to(\"cpu\"), **value.__dict__)\n",
    "                # print(\"Loaded quantized layer\")\n",
    "            else:\n",
    "                value = type(param)(place_on_device(value).data)\n",
    "                # print(\"Loaded regular layer\")\n",
    "    except AttributeError:\n",
    "        # it's a buffer\n",
    "        value = place_on_device(value)\n",
    "        pass\n",
    "    setattr(submodule, value_key, value)\n",
    "\n",
    "def load_and_quantize_parallel(name_param, model, **kwargs):\n",
    "    name, param = name_param\n",
    "    load_and_quantize(model, name, param, **kwargs)"
   ]
  },
  {
   "cell_type": "code",
   "execution_count": 7,
   "id": "c859ec51-9ea5-462f-a01e-afbe15fb3e9b",
   "metadata": {},
   "outputs": [],
   "source": [
    "orca_math_model_dir = \"/home/ubuntu/models/llama-7b-orca-math-100k-full\""
   ]
  },
  {
   "cell_type": "code",
   "execution_count": 8,
   "id": "815e7ff7-55e5-4f2f-90e7-65a35cf1a289",
   "metadata": {},
   "outputs": [],
   "source": [
    "MODEL_NAME = \"meta-llama/Llama-2-7b-hf\"\n",
    "cfg = AutoConfig.from_pretrained(MODEL_NAME)\n",
    "cfg._attn_implementation = \"sdpa\"\n",
    "skip_modules = [\"lm_head\"]\n",
    "load_param_skip_names = ['inv_freq']\n",
    "compute_dtype = torch_dtype = torch.bfloat16"
   ]
  },
  {
   "cell_type": "code",
   "execution_count": 9,
   "id": "adcd81a1-ee01-4e43-9f27-e0647a536a8b",
   "metadata": {},
   "outputs": [],
   "source": [
    "with init_empty_weights():\n",
    "    model = AutoModelForCausalLM.from_config(cfg)\n",
    "    model.model = replace_linear(model.model, Linear4bit, compute_dtype=compute_dtype,\n",
    "                                 quant_type='nf4', compress_statistics=False,\n",
    "                                 quant_storage=torch.uint8, skip_modules=skip_modules)\n",
    "model.is_loaded_in_4bit = True"
   ]
  },
  {
   "cell_type": "code",
   "execution_count": 10,
   "id": "3a7d4b70-42b2-4ee3-9afd-feb4193f75a0",
   "metadata": {},
   "outputs": [],
   "source": [
    "weights = safetensors.torch.load_file(glob(os.path.join(orca_math_model_dir, \"*.safetensors\"))[0])"
   ]
  },
  {
   "cell_type": "code",
   "execution_count": 11,
   "id": "d13a7fef-3cc5-4c8a-93e6-80c4c8ee2b6b",
   "metadata": {},
   "outputs": [
    {
     "data": {
      "text/plain": [
       "(#291) [None,None,None,None,None,None,None,None,None,None...]"
      ]
     },
     "execution_count": 11,
     "metadata": {},
     "output_type": "execute_result"
    }
   ],
   "source": [
    "parallel(load_and_quantize_parallel, \n",
    "         iter(weights.items()), \n",
    "         n_workers=8, \n",
    "         threadpool=True,\n",
    "         model=model, \n",
    "         dtype=torch_dtype, \n",
    "         device=torch.cuda.current_device(),\n",
    "         skip_names=load_param_skip_names,\n",
    "         is_meta_rank=False,\n",
    "         verbose=True,\n",
    "         quant_method=\"bnb\",\n",
    "         is_dora=False)"
   ]
  },
  {
   "cell_type": "code",
   "execution_count": 12,
   "id": "ea38000d-dcc5-41da-bb24-386cefcfd954",
   "metadata": {},
   "outputs": [],
   "source": [
    "model.cuda();"
   ]
  },
  {
   "cell_type": "code",
   "execution_count": 13,
   "id": "2dc23e20-ae9e-4a2c-98cd-b7195bdd1b67",
   "metadata": {},
   "outputs": [],
   "source": [
    "hf_tokenizer = AutoTokenizer.from_pretrained(\"meta-llama/Llama-2-7b-hf\")\n",
    "hf_tokenizer.pad_token_id = hf_tokenizer.unk_token_id\n",
    "hf_tokenizer.pad_token = hf_tokenizer.unk_token"
   ]
  },
  {
   "cell_type": "code",
   "execution_count": 14,
   "id": "bb62eb87-228d-4269-aa03-3710b5db3ba0",
   "metadata": {},
   "outputs": [],
   "source": [
    "input = \"\""
   ]
  },
  {
   "cell_type": "code",
   "execution_count": 15,
   "id": "bed4abb8-d7ee-4417-ae26-d41be9df0462",
   "metadata": {},
   "outputs": [],
   "source": [
    "input = \"\"\"###Question:\n",
    "A certain tax rate is some amount per $100.00. The rate, expressed as a percent, is 65%. What is the tax rate in dollars per $100.00?\n",
    "###Answer:\"\"\""
   ]
  },
  {
   "cell_type": "code",
   "execution_count": 16,
   "id": "0f421631-8499-4d9c-8398-9a92c48c15ff",
   "metadata": {},
   "outputs": [
    {
     "name": "stdout",
     "output_type": "stream",
     "text": [
      "<s> ###Question:\n",
      "A certain tax rate is some amount per $100.00. The rate, expressed as a percent, is 65%. What is the tax rate in dollars per $100.00?\n",
      "###Answer:\n",
      "To find the tax rate in dollars per $100.00\n"
     ]
    }
   ],
   "source": [
    "output = model.generate(hf_tokenizer(input, return_tensors=\"pt\")['input_ids'].cuda(),\n",
    "                        generation_config=GenerationConfig(do_sample=False, max_new_tokens=16, use_cache=True, \n",
    "                                                           pad_token_id=hf_tokenizer.pad_token_id)).cpu()\n",
    "print(hf_tokenizer.decode(output[0]))"
   ]
  },
  {
   "cell_type": "code",
   "execution_count": 17,
   "id": "d77d66c6-3eb0-42fa-b6e2-a4df44db6010",
   "metadata": {
    "scrolled": true
   },
   "outputs": [
    {
     "name": "stdout",
     "output_type": "stream",
     "text": [
      "WARNING 04-04 12:12:41 config.py:744] Casting torch.float16 to torch.bfloat16.\n",
      "WARNING 04-04 12:12:41 config.py:208] bnb quantization is not fully optimized yet. The speed can be slower than non-quantized models.\n",
      "INFO 04-04 12:12:41 llm_engine.py:70] Initializing an LLM engine (v0.3.3) with config: model='/home/ubuntu/models/llama-7b-orca-math-100k-full-quantized', tokenizer='meta-llama/Llama-2-7b-hf', tokenizer_mode=auto, revision=None, tokenizer_revision=None, trust_remote_code=False, dtype=torch.bfloat16, max_seq_len=4096, download_dir=None, load_format=auto, tensor_parallel_size=1, disable_custom_all_reduce=True, quantization=bnb, enforce_eager=False, kv_cache_dtype=auto, device_config=cuda, seed=0)\n",
      "INFO 04-04 12:12:41 pynccl_utils.py:13] vLLM is using nccl==2.18.1\n",
      "INFO 04-04 12:12:41 selector.py:15] Using FlashAttention backend.\n",
      "INFO 04-04 12:12:44 model_runner.py:104] Loading model weights took 3.9292 GB\n",
      "INFO 04-04 12:12:45 gpu_executor.py:94] # GPU blocks: 897, # CPU blocks: 512\n",
      "INFO 04-04 12:12:47 model_runner.py:770] Capturing the model for CUDA graphs. This may lead to unexpected consequences if the model is not static. To run the model in eager mode, set 'enforce_eager=True' or use '--enforce-eager' in the CLI.\n",
      "INFO 04-04 12:12:47 model_runner.py:774] CUDA graphs can take additional 1~3 GiB memory per GPU. If you are running out of memory, consider decreasing `gpu_memory_utilization` or enforcing eager mode. You can also reduce the `max_num_seqs` as needed to decrease memory usage.\n",
      "INFO 04-04 12:12:57 model_runner.py:846] Graph capturing finished in 9 secs.\n",
      "INFO 04-04 12:12:57 block_manager_v1.py:239] disable automatic prefix caching\n"
     ]
    }
   ],
   "source": [
    "orca_math_model_dir = \"/home/ubuntu/models/llama-7b-orca-math-100k-full-quantized\"\n",
    "llm = LLM(model=orca_math_model_dir, tokenizer=\"meta-llama/Llama-2-7b-hf\", dtype=\"bfloat16\",\n",
    "          quantization=\"bnb\", gpu_memory_utilization=0.5)"
   ]
  },
  {
   "cell_type": "code",
   "execution_count": 21,
   "id": "ec4a0ddd-d2b4-4fa8-8eca-64e363a2a57e",
   "metadata": {},
   "outputs": [
    {
     "data": {
      "text/plain": [
       "[RequestOutput(request_id=0, prompt='###Question:\\nA certain tax rate is some amount per $100.00. The rate, expressed as a percent, is 65%. What is the tax rate in dollars per $100.00?\\n###Answer:', prompt_token_ids=[1, 835, 16492, 29901, 13, 29909, 3058, 8818, 6554, 338, 777, 5253, 639, 395, 29896, 29900, 29900, 29889, 29900, 29900, 29889, 450, 6554, 29892, 13384, 408, 263, 10151, 29892, 338, 29871, 29953, 29945, 15543, 1724, 338, 278, 8818, 6554, 297, 17208, 639, 395, 29896, 29900, 29900, 29889, 29900, 29900, 29973, 13, 2277, 29937, 22550, 29901], prompt_logprobs=None, outputs=[CompletionOutput(index=0, text='\\n Cat Abs Abs Abs Cat Cat Cat Cat Cat Cat Cat Cat Cat Cat Cat', token_ids=[13, 10459, 24650, 24650, 24650, 10459, 10459, 10459, 10459, 10459, 10459, 10459, 10459, 10459, 10459, 10459], cumulative_logprob=-60.78300518193282, logprobs=None, finish_reason=length, stop_reason=None)], finished=True, metrics=RequestMetrics(arrival_time=1712232777.2982388, last_token_time=1712232777.2982388, first_scheduled_time=1712232777.3024695, first_token_time=1712232777.3649642, time_in_queue=0.0042307376861572266, finished_time=1712232777.6651087), lora_request=None)]"
      ]
     },
     "execution_count": 21,
     "metadata": {},
     "output_type": "execute_result"
    }
   ],
   "source": [
    "outputs"
   ]
  },
  {
   "cell_type": "code",
   "execution_count": 18,
   "id": "ab010da7-0afb-4312-87ef-791b92e9e068",
   "metadata": {},
   "outputs": [
    {
     "name": "stderr",
     "output_type": "stream",
     "text": [
      "Processed prompts: 100%|███████████████████████████████████████████████████████████████| 1/1 [00:00<00:00,  2.75it/s]"
     ]
    },
    {
     "name": "stdout",
     "output_type": "stream",
     "text": [
      "###Question:\n",
      "A certain tax rate is some amount per $100.00. The rate, expressed as a percent, is 65%. What is the tax rate in dollars per $100.00?\n",
      "###Answer:\n",
      " Cat Abs Abs Abs Cat Cat Cat Cat Cat Cat Cat Cat Cat Cat Cat\n"
     ]
    },
    {
     "name": "stderr",
     "output_type": "stream",
     "text": [
      "\n"
     ]
    }
   ],
   "source": [
    "outputs = llm.generate([input], sampling_params=SamplingParams(max_tokens=16, temperature=0.))\n",
    "print(input + outputs[0].outputs[0].text)"
   ]
  },
  {
   "cell_type": "code",
   "execution_count": 22,
   "id": "877f7f30-d42a-4a7e-b6ff-625615f48bd9",
   "metadata": {},
   "outputs": [],
   "source": [
    "vllm_model = llm.llm_engine.model_executor.driver_worker.model_runner.model"
   ]
  },
  {
   "cell_type": "code",
   "execution_count": 23,
   "id": "53e9af6f-36d1-4557-b491-1769779c1cf1",
   "metadata": {},
   "outputs": [],
   "source": [
    "quantized_layers = [\"q_proj\", \"k_proj\", \"v_proj\", \"o_proj\", \"gate_proj\", \"up_proj\", \"down_proj\"]"
   ]
  },
  {
   "cell_type": "code",
   "execution_count": 24,
   "id": "35c37141-98b8-4f9b-8745-5b2d4841f944",
   "metadata": {
    "scrolled": true
   },
   "outputs": [],
   "source": [
    "# for n,p in model.named_parameters():\n",
    "#     # if \"qkv\" in n: break # quantized layers are not casted to dtype, which is correct.\n",
    "#     # if \"lm_head\" in n: break\n",
    "#     if any(l in n for l in quantized_layers):\n",
    "#         print(n, p.dtype)\n",
    "#         # assert p.dtype == torch.uint8"
   ]
  },
  {
   "cell_type": "markdown",
   "id": "9e0f1544-42d8-4707-abfd-4a9f5a27f5e9",
   "metadata": {},
   "source": [
    "#### Compare QKV "
   ]
  },
  {
   "cell_type": "code",
   "execution_count": 25,
   "id": "4ff0fe7a-0de8-4816-bf51-148dd5b62ecc",
   "metadata": {},
   "outputs": [],
   "source": [
    "layer = 10"
   ]
  },
  {
   "cell_type": "code",
   "execution_count": 26,
   "id": "550ebc16-b1e6-4df9-bcec-5c02869b330b",
   "metadata": {},
   "outputs": [],
   "source": [
    "q = model.get_submodule(f'model.layers.{layer}.self_attn.q_proj')\n",
    "k = model.get_submodule(f'model.layers.{layer}.self_attn.k_proj')\n",
    "v = model.get_submodule(f'model.layers.{layer}.self_attn.v_proj')"
   ]
  },
  {
   "cell_type": "code",
   "execution_count": 27,
   "id": "a7b2b75d-e838-4140-a24a-d250bba82acf",
   "metadata": {},
   "outputs": [],
   "source": [
    "# qkv = vllm_model.get_submodule(f'model.layers.{layer}.self_attn.qkv_proj')\n",
    "\n",
    "# assert torch.equal(q.weight, qkv.weight.split(4096, dim=0)[0].reshape(-1,1))\n",
    "# assert torch.equal(k.weight, qkv.weight.split(4096, dim=0)[1].reshape(-1,1))\n",
    "# assert torch.equal(v.weight, qkv.weight.split(4096, dim=0)[2].reshape(-1,1))\n",
    "\n",
    "# assert torch.equal(q.quant_state.absmax, qkv.absmax.view(-1).split(4096*4096//64)[0])\n",
    "# assert torch.equal(k.quant_state.absmax, qkv.absmax.view(-1).split(4096*4096//64)[1])\n",
    "# assert torch.equal(v.quant_state.absmax, qkv.absmax.view(-1).split(4096*4096//64)[2])"
   ]
  },
  {
   "cell_type": "code",
   "execution_count": 28,
   "id": "7bd77a07-aa1c-40b6-aac0-532927e7d85d",
   "metadata": {},
   "outputs": [],
   "source": [
    "q2 = vllm_model.get_submodule(f'model.layers.{layer}.self_attn.q_proj')\n",
    "k2 = vllm_model.get_submodule(f'model.layers.{layer}.self_attn.k_proj')\n",
    "v2 = vllm_model.get_submodule(f'model.layers.{layer}.self_attn.v_proj')"
   ]
  },
  {
   "cell_type": "code",
   "execution_count": 29,
   "id": "b211ba23-2ec5-4178-8ffc-02dd23848ceb",
   "metadata": {},
   "outputs": [],
   "source": [
    "assert torch.equal(q.weight, q2.weight.reshape(-1,1))\n",
    "assert torch.equal(k.weight, k2.weight.reshape(-1,1))\n",
    "assert torch.equal(v.weight, v2.weight.reshape(-1,1))\n",
    "\n",
    "assert torch.equal(q.quant_state.absmax, q2.absmax.view(-1))\n",
    "assert torch.equal(k.quant_state.absmax, k2.absmax.view(-1))\n",
    "assert torch.equal(v.quant_state.absmax, v2.absmax.view(-1))"
   ]
  },
  {
   "cell_type": "code",
   "execution_count": 30,
   "id": "ba1a8dc3-8f40-418d-be5f-92980e0c1615",
   "metadata": {
    "scrolled": true
   },
   "outputs": [],
   "source": [
    "# quant_state = QuantState(qkv.absmax.view(-1), dtype=torch.bfloat16)\n",
    "# quant_state.shape = torch.Size([qkv.weight.shape[0], qkv.weight.shape[1] * 2])\n",
    "# quant_state.blocksize = 64\n",
    "# quant_state.quant_type = \"nf4\"\n",
    "# quant_state.code = q.quant_state.code"
   ]
  },
  {
   "cell_type": "code",
   "execution_count": 31,
   "id": "d2a3dfd8-d7e6-4a1a-95b8-061a01d009b6",
   "metadata": {},
   "outputs": [],
   "source": [
    "# dq, dk, dv = dequantize_4bit(qkv.weight.view(-1,1), quant_state).split(4096,dim=0)"
   ]
  },
  {
   "cell_type": "code",
   "execution_count": 32,
   "id": "a94fd8cb-06d5-4b2e-8aab-826029063161",
   "metadata": {},
   "outputs": [],
   "source": [
    "# assert torch.equal(dq, dequantize_4bit(q.weight, q.quant_state))\n",
    "# assert torch.equal(dk, dequantize_4bit(k.weight, k.quant_state))\n",
    "# assert torch.equal(dv, dequantize_4bit(v.weight, v.quant_state))"
   ]
  },
  {
   "cell_type": "code",
   "execution_count": 33,
   "id": "e0c3d0c9-2ce8-4260-ad84-e72f0438e18d",
   "metadata": {},
   "outputs": [],
   "source": [
    "x = torch.randn(2,4096).cuda().to(torch.bfloat16)"
   ]
  },
  {
   "cell_type": "code",
   "execution_count": 37,
   "id": "51a0cfe7-842e-4e0b-8990-6a0a12e7b73b",
   "metadata": {},
   "outputs": [],
   "source": [
    "assert torch.allclose(q(x),q2(x)[0])\n",
    "assert torch.allclose(k(x),k2(x)[0])\n",
    "assert torch.allclose(v(x),v2(x)[0])"
   ]
  },
  {
   "cell_type": "markdown",
   "id": "e576bf3f-db69-4827-9134-ee521a6a8f9d",
   "metadata": {},
   "source": [
    "#### Compare Attn"
   ]
  },
  {
   "cell_type": "code",
   "execution_count": 38,
   "id": "b84b5bca-fdf7-4cd0-8048-b0cec850bb8f",
   "metadata": {},
   "outputs": [
    {
     "data": {
      "text/plain": [
       "torch.Size([2, 4096])"
      ]
     },
     "execution_count": 38,
     "metadata": {},
     "output_type": "execute_result"
    }
   ],
   "source": [
    "x.shape"
   ]
  },
  {
   "cell_type": "code",
   "execution_count": 39,
   "id": "a2cc351c-1b29-4fdd-b578-3dbd6141bc74",
   "metadata": {},
   "outputs": [],
   "source": [
    "attn = model.get_submodule(f'model.layers.{layer}.self_attn')\n",
    "attn2 = vllm_model.get_submodule(f'model.layers.{layer}.self_attn')"
   ]
  },
  {
   "cell_type": "code",
   "execution_count": 40,
   "id": "79637f4d-55a9-486b-b59a-448d0d0da1d3",
   "metadata": {},
   "outputs": [],
   "source": [
    "attn_out1 = attn(x[None,...], position_ids=torch.tensor([[0,1]]).cuda(), attention_mask=torch.tensor([[[[1,0],[1,1]]]]).bool().cuda())[0]"
   ]
  },
  {
   "cell_type": "code",
   "execution_count": 41,
   "id": "68aea4d5-b4e1-4ce7-ba2d-504f21b0f3dc",
   "metadata": {},
   "outputs": [],
   "source": [
    "s = [SequenceGroupMetadata(\"request_id\", True, {0:SequenceData([1,100])}, sampling_params=SamplingParams(temperature=0.0), block_tables=None)]\n",
    "attn_metadata = llm.llm_engine.model_executor.driver_worker.model_runner._prepare_prompt(s)[2]"
   ]
  },
  {
   "cell_type": "code",
   "execution_count": 42,
   "id": "ef967f62-2408-4408-8d4e-63ec7692c0b5",
   "metadata": {},
   "outputs": [],
   "source": [
    "attn_out2 = attn2(torch.tensor([0,1]).cuda(), x, kv_cache=None, attn_metadata=attn_metadata)"
   ]
  },
  {
   "cell_type": "code",
   "execution_count": 45,
   "id": "e2077a1a-f5d4-4ead-a168-74fb4e3c1c71",
   "metadata": {},
   "outputs": [],
   "source": [
    "assert torch.allclose(attn_out1, attn_out2)"
   ]
  },
  {
   "cell_type": "markdown",
   "id": "dfba6f0e-593a-4495-a5d0-7d203042fa68",
   "metadata": {},
   "source": [
    "#### Compare O"
   ]
  },
  {
   "cell_type": "code",
   "execution_count": 46,
   "id": "d0af6dd4-099a-4979-96ec-93eca4405e5a",
   "metadata": {},
   "outputs": [],
   "source": [
    "o = model.get_submodule(f'model.layers.{layer}.self_attn.o_proj')"
   ]
  },
  {
   "cell_type": "code",
   "execution_count": 47,
   "id": "9dbb67a0-d4aa-4272-8bd6-03849d21544b",
   "metadata": {},
   "outputs": [],
   "source": [
    "o2 = vllm_model.get_submodule(f'model.layers.{layer}.self_attn.o_proj')"
   ]
  },
  {
   "cell_type": "code",
   "execution_count": 48,
   "id": "bc3cb036-76f5-4667-811d-6f9b5eb66c7a",
   "metadata": {},
   "outputs": [
    {
     "data": {
      "text/plain": [
       "(torch.Size([8388608, 1]), torch.Size([4096, 2048]))"
      ]
     },
     "execution_count": 48,
     "metadata": {},
     "output_type": "execute_result"
    }
   ],
   "source": [
    "o.weight.shape, o2.weight.shape"
   ]
  },
  {
   "cell_type": "code",
   "execution_count": 49,
   "id": "a746c27a-6a96-49bf-8ae9-fc30c385df71",
   "metadata": {},
   "outputs": [],
   "source": [
    "o_out,_ = o2(x)"
   ]
  },
  {
   "cell_type": "code",
   "execution_count": 50,
   "id": "3bba7a8b-35b9-43a3-a3ee-828ad230186c",
   "metadata": {},
   "outputs": [],
   "source": [
    "# o_out = o2.linear_method.apply_weights(o2.linear_weights, x, None)"
   ]
  },
  {
   "cell_type": "code",
   "execution_count": 53,
   "id": "6c8a3cf0-341a-4def-9a13-45434348cd8d",
   "metadata": {},
   "outputs": [],
   "source": [
    "assert torch.allclose(o_out,o(x))"
   ]
  },
  {
   "cell_type": "markdown",
   "id": "b37e0c02-29b6-4f38-afe4-25ced50687b0",
   "metadata": {},
   "source": [
    "#### Compare gate up"
   ]
  },
  {
   "cell_type": "code",
   "execution_count": 54,
   "id": "fc7dcccf-7351-49c4-8ca6-2194297e60ed",
   "metadata": {},
   "outputs": [],
   "source": [
    "gate = model.get_submodule(f'model.layers.{layer}.mlp.gate_proj')\n",
    "up   = model.get_submodule(f'model.layers.{layer}.mlp.up_proj')"
   ]
  },
  {
   "cell_type": "code",
   "execution_count": 55,
   "id": "c6e743c5-2b88-460a-a544-b06dd35338f2",
   "metadata": {},
   "outputs": [],
   "source": [
    "# gate_up = vllm_model.get_submodule(f'model.layers.{layer}.mlp.gate_up_proj')\n",
    "gate2 = vllm_model.get_submodule(f'model.layers.{layer}.mlp.gate_proj')\n",
    "up2 = vllm_model.get_submodule(f'model.layers.{layer}.mlp.up_proj')"
   ]
  },
  {
   "cell_type": "code",
   "execution_count": 56,
   "id": "ce6baa0c-c155-4f9c-8581-bf2f9ea58d51",
   "metadata": {},
   "outputs": [],
   "source": [
    "# gate_out = gate2.linear_method.apply_weights(gate2.linear_weights, x, None)\n",
    "gate_out,_ = gate2(x)"
   ]
  },
  {
   "cell_type": "code",
   "execution_count": 57,
   "id": "7ae57042-a572-470f-80fe-c501b2923e5f",
   "metadata": {},
   "outputs": [
    {
     "data": {
      "text/plain": [
       "tensor(1., device='cuda:0')"
      ]
     },
     "execution_count": 57,
     "metadata": {},
     "output_type": "execute_result"
    }
   ],
   "source": [
    "torch.isclose(gate(x), gate_out).float().mean()"
   ]
  },
  {
   "cell_type": "code",
   "execution_count": 58,
   "id": "e4dabe8d-e2bf-4b73-aca2-c9c2bc773761",
   "metadata": {},
   "outputs": [],
   "source": [
    "# up_out = up2.linear_method.apply_weights(up2.linear_weights, x, None)\n",
    "up_out,_ = up2(x)"
   ]
  },
  {
   "cell_type": "code",
   "execution_count": 59,
   "id": "6f1d0b9a-3ea1-43e1-9b1a-f75c55d7b223",
   "metadata": {},
   "outputs": [],
   "source": [
    "assert torch.allclose(up(x), up_out)"
   ]
  },
  {
   "cell_type": "code",
   "execution_count": 63,
   "id": "efd9f350-b431-4ca9-9d71-51bc3cf9bd0c",
   "metadata": {},
   "outputs": [],
   "source": [
    "# assert torch.equal(gate.weight, gate_up.weight.split(11008, dim=0)[0].reshape(-1,1))\n",
    "# assert torch.equal(up.weight, gate_up.weight.split(11008, dim=0)[1].reshape(-1,1))"
   ]
  },
  {
   "cell_type": "code",
   "execution_count": 64,
   "id": "be7eaccd-e212-4177-9e80-732736e7b6b8",
   "metadata": {},
   "outputs": [],
   "source": [
    "# assert torch.equal(gate.quant_state.absmax, gate_up.absmax.view(-1).split(4096*11008//64)[0])\n",
    "# assert torch.equal(up.quant_state.absmax, gate_up.absmax.view(-1).split(4096*11008//64)[1])"
   ]
  },
  {
   "cell_type": "code",
   "execution_count": 65,
   "id": "25d12aee-255e-4254-b869-7e7cd22e379c",
   "metadata": {},
   "outputs": [],
   "source": [
    "# gate_up.weight.shape, gate_up.gather_output, gate_up.bias, gate_up.linear_method"
   ]
  },
  {
   "cell_type": "code",
   "execution_count": 66,
   "id": "94bf2a25-8703-4905-9887-ad8f06d93c00",
   "metadata": {},
   "outputs": [],
   "source": [
    "# gate, up, gate_up"
   ]
  },
  {
   "cell_type": "code",
   "execution_count": 67,
   "id": "c507857b-8702-4545-8afe-082326415fda",
   "metadata": {},
   "outputs": [],
   "source": [
    "# gate_up_out = gate_up.linear_method.apply_weights(gate_up.linear_weights, x, None)"
   ]
  },
  {
   "cell_type": "code",
   "execution_count": 68,
   "id": "bb6c3f07-ed0c-48a7-988f-5e3c23ca942a",
   "metadata": {},
   "outputs": [],
   "source": [
    "# gate_up_out.shape"
   ]
  },
  {
   "cell_type": "code",
   "execution_count": 69,
   "id": "026f67c7-84b9-498a-9f02-583713e901fe",
   "metadata": {},
   "outputs": [],
   "source": [
    "# fgate, fup = gate_up_out.split(11008,dim=1)"
   ]
  },
  {
   "cell_type": "code",
   "execution_count": 70,
   "id": "7ca564a0-ed74-449d-bbd7-aa66011644c1",
   "metadata": {},
   "outputs": [],
   "source": [
    "# fgate.shape, fup.shape"
   ]
  },
  {
   "cell_type": "code",
   "execution_count": 71,
   "id": "7a5167b0-1250-4708-ade8-fc5d33fa2357",
   "metadata": {},
   "outputs": [],
   "source": [
    "# torch.isclose(fgate, gate(x)).float().mean()"
   ]
  },
  {
   "cell_type": "code",
   "execution_count": 72,
   "id": "aac5f577-1cfe-4738-84d8-0dc5c091e5e2",
   "metadata": {},
   "outputs": [],
   "source": [
    "# torch.isclose(fup, up(x)).float().mean()"
   ]
  },
  {
   "cell_type": "code",
   "execution_count": 73,
   "id": "65e4136f-8693-436f-9d39-0f3afbd7b5a5",
   "metadata": {},
   "outputs": [],
   "source": [
    "# (fgate - gate(x)).abs().max(), (fup - up(x)).abs().max()"
   ]
  },
  {
   "cell_type": "code",
   "execution_count": 74,
   "id": "700825c5-a37a-4676-93f1-a1bff4417b33",
   "metadata": {},
   "outputs": [],
   "source": [
    "# fgate - gate(x)"
   ]
  },
  {
   "cell_type": "code",
   "execution_count": 75,
   "id": "f46a385c-edc3-47ff-847f-58f29d68ee25",
   "metadata": {},
   "outputs": [],
   "source": [
    "# gate, up"
   ]
  },
  {
   "cell_type": "code",
   "execution_count": 76,
   "id": "f8232bf3-0688-4741-a3b2-26886452e09a",
   "metadata": {},
   "outputs": [],
   "source": [
    "# gate(x)"
   ]
  },
  {
   "cell_type": "code",
   "execution_count": 77,
   "id": "70cc12c1-7345-4c82-9f43-7a57f84b9c38",
   "metadata": {},
   "outputs": [],
   "source": [
    "# quant_state.absmax = gate_up.absmax.view(-1).split(4096*11008//64)[0]\n",
    "# quant_state.shape = torch.Size([11008, 4096])\n",
    "# bnb.matmul_4bit(x, gate_up.weight.split(11008, dim=0)[0].reshape(-1,1).t(), quant_state=quant_state)"
   ]
  },
  {
   "cell_type": "code",
   "execution_count": 78,
   "id": "645d0635-963b-4891-ab28-53cc0b2d02d5",
   "metadata": {},
   "outputs": [],
   "source": [
    "# torch.isclose(gate(x), bnb.matmul_4bit(x, gate_up.weight.split(11008, dim=0)[0].reshape(-1,1).t(), quant_state=quant_state)).float().mean()"
   ]
  },
  {
   "cell_type": "markdown",
   "id": "b75fac54-b9b3-4021-8902-39dcb82e10bc",
   "metadata": {},
   "source": [
    "#### Compare down"
   ]
  },
  {
   "cell_type": "code",
   "execution_count": 60,
   "id": "5677cacd-d5b6-4b1c-8e44-9faeb1b7ce76",
   "metadata": {},
   "outputs": [],
   "source": [
    "down = model.get_submodule(f'model.layers.{layer}.mlp.down_proj')"
   ]
  },
  {
   "cell_type": "code",
   "execution_count": 61,
   "id": "ab56684f-0eda-478d-8b84-45181f96e118",
   "metadata": {},
   "outputs": [],
   "source": [
    "down2 = vllm_model.get_submodule(f'model.layers.{layer}.mlp.down_proj')"
   ]
  },
  {
   "cell_type": "code",
   "execution_count": 62,
   "id": "1d0a262b-62b0-44f9-b141-5525f4dea87a",
   "metadata": {},
   "outputs": [],
   "source": [
    "assert torch.equal(down.weight, down2.weight.reshape(-1,1))"
   ]
  },
  {
   "cell_type": "code",
   "execution_count": 63,
   "id": "e3157d4d-0bcd-4321-8a9a-31b29834008e",
   "metadata": {},
   "outputs": [],
   "source": [
    "assert torch.equal(down.quant_state.absmax, down2.absmax.view(-1))"
   ]
  },
  {
   "cell_type": "code",
   "execution_count": 64,
   "id": "e47501a0-4577-4099-a00f-6a9e18ad6b6b",
   "metadata": {},
   "outputs": [],
   "source": [
    "x2 = torch.randn(2,11008).cuda().to(torch.bfloat16)"
   ]
  },
  {
   "cell_type": "code",
   "execution_count": 65,
   "id": "2ea8b141-9b7d-4c9f-9fe4-ee6f2c5915c0",
   "metadata": {},
   "outputs": [],
   "source": [
    "# down_out = down2.linear_method.apply_weights(down2.linear_weights, x2, None)\n",
    "down_out,_ = down2(x2)"
   ]
  },
  {
   "cell_type": "code",
   "execution_count": 66,
   "id": "1408068e-90ed-40cc-9559-9a0569ebfa33",
   "metadata": {},
   "outputs": [],
   "source": [
    "assert torch.allclose(down_out,down(x2))"
   ]
  },
  {
   "cell_type": "markdown",
   "id": "db40cb18-6317-4cc0-b314-7eeffbb325ba",
   "metadata": {},
   "source": [
    "#### Compare MLP"
   ]
  },
  {
   "cell_type": "code",
   "execution_count": 67,
   "id": "67779aaa-f7c9-41ef-935f-dfa7ccec77af",
   "metadata": {},
   "outputs": [
    {
     "data": {
      "text/plain": [
       "torch.Size([2, 4096])"
      ]
     },
     "execution_count": 67,
     "metadata": {},
     "output_type": "execute_result"
    }
   ],
   "source": [
    "x.shape"
   ]
  },
  {
   "cell_type": "code",
   "execution_count": 68,
   "id": "1067f030-2ae7-4d56-b20d-f149b69c0e20",
   "metadata": {},
   "outputs": [],
   "source": [
    "mlp = model.get_submodule(f'model.layers.{layer}.mlp')\n",
    "mlp2 = vllm_model.get_submodule(f'model.layers.{layer}.mlp')"
   ]
  },
  {
   "cell_type": "code",
   "execution_count": 69,
   "id": "471a7388-4001-4790-bd40-9dacc5ea8ded",
   "metadata": {},
   "outputs": [],
   "source": [
    "mlp_out1 = mlp(x)"
   ]
  },
  {
   "cell_type": "code",
   "execution_count": 70,
   "id": "c452a5f6-204a-4096-b220-3101bc3b5040",
   "metadata": {},
   "outputs": [],
   "source": [
    "mlp_out2 = mlp2(x)"
   ]
  },
  {
   "cell_type": "code",
   "execution_count": 71,
   "id": "4639bf43-9665-4172-baee-6dca155925a4",
   "metadata": {},
   "outputs": [],
   "source": [
    "assert torch.allclose(mlp_out1, mlp_out2)"
   ]
  },
  {
   "cell_type": "markdown",
   "id": "2506dfcf-7803-4109-829e-ca0e6e97c8fd",
   "metadata": {},
   "source": [
    "#### Compare decoder"
   ]
  },
  {
   "cell_type": "code",
   "execution_count": 72,
   "id": "1fb177ee-00ab-40d5-b085-5225c3dcdd46",
   "metadata": {},
   "outputs": [],
   "source": [
    "for layer in range(model.config.num_hidden_layers):\n",
    "    dec = model.model.layers[layer]\n",
    "    dec2 = vllm_model.model.layers[layer]\n",
    "    \n",
    "    x, x.shape\n",
    "    \n",
    "    out1 = dec(x[None,...], \n",
    "                 position_ids=torch.tensor([[0,1]]).cuda(), \n",
    "                 attention_mask=torch.tensor([[[[1,0],[1,1]]]]).bool().cuda())\n",
    "    \n",
    "    out1[0]\n",
    "    \n",
    "    s = [SequenceGroupMetadata(\"request_id\", True, {0:SequenceData([7,42])}, sampling_params=SamplingParams(temperature=0.0), block_tables=None)]\n",
    "    attn_metadata = llm.llm_engine.model_executor.driver_worker.model_runner._prepare_prompt(s)[2]\n",
    "    \n",
    "    out2 = dec2(hidden_states=x, \n",
    "                      positions=torch.tensor([0,1]).cuda(), \n",
    "                      kv_cache=None, \n",
    "                      attn_metadata=attn_metadata, \n",
    "                      residual=x)\n",
    "    \n",
    "    assert torch.allclose(out1[0], out2[0])"
   ]
  },
  {
   "cell_type": "code",
   "execution_count": 137,
   "id": "bf971e9e-fce6-4a27-8775-7261086abcb1",
   "metadata": {},
   "outputs": [],
   "source": [
    "import torch\n",
    "import torch.nn.functional as F\n",
    "from torch import nn\n",
    "import collections\n",
    "from typing import DefaultDict, Tuple, List, Dict\n",
    "from functools import partial\n",
    "from collections import OrderedDict\n",
    "\n",
    "def save_activations(\n",
    "        activations: DefaultDict,\n",
    "        name: str,\n",
    "        module: nn.Module,\n",
    "        inp: Tuple,\n",
    "        out: torch.Tensor\n",
    ") -> None:\n",
    "    \"\"\"PyTorch Forward hook to save outputs at each forward\n",
    "    pass. Mutates specified dict objects with each fwd pass.\n",
    "    \"\"\"\n",
    "    if \"layer\" in name:\n",
    "        activations[name].append(out[0].detach().cpu())\n",
    "    else:\n",
    "        activations[name].append(out.detach().cpu())\n",
    "def register_activation_hooks(\n",
    "        model: nn.Module,\n",
    "        layers_to_save: List[str]\n",
    ") -> DefaultDict[List, torch.Tensor]:\n",
    "    \"\"\"Registers forward hooks in specified layers.\n",
    "    Parameters\n",
    "    ----------\n",
    "    model:\n",
    "        PyTorch model\n",
    "    layers_to_save:\n",
    "        Module names within ``model`` whose activations we want to save.\n",
    "\n",
    "    Returns\n",
    "    -------\n",
    "    activations_dict:\n",
    "        dict of lists containing activations of specified layers in\n",
    "        ``layers_to_save``.\n",
    "    \"\"\"\n",
    "    activations_dict = collections.defaultdict(list)\n",
    "\n",
    "    for name, module in model.named_modules():\n",
    "        if any(name.endswith(l) for l in layers_to_save):\n",
    "            module.register_forward_hook(\n",
    "                partial(save_activations, activations_dict, name)\n",
    "            )\n",
    "    return activations_dict"
   ]
  },
  {
   "cell_type": "code",
   "execution_count": 146,
   "id": "767be7c3-3e7d-414b-8ab7-2537aad82fda",
   "metadata": {
    "scrolled": true
   },
   "outputs": [],
   "source": [
    "for name, module in model.named_modules(): \n",
    "    module._forward_hooks = OrderedDict()\n",
    "    # print(name)"
   ]
  },
  {
   "cell_type": "code",
   "execution_count": 147,
   "id": "9f56796b-d63a-4684-84d0-8f6717617ba4",
   "metadata": {},
   "outputs": [],
   "source": [
    "for name, module in vllm_model.named_modules(): \n",
    "    module._forward_hooks = OrderedDict()\n",
    "    # print(name)"
   ]
  },
  {
   "cell_type": "code",
   "execution_count": 148,
   "id": "093842a8-2a27-4c22-a6d3-d0b4a0e6d381",
   "metadata": {},
   "outputs": [],
   "source": [
    "layers_to_save = [f\"layers.{i}\" for i in range(model.config.num_hidden_layers)] + [\".norm\", \"lm_head\"] "
   ]
  },
  {
   "cell_type": "code",
   "execution_count": 149,
   "id": "a3fcf6db-d53e-4d37-ad03-9b3675bd5272",
   "metadata": {},
   "outputs": [],
   "source": [
    "hf_saved_activations = register_activation_hooks(model, layers_to_save=layers_to_save)"
   ]
  },
  {
   "cell_type": "code",
   "execution_count": 150,
   "id": "2f2007f1-7a09-4bfc-bc19-a486e3a63f86",
   "metadata": {
    "scrolled": true
   },
   "outputs": [],
   "source": [
    "with torch.no_grad():\n",
    "    _ = model(input_ids, \n",
    "              position_ids=torch.tensor([[0,1]]).cuda(), \n",
    "              attention_mask=torch.tensor([[[[1,0],\n",
    "                                             [1,1]]]]).bool().cuda())"
   ]
  },
  {
   "cell_type": "code",
   "execution_count": 151,
   "id": "0b891d82-2813-4194-992f-a67fe1101ab4",
   "metadata": {},
   "outputs": [],
   "source": [
    "vllm_saved_activations = register_activation_hooks(vllm_model, layers_to_save=layers_to_save)"
   ]
  },
  {
   "cell_type": "code",
   "execution_count": 152,
   "id": "4afeb43a-c192-4ce2-a33f-630ca0c59d48",
   "metadata": {
    "scrolled": true
   },
   "outputs": [],
   "source": [
    "with torch.no_grad():\n",
    "    _ = vllm_model(input_ids=input_ids.flatten(), \n",
    "                  positions=torch.tensor([0,1]).cuda(), \n",
    "                  kv_caches=[None]*model.config.num_hidden_layers, \n",
    "                  attn_metadata=attn_metadata)"
   ]
  },
  {
   "cell_type": "code",
   "execution_count": 153,
   "id": "e8c371be-e8db-4e5e-beb9-3c3de78ab107",
   "metadata": {
    "scrolled": true
   },
   "outputs": [
    {
     "name": "stdout",
     "output_type": "stream",
     "text": [
      "model.layers.0 torch.Size([1, 2, 4096]) torch.Size([2, 4096]) True\n",
      "model.layers.1 torch.Size([1, 2, 4096]) torch.Size([2, 4096]) True\n",
      "model.layers.2 torch.Size([1, 2, 4096]) torch.Size([2, 4096]) True\n",
      "model.layers.3 torch.Size([1, 2, 4096]) torch.Size([2, 4096]) True\n",
      "model.layers.4 torch.Size([1, 2, 4096]) torch.Size([2, 4096]) True\n",
      "model.layers.5 torch.Size([1, 2, 4096]) torch.Size([2, 4096]) True\n",
      "model.layers.6 torch.Size([1, 2, 4096]) torch.Size([2, 4096]) True\n",
      "model.layers.7 torch.Size([1, 2, 4096]) torch.Size([2, 4096]) True\n",
      "model.layers.8 torch.Size([1, 2, 4096]) torch.Size([2, 4096]) True\n",
      "model.layers.9 torch.Size([1, 2, 4096]) torch.Size([2, 4096]) True\n",
      "model.layers.10 torch.Size([1, 2, 4096]) torch.Size([2, 4096]) True\n",
      "model.layers.11 torch.Size([1, 2, 4096]) torch.Size([2, 4096]) True\n",
      "model.layers.12 torch.Size([1, 2, 4096]) torch.Size([2, 4096]) True\n",
      "model.layers.13 torch.Size([1, 2, 4096]) torch.Size([2, 4096]) True\n",
      "model.layers.14 torch.Size([1, 2, 4096]) torch.Size([2, 4096]) True\n",
      "model.layers.15 torch.Size([1, 2, 4096]) torch.Size([2, 4096]) True\n",
      "model.layers.16 torch.Size([1, 2, 4096]) torch.Size([2, 4096]) True\n",
      "model.layers.17 torch.Size([1, 2, 4096]) torch.Size([2, 4096]) True\n",
      "model.layers.18 torch.Size([1, 2, 4096]) torch.Size([2, 4096]) True\n",
      "model.layers.19 torch.Size([1, 2, 4096]) torch.Size([2, 4096]) True\n",
      "model.layers.20 torch.Size([1, 2, 4096]) torch.Size([2, 4096]) True\n",
      "model.layers.21 torch.Size([1, 2, 4096]) torch.Size([2, 4096]) True\n",
      "model.layers.22 torch.Size([1, 2, 4096]) torch.Size([2, 4096]) True\n",
      "model.layers.23 torch.Size([1, 2, 4096]) torch.Size([2, 4096]) True\n",
      "model.layers.24 torch.Size([1, 2, 4096]) torch.Size([2, 4096]) True\n",
      "model.layers.25 torch.Size([1, 2, 4096]) torch.Size([2, 4096]) True\n",
      "model.layers.26 torch.Size([1, 2, 4096]) torch.Size([2, 4096]) True\n",
      "model.layers.27 torch.Size([1, 2, 4096]) torch.Size([2, 4096]) True\n",
      "model.layers.28 torch.Size([1, 2, 4096]) torch.Size([2, 4096]) True\n",
      "model.layers.29 torch.Size([1, 2, 4096]) torch.Size([2, 4096]) True\n",
      "model.layers.30 torch.Size([1, 2, 4096]) torch.Size([2, 4096]) True\n",
      "model.layers.31 torch.Size([1, 2, 4096]) torch.Size([2, 4096]) True\n",
      "model.norm torch.Size([1, 2, 4096]) torch.Size([2, 4096]) True\n"
     ]
    },
    {
     "ename": "IndexError",
     "evalue": "list index out of range",
     "output_type": "error",
     "traceback": [
      "\u001b[0;31m---------------------------------------------------------------------------\u001b[0m",
      "\u001b[0;31mIndexError\u001b[0m                                Traceback (most recent call last)",
      "Cell \u001b[0;32mIn[153], line 2\u001b[0m\n\u001b[1;32m      1\u001b[0m \u001b[38;5;28;01mfor\u001b[39;00m k,v \u001b[38;5;129;01min\u001b[39;00m hf_saved_activations\u001b[38;5;241m.\u001b[39mitems():\n\u001b[0;32m----> 2\u001b[0m     \u001b[38;5;28mprint\u001b[39m(k, v[\u001b[38;5;241m0\u001b[39m]\u001b[38;5;241m.\u001b[39mshape, \u001b[43mvllm_saved_activations\u001b[49m\u001b[43m[\u001b[49m\u001b[43mk\u001b[49m\u001b[43m]\u001b[49m\u001b[43m[\u001b[49m\u001b[38;5;241;43m0\u001b[39;49m\u001b[43m]\u001b[49m\u001b[38;5;241m.\u001b[39mshape,\n\u001b[1;32m      3\u001b[0m           torch\u001b[38;5;241m.\u001b[39mallclose(v[\u001b[38;5;241m0\u001b[39m], vllm_saved_activations[k][\u001b[38;5;241m0\u001b[39m]))\n",
      "\u001b[0;31mIndexError\u001b[0m: list index out of range"
     ]
    }
   ],
   "source": [
    "for k,v in hf_saved_activations.items():\n",
    "    print(k, v[0].shape, vllm_saved_activations[k][0].shape,\n",
    "          torch.allclose(v[0], vllm_saved_activations[k][0]))"
   ]
  },
  {
   "cell_type": "code",
   "execution_count": 154,
   "id": "43c886b2-7286-4e1c-99e4-785df81060da",
   "metadata": {},
   "outputs": [
    {
     "data": {
      "text/plain": [
       "[tensor([[[-5.8438, -0.5234,  4.2500,  ..., -3.7656, -5.1250, -2.0312],\n",
       "          [ 1.7031,  0.5000, -0.0359,  ...,  2.2656,  2.9688,  1.8672]]],\n",
       "        dtype=torch.bfloat16)]"
      ]
     },
     "execution_count": 154,
     "metadata": {},
     "output_type": "execute_result"
    }
   ],
   "source": [
    "hf_saved_activations['lm_head']"
   ]
  },
  {
   "cell_type": "code",
   "execution_count": 155,
   "id": "158e1af5-155f-43c0-9489-7e7dd7105956",
   "metadata": {},
   "outputs": [
    {
     "data": {
      "text/plain": [
       "[]"
      ]
     },
     "execution_count": 155,
     "metadata": {},
     "output_type": "execute_result"
    }
   ],
   "source": [
    "vllm_saved_activations['lm_head']"
   ]
  },
  {
   "cell_type": "code",
   "execution_count": 118,
   "id": "17a5da10-71ab-47f1-b843-671e2b13032e",
   "metadata": {},
   "outputs": [
    {
     "data": {
      "text/plain": [
       "tensor([[[ 0.5273, -0.7305, -1.4844,  ..., -0.4082, -0.2871,  3.0781],\n",
       "         [ 0.0854, -0.0349, -0.0530,  ...,  0.0356, -0.0376,  0.1953]]],\n",
       "       device='cuda:0', dtype=torch.bfloat16, grad_fn=<MulBackward0>)"
      ]
     },
     "execution_count": 118,
     "metadata": {},
     "output_type": "execute_result"
    }
   ],
   "source": [
    "model.model.norm(hf_saved_activations['model.layers.31'][0].cuda())"
   ]
  },
  {
   "cell_type": "code",
   "execution_count": 119,
   "id": "fb5ef8af-58de-482e-b3d8-c78371d44ae2",
   "metadata": {},
   "outputs": [
    {
     "data": {
      "text/plain": [
       "tensor([[ 0.5273, -0.7305, -1.4844,  ..., -0.4082, -0.2871,  3.0781],\n",
       "        [ 0.0854, -0.0349, -0.0530,  ...,  0.0356, -0.0376,  0.1953]],\n",
       "       device='cuda:0', dtype=torch.bfloat16)"
      ]
     },
     "execution_count": 119,
     "metadata": {},
     "output_type": "execute_result"
    }
   ],
   "source": [
    "vllm_model.model.norm(vllm_saved_activations['model.layers.31'][0].cuda())"
   ]
  },
  {
   "cell_type": "code",
   "execution_count": 120,
   "id": "662d5621-0798-427a-8f1a-e097a53e3b0c",
   "metadata": {},
   "outputs": [
    {
     "data": {
      "text/plain": [
       "Parameter containing:\n",
       "tensor([1.8672, 1.8672, 1.8047,  ..., 1.7188, 1.8281, 1.6016], device='cuda:0',\n",
       "       dtype=torch.bfloat16, requires_grad=True)"
      ]
     },
     "execution_count": 120,
     "metadata": {},
     "output_type": "execute_result"
    }
   ],
   "source": [
    "model.model.norm.weight"
   ]
  },
  {
   "cell_type": "code",
   "execution_count": 121,
   "id": "90b74076-05b8-4ca5-965f-d7c92ed10d5c",
   "metadata": {},
   "outputs": [
    {
     "data": {
      "text/plain": [
       "Parameter containing:\n",
       "tensor([1.8672, 1.8672, 1.8047,  ..., 1.7188, 1.8281, 1.6016], device='cuda:0',\n",
       "       dtype=torch.bfloat16, requires_grad=True)"
      ]
     },
     "execution_count": 121,
     "metadata": {},
     "output_type": "execute_result"
    }
   ],
   "source": [
    "vllm_model.model.norm.weight"
   ]
  },
  {
   "cell_type": "code",
   "execution_count": 164,
   "id": "44d255fd-eff8-4752-8383-f52c48f1ccbf",
   "metadata": {
    "scrolled": true
   },
   "outputs": [
    {
     "data": {
      "text/plain": [
       "\u001b[0;31mSignature:\u001b[0m      \u001b[0mvllm_model\u001b[0m\u001b[0;34m.\u001b[0m\u001b[0mlm_head\u001b[0m\u001b[0;34m(\u001b[0m\u001b[0;34m*\u001b[0m\u001b[0margs\u001b[0m\u001b[0;34m,\u001b[0m \u001b[0;34m**\u001b[0m\u001b[0mkwargs\u001b[0m\u001b[0;34m)\u001b[0m\u001b[0;34m\u001b[0m\u001b[0;34m\u001b[0m\u001b[0m\n",
       "\u001b[0;31mType:\u001b[0m           ParallelLMHead\n",
       "\u001b[0;31mString form:\u001b[0m    ParallelLMHead()\n",
       "\u001b[0;31mFile:\u001b[0m           ~/git/vllm-fork/vllm/model_executor/layers/vocab_parallel_embedding.py\n",
       "\u001b[0;31mSource:\u001b[0m        \n",
       "\u001b[0;32mclass\u001b[0m \u001b[0mParallelLMHead\u001b[0m\u001b[0;34m(\u001b[0m\u001b[0mVocabParallelEmbedding\u001b[0m\u001b[0;34m)\u001b[0m\u001b[0;34m:\u001b[0m\u001b[0;34m\u001b[0m\n",
       "\u001b[0;34m\u001b[0m    \u001b[0;34m\"\"\"Parallelized LM head.\u001b[0m\n",
       "\u001b[0;34m\u001b[0m\n",
       "\u001b[0;34m    Output logits weight matrices used in the Sampler. The weight and bias\u001b[0m\n",
       "\u001b[0;34m    tensors are padded to make sure they are divisible by the number of\u001b[0m\n",
       "\u001b[0;34m    model parallel GPUs.\u001b[0m\n",
       "\u001b[0;34m\u001b[0m\n",
       "\u001b[0;34m    Args:\u001b[0m\n",
       "\u001b[0;34m        num_embeddings: vocabulary size.\u001b[0m\n",
       "\u001b[0;34m        embedding_dim: size of hidden state.\u001b[0m\n",
       "\u001b[0;34m        bias: whether to use bias.\u001b[0m\n",
       "\u001b[0;34m        params_dtype: type of the parameters.\u001b[0m\n",
       "\u001b[0;34m        org_num_embeddings: original vocabulary size (without LoRA).\u001b[0m\n",
       "\u001b[0;34m        padding_size: padding size for the vocabulary.\u001b[0m\n",
       "\u001b[0;34m    \"\"\"\u001b[0m\u001b[0;34m\u001b[0m\n",
       "\u001b[0;34m\u001b[0m\u001b[0;34m\u001b[0m\n",
       "\u001b[0;34m\u001b[0m    \u001b[0;32mdef\u001b[0m \u001b[0m__init__\u001b[0m\u001b[0;34m(\u001b[0m\u001b[0mself\u001b[0m\u001b[0;34m,\u001b[0m\u001b[0;34m\u001b[0m\n",
       "\u001b[0;34m\u001b[0m                 \u001b[0mnum_embeddings\u001b[0m\u001b[0;34m:\u001b[0m \u001b[0mint\u001b[0m\u001b[0;34m,\u001b[0m\u001b[0;34m\u001b[0m\n",
       "\u001b[0;34m\u001b[0m                 \u001b[0membedding_dim\u001b[0m\u001b[0;34m:\u001b[0m \u001b[0mint\u001b[0m\u001b[0;34m,\u001b[0m\u001b[0;34m\u001b[0m\n",
       "\u001b[0;34m\u001b[0m                 \u001b[0mbias\u001b[0m\u001b[0;34m:\u001b[0m \u001b[0mbool\u001b[0m \u001b[0;34m=\u001b[0m \u001b[0;32mFalse\u001b[0m\u001b[0;34m,\u001b[0m\u001b[0;34m\u001b[0m\n",
       "\u001b[0;34m\u001b[0m                 \u001b[0mparams_dtype\u001b[0m\u001b[0;34m:\u001b[0m \u001b[0mOptional\u001b[0m\u001b[0;34m[\u001b[0m\u001b[0mtorch\u001b[0m\u001b[0;34m.\u001b[0m\u001b[0mdtype\u001b[0m\u001b[0;34m]\u001b[0m \u001b[0;34m=\u001b[0m \u001b[0;32mNone\u001b[0m\u001b[0;34m,\u001b[0m\u001b[0;34m\u001b[0m\n",
       "\u001b[0;34m\u001b[0m                 \u001b[0morg_num_embeddings\u001b[0m\u001b[0;34m:\u001b[0m \u001b[0mOptional\u001b[0m\u001b[0;34m[\u001b[0m\u001b[0mint\u001b[0m\u001b[0;34m]\u001b[0m \u001b[0;34m=\u001b[0m \u001b[0;32mNone\u001b[0m\u001b[0;34m,\u001b[0m\u001b[0;34m\u001b[0m\n",
       "\u001b[0;34m\u001b[0m                 \u001b[0mpadding_size\u001b[0m\u001b[0;34m:\u001b[0m \u001b[0mint\u001b[0m \u001b[0;34m=\u001b[0m \u001b[0mDEFAULT_VOCAB_PADDING_SIZE\u001b[0m\u001b[0;34m)\u001b[0m\u001b[0;34m:\u001b[0m\u001b[0;34m\u001b[0m\n",
       "\u001b[0;34m\u001b[0m        \u001b[0msuper\u001b[0m\u001b[0;34m(\u001b[0m\u001b[0;34m)\u001b[0m\u001b[0;34m.\u001b[0m\u001b[0m__init__\u001b[0m\u001b[0;34m(\u001b[0m\u001b[0mnum_embeddings\u001b[0m\u001b[0;34m,\u001b[0m \u001b[0membedding_dim\u001b[0m\u001b[0;34m,\u001b[0m \u001b[0mparams_dtype\u001b[0m\u001b[0;34m,\u001b[0m\u001b[0;34m\u001b[0m\n",
       "\u001b[0;34m\u001b[0m                         \u001b[0morg_num_embeddings\u001b[0m\u001b[0;34m,\u001b[0m \u001b[0mpadding_size\u001b[0m\u001b[0;34m)\u001b[0m\u001b[0;34m\u001b[0m\n",
       "\u001b[0;34m\u001b[0m        \u001b[0;32mif\u001b[0m \u001b[0mbias\u001b[0m\u001b[0;34m:\u001b[0m\u001b[0;34m\u001b[0m\n",
       "\u001b[0;34m\u001b[0m            \u001b[0mself\u001b[0m\u001b[0;34m.\u001b[0m\u001b[0mbias\u001b[0m \u001b[0;34m=\u001b[0m \u001b[0mParameter\u001b[0m\u001b[0;34m(\u001b[0m\u001b[0;34m\u001b[0m\n",
       "\u001b[0;34m\u001b[0m                \u001b[0mtorch\u001b[0m\u001b[0;34m.\u001b[0m\u001b[0mempty\u001b[0m\u001b[0;34m(\u001b[0m\u001b[0mself\u001b[0m\u001b[0;34m.\u001b[0m\u001b[0mnum_embeddings_per_partition\u001b[0m\u001b[0;34m,\u001b[0m\u001b[0;34m\u001b[0m\n",
       "\u001b[0;34m\u001b[0m                            \u001b[0mdtype\u001b[0m\u001b[0;34m=\u001b[0m\u001b[0mparams_dtype\u001b[0m\u001b[0;34m)\u001b[0m\u001b[0;34m)\u001b[0m\u001b[0;34m\u001b[0m\n",
       "\u001b[0;34m\u001b[0m            \u001b[0mset_weight_attrs\u001b[0m\u001b[0;34m(\u001b[0m\u001b[0mself\u001b[0m\u001b[0;34m.\u001b[0m\u001b[0mbias\u001b[0m\u001b[0;34m,\u001b[0m \u001b[0;34m{\u001b[0m\u001b[0;34m\u001b[0m\n",
       "\u001b[0;34m\u001b[0m                \u001b[0;34m\"parallel_dim\"\u001b[0m\u001b[0;34m:\u001b[0m \u001b[0;36m0\u001b[0m\u001b[0;34m,\u001b[0m\u001b[0;34m\u001b[0m\n",
       "\u001b[0;34m\u001b[0m                \u001b[0;34m\"weight_loader\"\u001b[0m\u001b[0;34m:\u001b[0m \u001b[0mself\u001b[0m\u001b[0;34m.\u001b[0m\u001b[0mweight_loader\u001b[0m\u001b[0;34m\u001b[0m\n",
       "\u001b[0;34m\u001b[0m            \u001b[0;34m}\u001b[0m\u001b[0;34m)\u001b[0m\u001b[0;34m\u001b[0m\n",
       "\u001b[0;34m\u001b[0m        \u001b[0;32melse\u001b[0m\u001b[0;34m:\u001b[0m\u001b[0;34m\u001b[0m\n",
       "\u001b[0;34m\u001b[0m            \u001b[0mself\u001b[0m\u001b[0;34m.\u001b[0m\u001b[0mregister_parameter\u001b[0m\u001b[0;34m(\u001b[0m\u001b[0;34m\"bias\"\u001b[0m\u001b[0;34m,\u001b[0m \u001b[0;32mNone\u001b[0m\u001b[0;34m)\u001b[0m\u001b[0;34m\u001b[0m\n",
       "\u001b[0;34m\u001b[0m\u001b[0;34m\u001b[0m\n",
       "\u001b[0;34m\u001b[0m    \u001b[0;32mdef\u001b[0m \u001b[0mforward\u001b[0m\u001b[0;34m(\u001b[0m\u001b[0mself\u001b[0m\u001b[0;34m,\u001b[0m \u001b[0minput_\u001b[0m\u001b[0;34m)\u001b[0m\u001b[0;34m:\u001b[0m\u001b[0;34m\u001b[0m\n",
       "\u001b[0;34m\u001b[0m        \u001b[0;32mdel\u001b[0m \u001b[0minput_\u001b[0m\u001b[0;34m\u001b[0m\n",
       "\u001b[0;34m\u001b[0m        \u001b[0;32mraise\u001b[0m \u001b[0mRuntimeError\u001b[0m\u001b[0;34m(\u001b[0m\u001b[0;34m\"LMHead's weights should be used in the sampler.\"\u001b[0m\u001b[0;34m)\u001b[0m\u001b[0;34m\u001b[0m\u001b[0;34m\u001b[0m\u001b[0m\n",
       "\u001b[0;31mInit docstring:\u001b[0m Initializes internal Module state, shared by both nn.Module and ScriptModule."
      ]
     },
     "metadata": {},
     "output_type": "display_data"
    }
   ],
   "source": [
    "vllm_model.lm_head??"
   ]
  },
  {
   "cell_type": "code",
   "execution_count": null,
   "id": "e91d586a-d257-4e22-877c-1a56b18cf8f4",
   "metadata": {},
   "outputs": [],
   "source": []
  },
  {
   "cell_type": "code",
   "execution_count": null,
   "id": "39eda9ca-3b6e-423b-a6c1-dcc650aafc3e",
   "metadata": {},
   "outputs": [],
   "source": []
  },
  {
   "cell_type": "markdown",
   "id": "d9187ed5-5e80-4724-b578-b8c1423b0df8",
   "metadata": {},
   "source": [
    "#### Compare model"
   ]
  },
  {
   "cell_type": "code",
   "execution_count": 156,
   "id": "161d0cef-3c9a-402f-a8e2-7375b93e83b7",
   "metadata": {
    "scrolled": true
   },
   "outputs": [],
   "source": [
    "out1 = model(input_ids, \n",
    "             position_ids=torch.tensor([[0,1]]).cuda(), \n",
    "             attention_mask=torch.tensor([[[[1,0],[1,1]]]]).bool().cuda()).logits"
   ]
  },
  {
   "cell_type": "code",
   "execution_count": 157,
   "id": "86281556-da6d-49ce-9328-49165adc6d7f",
   "metadata": {},
   "outputs": [],
   "source": [
    "s = [SequenceGroupMetadata(\"request_id\", True, {0:SequenceData([7,42])}, sampling_params=SamplingParams(temperature=0.0), block_tables=None)]\n",
    "attn_metadata = llm.llm_engine.model_executor.driver_worker.model_runner._prepare_prompt(s)[2]"
   ]
  },
  {
   "cell_type": "code",
   "execution_count": 158,
   "id": "1a1d441a-af87-4991-99fb-84dd1b806326",
   "metadata": {},
   "outputs": [],
   "source": [
    "out2 = vllm_model(input_ids=input_ids.flatten(), \n",
    "                  positions=torch.tensor([0,1]).cuda(), \n",
    "                  kv_caches=[None]*model.config.num_hidden_layers, \n",
    "                  attn_metadata=attn_metadata)"
   ]
  },
  {
   "cell_type": "code",
   "execution_count": 159,
   "id": "3da33ebd-0ba6-4e2e-a806-0ad9926f5e86",
   "metadata": {},
   "outputs": [
    {
     "data": {
      "text/plain": [
       "tensor([[[-5.8438, -0.5234,  4.2500,  ..., -3.7656, -5.1250, -2.0312],\n",
       "         [ 1.7031,  0.5000, -0.0359,  ...,  2.2656,  2.9688,  1.8672]]],\n",
       "       device='cuda:0', grad_fn=<ToCopyBackward0>)"
      ]
     },
     "execution_count": 159,
     "metadata": {},
     "output_type": "execute_result"
    }
   ],
   "source": [
    "out1"
   ]
  },
  {
   "cell_type": "code",
   "execution_count": 160,
   "id": "7a64f322-b7a9-433f-8e0e-4e116c96e518",
   "metadata": {},
   "outputs": [
    {
     "data": {
      "text/plain": [
       "tensor([[ 0.5273, -0.7305, -1.4844,  ..., -0.4082, -0.2871,  3.0781],\n",
       "        [ 0.0854, -0.0349, -0.0530,  ...,  0.0356, -0.0376,  0.1953]],\n",
       "       device='cuda:0', dtype=torch.bfloat16)"
      ]
     },
     "execution_count": 160,
     "metadata": {},
     "output_type": "execute_result"
    }
   ],
   "source": [
    "out2"
   ]
  },
  {
   "cell_type": "code",
   "execution_count": 161,
   "id": "44e5541c-3904-40a7-a8f4-ca9375d3a056",
   "metadata": {},
   "outputs": [
    {
     "data": {
      "text/plain": [
       "Parameter containing:\n",
       "tensor([[-0.0039,  0.0032, -0.0071,  ...,  0.0053, -0.0082,  0.0070],\n",
       "        [-0.0315,  0.0466, -0.0023,  ..., -0.0211,  0.0173,  0.0334],\n",
       "        [-0.0125,  0.0037,  0.0195,  ..., -0.0271,  0.0143, -0.0082],\n",
       "        ...,\n",
       "        [-0.0281, -0.0195, -0.0024,  ...,  0.0123, -0.0117, -0.0237],\n",
       "        [ 0.0229,  0.0255,  0.0315,  ...,  0.0067, -0.0092, -0.0058],\n",
       "        [ 0.0080, -0.0088,  0.0063,  ..., -0.0293, -0.0200,  0.0337]],\n",
       "       device='cuda:0', dtype=torch.bfloat16, requires_grad=True)"
      ]
     },
     "execution_count": 161,
     "metadata": {},
     "output_type": "execute_result"
    }
   ],
   "source": [
    "model.lm_head.weight"
   ]
  },
  {
   "cell_type": "code",
   "execution_count": 175,
   "id": "e9b2b6e1-fda3-4260-9f31-687669d03c7d",
   "metadata": {},
   "outputs": [
    {
     "data": {
      "text/plain": [
       "Parameter containing:\n",
       "tensor([[-0.0039,  0.0032, -0.0071,  ...,  0.0053, -0.0082,  0.0070],\n",
       "        [-0.0315,  0.0466, -0.0023,  ..., -0.0211,  0.0173,  0.0334],\n",
       "        [-0.0125,  0.0037,  0.0195,  ..., -0.0271,  0.0143, -0.0082],\n",
       "        ...,\n",
       "        [-0.0281, -0.0195, -0.0024,  ...,  0.0123, -0.0117, -0.0237],\n",
       "        [ 0.0229,  0.0255,  0.0315,  ...,  0.0067, -0.0092, -0.0058],\n",
       "        [ 0.0080, -0.0088,  0.0063,  ..., -0.0293, -0.0200,  0.0337]],\n",
       "       device='cuda:0', dtype=torch.bfloat16, requires_grad=True)"
      ]
     },
     "execution_count": 175,
     "metadata": {},
     "output_type": "execute_result"
    }
   ],
   "source": [
    "vllm_model.lm_head.weight"
   ]
  },
  {
   "cell_type": "code",
   "execution_count": null,
   "id": "b4d1e850-ad5b-4a31-97ec-793edba52e8f",
   "metadata": {},
   "outputs": [],
   "source": []
  },
  {
   "cell_type": "code",
   "execution_count": null,
   "id": "ef79c5b7-5a79-4498-8b28-df8f32802cb7",
   "metadata": {},
   "outputs": [],
   "source": []
  },
  {
   "cell_type": "markdown",
   "id": "d3ceca3c-ee2d-49c5-b54f-478b60945cff",
   "metadata": {},
   "source": [
    "### Compare Activations"
   ]
  },
  {
   "cell_type": "code",
   "execution_count": 124,
   "id": "3e7ca28d-df4e-4c9e-8d68-244dc4d98eb7",
   "metadata": {},
   "outputs": [],
   "source": [
    "import matplotlib.pyplot as plt"
   ]
  },
  {
   "cell_type": "code",
   "execution_count": 125,
   "id": "b9546560-2af1-4c77-986f-0a60c57d7505",
   "metadata": {},
   "outputs": [],
   "source": [
    "from vllm.sequence import SequenceGroupMetadata, SequenceData"
   ]
  },
  {
   "cell_type": "code",
   "execution_count": 126,
   "id": "b450e2d2-418c-432c-a0cd-502bbfad2e89",
   "metadata": {},
   "outputs": [],
   "source": [
    "import torch\n",
    "import torch.nn.functional as F\n",
    "from torch import nn\n",
    "import collections\n",
    "from typing import DefaultDict, Tuple, List, Dict\n",
    "from functools import partial\n",
    "from collections import OrderedDict\n",
    "\n",
    "\n",
    "def save_activations(\n",
    "        activations: DefaultDict,\n",
    "        name: str,\n",
    "        module: nn.Module,\n",
    "        inp: Tuple,\n",
    "        out: torch.Tensor\n",
    ") -> None:\n",
    "    \"\"\"PyTorch Forward hook to save outputs at each forward\n",
    "    pass. Mutates specified dict objects with each fwd pass.\n",
    "    \"\"\"\n",
    "    if any(l in name for l in [\"qkv\", \"q_proj\",\"k_proj\",\"v_proj\", \"o_proj\", \"gate_up_proj\", \"gate_proj\", \"up_proj\", \"down_proj\"]):\n",
    "        if len(out) > 1:\n",
    "            out = out[0]\n",
    "    activations[name].append(out.detach().cpu())"
   ]
  },
  {
   "cell_type": "code",
   "execution_count": 127,
   "id": "85dfb724-1c57-47c4-8c4a-27feafa568e7",
   "metadata": {},
   "outputs": [],
   "source": [
    "def register_activation_hooks(\n",
    "        model: nn.Module,\n",
    "        layers_to_save: List[str]\n",
    ") -> DefaultDict[List, torch.Tensor]:\n",
    "    \"\"\"Registers forward hooks in specified layers.\n",
    "    Parameters\n",
    "    ----------\n",
    "    model:\n",
    "        PyTorch model\n",
    "    layers_to_save:\n",
    "        Module names within ``model`` whose activations we want to save.\n",
    "\n",
    "    Returns\n",
    "    -------\n",
    "    activations_dict:\n",
    "        dict of lists containing activations of specified layers in\n",
    "        ``layers_to_save``.\n",
    "    \"\"\"\n",
    "    activations_dict = collections.defaultdict(list)\n",
    "\n",
    "    for name, module in model.named_modules():\n",
    "        if any(l in name for l in layers_to_save):\n",
    "            module.register_forward_hook(\n",
    "                partial(save_activations, activations_dict, name)\n",
    "            )\n",
    "    return activations_dict"
   ]
  },
  {
   "cell_type": "markdown",
   "id": "d03cf752-84c9-43af-9d0d-523dffb3388a",
   "metadata": {},
   "source": [
    "### Regular Model"
   ]
  },
  {
   "cell_type": "code",
   "execution_count": 11,
   "id": "b5497346-31de-4afb-8426-d23d1710870a",
   "metadata": {},
   "outputs": [
    {
     "data": {
      "application/vnd.jupyter.widget-view+json": {
       "model_id": "f81a0a1855754aabba7f6c0e334712f9",
       "version_major": 2,
       "version_minor": 0
      },
      "text/plain": [
       "Loading checkpoint shards:   0%|          | 0/2 [00:00<?, ?it/s]"
      ]
     },
     "metadata": {},
     "output_type": "display_data"
    }
   ],
   "source": [
    "hf_model = AutoModelForCausalLM.from_pretrained(\"meta-llama/Llama-2-7b-hf\", torch_dtype=torch.bfloat16)"
   ]
  },
  {
   "cell_type": "code",
   "execution_count": 12,
   "id": "13b67693-aa60-4e15-9869-f31460cdf642",
   "metadata": {},
   "outputs": [
    {
     "name": "stdout",
     "output_type": "stream",
     "text": [
      "WARNING 04-03 14:32:47 config.py:744] Casting torch.float16 to torch.bfloat16.\n",
      "INFO 04-03 14:32:47 llm_engine.py:70] Initializing an LLM engine (v0.3.3) with config: model='meta-llama/Llama-2-7b-hf', tokenizer='meta-llama/Llama-2-7b-hf', tokenizer_mode=auto, revision=None, tokenizer_revision=None, trust_remote_code=False, dtype=torch.bfloat16, max_seq_len=4096, download_dir=None, load_format=auto, tensor_parallel_size=1, disable_custom_all_reduce=True, quantization=None, enforce_eager=False, kv_cache_dtype=auto, device_config=cuda, seed=0)\n",
      "INFO 04-03 14:32:47 pynccl_utils.py:13] vLLM is using nccl==2.18.1\n",
      "INFO 04-03 14:32:47 selector.py:44] flash_attn is not found.\n",
      "INFO 04-03 14:32:47 selector.py:20] Using XFormers backend.\n",
      "INFO 04-03 14:32:50 weight_utils.py:177] Using model weights format ['*.safetensors']\n",
      "INFO 04-03 14:32:58 model_runner.py:104] Loading model weights took 12.5523 GB\n",
      "INFO 04-03 14:33:00 gpu_executor.py:94] # GPU blocks: 437, # CPU blocks: 512\n",
      "INFO 04-03 14:33:02 model_runner.py:770] Capturing the model for CUDA graphs. This may lead to unexpected consequences if the model is not static. To run the model in eager mode, set 'enforce_eager=True' or use '--enforce-eager' in the CLI.\n",
      "INFO 04-03 14:33:02 model_runner.py:774] CUDA graphs can take additional 1~3 GiB memory per GPU. If you are running out of memory, consider decreasing `gpu_memory_utilization` or enforcing eager mode. You can also reduce the `max_num_seqs` as needed to decrease memory usage.\n",
      "INFO 04-03 14:33:09 model_runner.py:846] Graph capturing finished in 8 secs.\n",
      "INFO 04-03 14:33:09 block_manager_v1.py:239] disable automatic prefix caching\n"
     ]
    }
   ],
   "source": [
    "llm = LLM(model=\"meta-llama/Llama-2-7b-hf\", tokenizer=\"meta-llama/Llama-2-7b-hf\", dtype=\"bfloat16\", gpu_memory_utilization=0.7)"
   ]
  },
  {
   "cell_type": "code",
   "execution_count": 18,
   "id": "6ab9240b-71b2-4240-adb3-701519684cbf",
   "metadata": {},
   "outputs": [],
   "source": [
    "vllm_model = llm.llm_engine.model_executor.driver_worker.model_runner.model"
   ]
  },
  {
   "cell_type": "code",
   "execution_count": 13,
   "id": "16b05929-810a-44d8-b248-6f840012c40c",
   "metadata": {},
   "outputs": [],
   "source": [
    "for name, module in hf_model.named_modules(): \n",
    "    module._forward_hooks = OrderedDict()"
   ]
  },
  {
   "cell_type": "code",
   "execution_count": 14,
   "id": "0e0c861d-35f1-4363-87de-8da91719e03e",
   "metadata": {},
   "outputs": [],
   "source": [
    "hf_saved_activations = register_activation_hooks(hf_model, \n",
    "                                              layers_to_save=[\"embed\", \"q_proj\", \"k_proj\", \"v_proj\", \n",
    "                                                              \"o_proj\", \"gate_proj\", \"up_proj\", \"down_proj\", \"lm_head\"])"
   ]
  },
  {
   "cell_type": "code",
   "execution_count": 15,
   "id": "9a34afa2-817e-4501-9e21-46c87c122cac",
   "metadata": {},
   "outputs": [],
   "source": [
    "inp = torch.tensor([[7]])"
   ]
  },
  {
   "cell_type": "code",
   "execution_count": 17,
   "id": "d8426d20-f88f-415d-9960-580261293f79",
   "metadata": {},
   "outputs": [],
   "source": [
    "with torch.no_grad():\n",
    "    _ = hf_model(inp)"
   ]
  },
  {
   "cell_type": "code",
   "execution_count": 27,
   "id": "e7211678-23ef-401f-8be8-bd4df96a8f45",
   "metadata": {},
   "outputs": [],
   "source": [
    "vllm_saved_activations = register_activation_hooks(vllm_model, \n",
    "                                              layers_to_save=[\"embed\", \"qkv_proj\", \"o_proj\", \"gate_up_proj\", \"down_proj\", \"lm_head\"])"
   ]
  },
  {
   "cell_type": "code",
   "execution_count": 28,
   "id": "cfd28a6a-50b3-49d6-84e8-ac25da0eec57",
   "metadata": {},
   "outputs": [],
   "source": [
    "inp = torch.tensor([7]).cuda()"
   ]
  },
  {
   "cell_type": "code",
   "execution_count": 29,
   "id": "9abf4e90-116c-4323-adeb-42da5a4f8269",
   "metadata": {},
   "outputs": [],
   "source": [
    "kv_caches = [None] * len(vllm_model.model.layers)"
   ]
  },
  {
   "cell_type": "code",
   "execution_count": 30,
   "id": "be47df25-1121-444e-8d01-e66630189407",
   "metadata": {},
   "outputs": [],
   "source": [
    "positions = torch.tensor([0]).cuda()"
   ]
  },
  {
   "cell_type": "code",
   "execution_count": 31,
   "id": "127619bd-045e-48ea-bdbe-b657cacb8fe1",
   "metadata": {},
   "outputs": [],
   "source": [
    "s = [SequenceGroupMetadata(\"1\", True, {0:SequenceData([7,42,1003])}, sampling_params=SamplingParams(temperature=0.0), block_tables=None)]\n",
    "attn_metadata = llm.llm_engine.model_executor.driver_worker.model_runner._prepare_prompt(s)[2]"
   ]
  },
  {
   "cell_type": "code",
   "execution_count": 32,
   "id": "b3359649-a4b2-45a8-8974-1792eff1a60c",
   "metadata": {
    "scrolled": true
   },
   "outputs": [],
   "source": [
    "with torch.no_grad():\n",
    "    _ = vllm_model(inp, positions, kv_caches, attn_metadata)"
   ]
  },
  {
   "cell_type": "code",
   "execution_count": 33,
   "id": "c2290b72-5979-4f4e-a74a-57b9dd89469d",
   "metadata": {},
   "outputs": [],
   "source": [
    "hf_embed_output = hf_saved_activations['model.embed_tokens'][0]\n",
    "vllm_embed_output = vllm_saved_activations['model.embed_tokens'][0]"
   ]
  },
  {
   "cell_type": "code",
   "execution_count": 34,
   "id": "a8b064f1-1c3d-4f18-b6b8-da1271878434",
   "metadata": {},
   "outputs": [
    {
     "data": {
      "text/plain": [
       "tensor(0., dtype=torch.bfloat16)"
      ]
     },
     "execution_count": 34,
     "metadata": {},
     "output_type": "execute_result"
    }
   ],
   "source": [
    "(hf_embed_output - vllm_embed_output).norm() / hf_embed_output.norm()"
   ]
  },
  {
   "cell_type": "code",
   "execution_count": 35,
   "id": "19678f1b-daef-42f7-ade7-579648cc7895",
   "metadata": {},
   "outputs": [],
   "source": [
    "deltas = {k:[] for k in [\"q\",\"k\",\"v\",\"o\",\"gate\",\"up\",\"down\"]}\n",
    "\n",
    "for layer in range(len(vllm_model.model.layers)):\n",
    "    hf_q_output = hf_saved_activations[f'model.layers.{layer}.self_attn.q_proj'][0]\n",
    "    vllm_q_output = vllm_saved_activations[f'model.layers.{layer}.self_attn.qkv_proj'][0][:,:4096]\n",
    "    deltas[\"q\"].append((hf_q_output - vllm_q_output).norm(p=2))\n",
    "    \n",
    "    hf_k_output = hf_saved_activations[f'model.layers.{layer}.self_attn.k_proj'][0]\n",
    "    vllm_k_output = vllm_saved_activations[f'model.layers.{layer}.self_attn.qkv_proj'][0][:,4096:4096*2]\n",
    "    deltas[\"k\"].append((hf_k_output - vllm_k_output).norm(p=2))\n",
    "    \n",
    "    hf_v_output = hf_saved_activations[f'model.layers.{layer}.self_attn.v_proj'][0]\n",
    "    vllm_v_output = vllm_saved_activations[f'model.layers.{layer}.self_attn.qkv_proj'][0][:,4096*2:]\n",
    "    deltas[\"v\"].append((hf_v_output - vllm_v_output).norm(p=2))\n",
    "    \n",
    "    hf_o_output = hf_saved_activations[f'model.layers.{layer}.self_attn.o_proj'][0]\n",
    "    vllm_o_output = vllm_saved_activations[f'model.layers.{layer}.self_attn.o_proj'][0]\n",
    "    deltas[\"o\"].append((hf_o_output - vllm_o_output).norm(p=2))\n",
    "    \n",
    "    hf_gate_output = hf_saved_activations[f'model.layers.{layer}.mlp.gate_proj'][0]\n",
    "    vllm_gate_output = vllm_saved_activations[f'model.layers.{layer}.mlp.gate_up_proj'][0][:,:11008]\n",
    "    deltas[\"gate\"].append((hf_gate_output - vllm_gate_output).norm(p=2))\n",
    "    \n",
    "    hf_up_output = hf_saved_activations[f'model.layers.{layer}.mlp.up_proj'][0]\n",
    "    vllm_up_output = vllm_saved_activations[f'model.layers.{layer}.mlp.gate_up_proj'][0][:,11008:]\n",
    "    deltas[\"up\"].append((hf_up_output - vllm_up_output).norm(p=2))\n",
    "    \n",
    "    hf_down_output = hf_saved_activations[f'model.layers.{layer}.mlp.down_proj'][0]\n",
    "    vllm_down_output = vllm_saved_activations[f'model.layers.{layer}.mlp.down_proj'][0]\n",
    "    deltas[\"down\"].append((hf_down_output - vllm_down_output).norm(p=2))"
   ]
  },
  {
   "cell_type": "code",
   "execution_count": 36,
   "id": "4c23a286-44b4-450a-81bd-fe82352e5691",
   "metadata": {},
   "outputs": [],
   "source": [
    "deltas = {k:torch.stack(v).float().numpy() for k,v in deltas.items()}"
   ]
  },
  {
   "cell_type": "code",
   "execution_count": 41,
   "id": "2ecb6b53-6514-437b-a692-7060a1073e0c",
   "metadata": {},
   "outputs": [
    {
     "data": {
      "image/png": "[encoded data removed]",
      "text/plain": [
       "<Figure size 1200x700 with 1 Axes>"
      ]
     },
     "metadata": {},
     "output_type": "display_data"
    }
   ],
   "source": [
    "fig, ax = plt.subplots(figsize=(12,7))\n",
    "\n",
    "# Loop through the dictionary and plot each line with a label\n",
    "for key, values in deltas.items():\n",
    "    ax.plot(values, label=key)\n",
    "    ax.set_xticks(range(len(values)))\n",
    "\n",
    "# Adding a legend to distinguish the lines\n",
    "ax.legend();"
   ]
  },
  {
   "cell_type": "code",
   "execution_count": 43,
   "id": "75bbd723-ba8e-429f-aa16-0a777604414d",
   "metadata": {},
   "outputs": [],
   "source": [
    "torch.save(hf_saved_activations, \"/home/ubuntu/models/debug/hf_saved_activations\")\n",
    "torch.save(vllm_saved_activations, \"/home/ubuntu/models/debug/vllm_saved_activations\")"
   ]
  },
  {
   "cell_type": "markdown",
   "id": "78dd3e3f-9fcf-4854-8f06-cfc6488fb815",
   "metadata": {},
   "source": [
    "### Quantized Model"
   ]
  },
  {
   "cell_type": "code",
   "execution_count": 136,
   "id": "09740976-a219-4148-af45-9cbcbd9b0b2c",
   "metadata": {},
   "outputs": [],
   "source": [
    "for name, module in model.named_modules(): \n",
    "    module._forward_hooks = OrderedDict()"
   ]
  },
  {
   "cell_type": "code",
   "execution_count": 137,
   "id": "302e1a59-0b32-49be-8249-554ef4704717",
   "metadata": {},
   "outputs": [],
   "source": [
    "hf_saved_activations = register_activation_hooks(model, \n",
    "                                              layers_to_save=[\"embed\", \"q_proj\", \"k_proj\", \"v_proj\", \n",
    "                                                              \"o_proj\", \"gate_proj\", \"up_proj\", \"down_proj\", \"lm_head\"])"
   ]
  },
  {
   "cell_type": "code",
   "execution_count": 138,
   "id": "ac4cbb47-941a-48ef-b497-227e9c25ccce",
   "metadata": {},
   "outputs": [],
   "source": [
    "inp = torch.tensor([[7,42]]).cuda()"
   ]
  },
  {
   "cell_type": "code",
   "execution_count": 139,
   "id": "890a098d-2da9-4fe8-8f08-48ea9c75e30d",
   "metadata": {
    "scrolled": true
   },
   "outputs": [],
   "source": [
    "with torch.no_grad():\n",
    "    _ = model(inp)"
   ]
  },
  {
   "cell_type": "code",
   "execution_count": 140,
   "id": "500b4a00-1155-453d-ad3f-13924f57da05",
   "metadata": {},
   "outputs": [],
   "source": [
    "for name, module in vllm_model.named_modules(): \n",
    "    module._forward_hooks = OrderedDict()"
   ]
  },
  {
   "cell_type": "code",
   "execution_count": 141,
   "id": "b48d0307-7160-4146-a0b6-281e9775bd72",
   "metadata": {},
   "outputs": [],
   "source": [
    "vllm_saved_activations = register_activation_hooks(vllm_model, \n",
    "                                              layers_to_save=[\"embed\", \"qkv_proj\",\"q_proj\", \"k_proj\", \"v_proj\", \n",
    "                                                              \"o_proj\", \"gate_proj\", \"up_proj\",\n",
    "                                                              \"gate_up_proj\", \"down_proj\", \"lm_head\"])"
   ]
  },
  {
   "cell_type": "code",
   "execution_count": 155,
   "id": "1dd40d7b-54b9-448e-80e4-d5ce2566b8b1",
   "metadata": {},
   "outputs": [],
   "source": [
    "inp = torch.tensor([7,42]).cuda()"
   ]
  },
  {
   "cell_type": "code",
   "execution_count": 156,
   "id": "a29434c5-d674-4072-ba53-83a6c64eeab4",
   "metadata": {},
   "outputs": [],
   "source": [
    "kv_caches = [None] * len(vllm_model.model.layers)"
   ]
  },
  {
   "cell_type": "code",
   "execution_count": 182,
   "id": "044d13c0-0feb-405a-8f46-df022d780fa6",
   "metadata": {},
   "outputs": [],
   "source": [
    "positions = torch.tensor([0,1]).cuda()"
   ]
  },
  {
   "cell_type": "code",
   "execution_count": 183,
   "id": "fd142820-099c-44ca-81be-4a426eaa80b6",
   "metadata": {
    "scrolled": true
   },
   "outputs": [],
   "source": [
    "s = [SequenceGroupMetadata(\"request_id\", True, {0:SequenceData([7,42])}, sampling_params=SamplingParams(temperature=0.0), block_tables=None)]\n",
    "attn_metadata = llm.llm_engine.model_executor.driver_worker.model_runner._prepare_prompt(s)[2]"
   ]
  },
  {
   "cell_type": "code",
   "execution_count": 184,
   "id": "180e049a-e8d9-45de-836d-f42577953b61",
   "metadata": {
    "scrolled": true
   },
   "outputs": [],
   "source": [
    "with torch.no_grad():\n",
    "    _ = vllm_model(inp, positions, kv_caches, attn_metadata)"
   ]
  },
  {
   "cell_type": "code",
   "execution_count": 185,
   "id": "4b340558-3242-46f4-887d-d57a3969dac4",
   "metadata": {},
   "outputs": [],
   "source": [
    "# hf_saved_activations['model.layers.0.self_attn.q_proj'][0].shape"
   ]
  },
  {
   "cell_type": "code",
   "execution_count": 186,
   "id": "8783794c-ec6b-47c3-9b31-d8c00037da1c",
   "metadata": {},
   "outputs": [],
   "source": [
    "# vllm_saved_activations['model.layers.0.self_attn.qkv_proj'][0].shape"
   ]
  },
  {
   "cell_type": "code",
   "execution_count": 187,
   "id": "712ada76-5a1e-4592-b356-94f3a9f19464",
   "metadata": {},
   "outputs": [],
   "source": [
    "# hf_embed_output = hf_saved_activations['model.embed_tokens'][0]\n",
    "# vllm_embed_output = vllm_saved_activations['model.embed_tokens'][0]"
   ]
  },
  {
   "cell_type": "code",
   "execution_count": 188,
   "id": "eddd20ff-dfd1-4cf1-80f4-be3fed05bc73",
   "metadata": {},
   "outputs": [],
   "source": [
    "# (hf_embed_output - vllm_embed_output).norm() / hf_embed_output.norm()"
   ]
  },
  {
   "cell_type": "code",
   "execution_count": 189,
   "id": "8736f8d8-10b6-471b-a4a4-1ccb340ad2f5",
   "metadata": {},
   "outputs": [],
   "source": [
    "deltas = {k:[] for k in [\"q\",\"k\",\"v\",\"o\",\"gate\",\"up\",\"down\"]}\n",
    "\n",
    "for layer in range(len(vllm_model.model.layers)):\n",
    "    hf_q_output = hf_saved_activations[f'model.layers.{layer}.self_attn.q_proj'][0]\n",
    "    # vllm_q_output = vllm_saved_activations[f'model.layers.{layer}.self_attn.qkv_proj'][0][:,:4096]\n",
    "    vllm_q_output = vllm_saved_activations[f'model.layers.{layer}.self_attn.q_proj'][0]\n",
    "    deltas[\"q\"].append((hf_q_output - vllm_q_output).norm(p=2))\n",
    "    \n",
    "    hf_k_output = hf_saved_activations[f'model.layers.{layer}.self_attn.k_proj'][0]\n",
    "    # vllm_k_output = vllm_saved_activations[f'model.layers.{layer}.self_attn.qkv_proj'][0][:,4096:4096*2]\n",
    "    vllm_k_output = vllm_saved_activations[f'model.layers.{layer}.self_attn.k_proj'][0]\n",
    "    deltas[\"k\"].append((hf_k_output - vllm_k_output).norm(p=2))\n",
    "    \n",
    "    hf_v_output = hf_saved_activations[f'model.layers.{layer}.self_attn.v_proj'][0]\n",
    "    # vllm_v_output = vllm_saved_activations[f'model.layers.{layer}.self_attn.qkv_proj'][0][:,4096*2:]\n",
    "    vllm_v_output = vllm_saved_activations[f'model.layers.{layer}.self_attn.v_proj'][0]\n",
    "    deltas[\"v\"].append((hf_v_output - vllm_v_output).norm(p=2))\n",
    "    \n",
    "    hf_o_output = hf_saved_activations[f'model.layers.{layer}.self_attn.o_proj'][0]\n",
    "    vllm_o_output = vllm_saved_activations[f'model.layers.{layer}.self_attn.o_proj'][0]\n",
    "    deltas[\"o\"].append((hf_o_output - vllm_o_output).norm(p=2))\n",
    "    \n",
    "    hf_gate_output = hf_saved_activations[f'model.layers.{layer}.mlp.gate_proj'][0]\n",
    "    # vllm_gate_output = vllm_saved_activations[f'model.layers.{layer}.mlp.gate_up_proj'][0][:,:11008]\n",
    "    vllm_gate_output = vllm_saved_activations[f'model.layers.{layer}.mlp.gate_proj'][0]\n",
    "    deltas[\"gate\"].append((hf_gate_output - vllm_gate_output).norm(p=2))\n",
    "    \n",
    "    hf_up_output = hf_saved_activations[f'model.layers.{layer}.mlp.up_proj'][0]\n",
    "    # vllm_up_output = vllm_saved_activations[f'model.layers.{layer}.mlp.gate_up_proj'][0][:,11008:]\n",
    "    vllm_up_output = vllm_saved_activations[f'model.layers.{layer}.mlp.up_proj'][0]\n",
    "    deltas[\"up\"].append((hf_up_output - vllm_up_output).norm(p=2))\n",
    "    \n",
    "    hf_down_output = hf_saved_activations[f'model.layers.{layer}.mlp.down_proj'][0]\n",
    "    vllm_down_output = vllm_saved_activations[f'model.layers.{layer}.mlp.down_proj'][0]\n",
    "    deltas[\"down\"].append((hf_down_output - vllm_down_output).norm(p=2))"
   ]
  },
  {
   "cell_type": "code",
   "execution_count": 190,
   "id": "033f6a59-08d2-48c0-9c76-510bfc344d3f",
   "metadata": {},
   "outputs": [],
   "source": [
    "deltas = {k:torch.stack(v).float().numpy() for k,v in deltas.items()}"
   ]
  },
  {
   "cell_type": "code",
   "execution_count": 191,
   "id": "98ebb0db-c3bc-49e8-93ac-342849991919",
   "metadata": {
    "scrolled": true
   },
   "outputs": [
    {
     "data": {
      "text/plain": [
       "{'q': array([0.        , 0.22167969, 0.25390625, 0.33984375, 0.3125    ,\n",
       "        0.328125  , 0.31640625, 0.30078125, 0.27539062, 0.26367188,\n",
       "        0.26171875, 0.29101562, 0.29296875, 0.3359375 , 0.34960938,\n",
       "        0.36328125, 0.37890625, 0.34765625, 0.35742188, 0.39257812,\n",
       "        0.59375   , 0.58203125, 0.58203125, 0.55859375, 0.609375  ,\n",
       "        0.58984375, 0.65234375, 0.65234375, 0.734375  , 0.6484375 ,\n",
       "        0.8203125 , 1.734375  ], dtype=float32),\n",
       " 'k': array([0.        , 0.23242188, 0.31054688, 0.40429688, 0.36914062,\n",
       "        0.36328125, 0.31445312, 0.28125   , 0.296875  , 0.26953125,\n",
       "        0.26953125, 0.265625  , 0.28320312, 0.31054688, 0.328125  ,\n",
       "        0.34375   , 0.359375  , 0.44726562, 0.42578125, 0.453125  ,\n",
       "        0.80859375, 0.79296875, 0.7578125 , 0.6875    , 0.828125  ,\n",
       "        0.73828125, 0.7734375 , 0.609375  , 0.6875    , 0.765625  ,\n",
       "        0.80859375, 1.6953125 ], dtype=float32),\n",
       " 'v': array([0.        , 0.02539062, 0.02770996, 0.04077148, 0.04125977,\n",
       "        0.0625    , 0.08203125, 0.07861328, 0.08544922, 0.09033203,\n",
       "        0.09472656, 0.10009766, 0.09960938, 0.10644531, 0.11132812,\n",
       "        0.12011719, 0.12792969, 0.12792969, 0.14648438, 0.15625   ,\n",
       "        0.15820312, 0.19335938, 0.18847656, 0.19238281, 0.19140625,\n",
       "        0.20800781, 0.23339844, 0.23144531, 0.26171875, 0.28710938,\n",
       "        0.42773438, 1.265625  ], dtype=float32),\n",
       " 'o': array([4.84466553e-04, 1.94531250e+00, 1.34887695e-02, 1.74560547e-02,\n",
       "        1.92871094e-02, 2.92968750e-02, 3.19824219e-02, 3.32031250e-02,\n",
       "        3.75976562e-02, 3.80859375e-02, 3.73535156e-02, 6.07910156e-02,\n",
       "        4.44335938e-02, 5.81054688e-02, 4.95605469e-02, 5.41992188e-02,\n",
       "        6.54296875e-02, 7.37304688e-02, 8.34960938e-02, 8.39843750e-02,\n",
       "        1.00097656e-01, 1.03027344e-01, 2.14843750e-01, 1.47460938e-01,\n",
       "        1.22070312e-01, 1.31835938e-01, 1.63085938e-01, 1.68945312e-01,\n",
       "        1.67968750e-01, 2.27539062e-01, 5.93750000e-01, 2.43750000e+00],\n",
       "       dtype=float32),\n",
       " 'gate': array([ 0.03051758, 11.375     ,  0.0546875 ,  0.09033203,  0.09960938,\n",
       "         0.11376953,  0.12207031,  0.13671875,  0.17773438,  0.18652344,\n",
       "         0.17089844,  0.23730469,  0.23828125,  0.28125   ,  0.29296875,\n",
       "         0.28710938,  0.34960938,  0.296875  ,  0.31445312,  0.39453125,\n",
       "         0.33203125,  0.36914062,  0.40234375,  0.41796875,  0.44335938,\n",
       "         0.45898438,  0.51171875,  0.5703125 ,  0.609375  ,  0.8515625 ,\n",
       "         1.0234375 ,  5.25      ], dtype=float32),\n",
       " 'up': array([0.02526855, 6.625     , 0.04370117, 0.07861328, 0.08984375,\n",
       "        0.09130859, 0.09619141, 0.10644531, 0.13964844, 0.13574219,\n",
       "        0.13671875, 0.15917969, 0.16992188, 0.19140625, 0.20703125,\n",
       "        0.22460938, 0.25976562, 0.24902344, 0.28320312, 0.3046875 ,\n",
       "        0.30664062, 0.33007812, 0.35351562, 0.3671875 , 0.3828125 ,\n",
       "        0.4140625 , 0.43554688, 0.48632812, 0.55078125, 1.0234375 ,\n",
       "        1.0390625 , 4.5625    ], dtype=float32),\n",
       " 'down': array([7.9345703e-03, 6.6400000e+02, 1.0009766e-02, 9.4604492e-03,\n",
       "        2.1191406e-01, 1.0803223e-02, 1.1413574e-02, 1.4404297e-02,\n",
       "        2.0141602e-02, 1.7944336e-02, 1.8676758e-02, 2.0996094e-02,\n",
       "        1.9897461e-02, 2.2949219e-02, 2.5024414e-02, 3.3935547e-02,\n",
       "        4.3701172e-02, 2.8808594e-02, 3.5400391e-02, 1.9824219e-01,\n",
       "        3.6621094e-02, 3.8330078e-02, 4.1015625e-02, 5.5175781e-02,\n",
       "        4.4921875e-02, 6.1767578e-02, 7.4218750e-02, 9.8144531e-02,\n",
       "        3.5937500e-01, 1.0437500e+01, 5.1250000e+01, 2.1875000e+00],\n",
       "       dtype=float32)}"
      ]
     },
     "execution_count": 191,
     "metadata": {},
     "output_type": "execute_result"
    }
   ],
   "source": [
    "deltas"
   ]
  },
  {
   "cell_type": "code",
   "execution_count": 192,
   "id": "3ca8f38a-abff-4ca2-90a6-8b969768d4e6",
   "metadata": {},
   "outputs": [
    {
     "data": {
      "image/png": "[encoded data removed]",
      "text/plain": [
       "<Figure size 1200x700 with 1 Axes>"
      ]
     },
     "metadata": {},
     "output_type": "display_data"
    }
   ],
   "source": [
    "fig, ax = plt.subplots(figsize=(12,7))\n",
    "\n",
    "# Loop through the dictionary and plot each line with a label\n",
    "for key, values in deltas.items():\n",
    "    ax.plot(values, label=key)\n",
    "    ax.set_xticks(range(len(values)))\n",
    "    \n",
    "# Adding a legend to distinguish the lines\n",
    "ax.legend();"
   ]
  },
  {
   "cell_type": "code",
   "execution_count": 83,
   "id": "fb39a463-0340-410f-acd5-fbcd8f0c214b",
   "metadata": {},
   "outputs": [],
   "source": [
    "torch.save(hf_saved_activations, \"/home/ubuntu/models/debug/quant_hf_saved_activations\")\n",
    "torch.save(vllm_saved_activations, \"/home/ubuntu/models/debug/quant_vllm_saved_activations\")"
   ]
  },
  {
   "cell_type": "markdown",
   "id": "792c63e3-5af5-4550-92b6-13d737d60816",
   "metadata": {},
   "source": [
    "### Loaded vs Saved Weights "
   ]
  },
  {
   "cell_type": "code",
   "execution_count": 22,
   "id": "3cbda28c-cab0-476e-924b-6a6cced74626",
   "metadata": {},
   "outputs": [],
   "source": [
    "def create_quant_state(absmax, shape):\n",
    "    quant_state = QuantState(absmax, dtype=torch.bfloat16)\n",
    "    quant_state.shape = torch.Size(shape)\n",
    "    quant_state.blocksize = 64\n",
    "    quant_state.quant_type = \"nf4\"\n",
    "    quant_state.code = quant_map\n",
    "    return quant_state"
   ]
  },
  {
   "cell_type": "code",
   "execution_count": 65,
   "id": "c3ecb93c-cce9-44a7-91a8-a5f3e7aa1dff",
   "metadata": {
    "scrolled": true
   },
   "outputs": [
    {
     "name": "stdout",
     "output_type": "stream",
     "text": [
      "Cheking: model.embed_tokens.weight\n",
      "Cheking: model.layers.0.self_attn.qkv_proj.weight\n",
      "Cheking: model.layers.0.self_attn.qkv_proj.absmax\n",
      "Cheking: model.layers.0.self_attn.o_proj.weight\n",
      "Cheking: model.layers.0.self_attn.o_proj.absmax\n",
      "Cheking: model.layers.0.mlp.gate_up_proj.weight\n",
      "Cheking: model.layers.0.mlp.gate_up_proj.absmax\n",
      "Cheking: model.layers.0.mlp.down_proj.weight\n",
      "Cheking: model.layers.0.mlp.down_proj.absmax\n",
      "Cheking: model.layers.0.input_layernorm.weight\n",
      "Cheking: model.layers.0.post_attention_layernorm.weight\n",
      "Cheking: model.layers.1.self_attn.qkv_proj.weight\n",
      "Cheking: model.layers.1.self_attn.qkv_proj.absmax\n",
      "Cheking: model.layers.1.self_attn.o_proj.weight\n",
      "Cheking: model.layers.1.self_attn.o_proj.absmax\n",
      "Cheking: model.layers.1.mlp.gate_up_proj.weight\n",
      "Cheking: model.layers.1.mlp.gate_up_proj.absmax\n",
      "Cheking: model.layers.1.mlp.down_proj.weight\n",
      "Cheking: model.layers.1.mlp.down_proj.absmax\n",
      "Cheking: model.layers.1.input_layernorm.weight\n",
      "Cheking: model.layers.1.post_attention_layernorm.weight\n",
      "Cheking: model.layers.2.self_attn.qkv_proj.weight\n",
      "Cheking: model.layers.2.self_attn.qkv_proj.absmax\n",
      "Cheking: model.layers.2.self_attn.o_proj.weight\n",
      "Cheking: model.layers.2.self_attn.o_proj.absmax\n",
      "Cheking: model.layers.2.mlp.gate_up_proj.weight\n",
      "Cheking: model.layers.2.mlp.gate_up_proj.absmax\n",
      "Cheking: model.layers.2.mlp.down_proj.weight\n",
      "Cheking: model.layers.2.mlp.down_proj.absmax\n",
      "Cheking: model.layers.2.input_layernorm.weight\n",
      "Cheking: model.layers.2.post_attention_layernorm.weight\n",
      "Cheking: model.layers.3.self_attn.qkv_proj.weight\n",
      "Cheking: model.layers.3.self_attn.qkv_proj.absmax\n",
      "Cheking: model.layers.3.self_attn.o_proj.weight\n",
      "Cheking: model.layers.3.self_attn.o_proj.absmax\n",
      "Cheking: model.layers.3.mlp.gate_up_proj.weight\n",
      "Cheking: model.layers.3.mlp.gate_up_proj.absmax\n",
      "Cheking: model.layers.3.mlp.down_proj.weight\n",
      "Cheking: model.layers.3.mlp.down_proj.absmax\n",
      "Cheking: model.layers.3.input_layernorm.weight\n",
      "Cheking: model.layers.3.post_attention_layernorm.weight\n",
      "Cheking: model.layers.4.self_attn.qkv_proj.weight\n",
      "Cheking: model.layers.4.self_attn.qkv_proj.absmax\n",
      "Cheking: model.layers.4.self_attn.o_proj.weight\n",
      "Cheking: model.layers.4.self_attn.o_proj.absmax\n",
      "Cheking: model.layers.4.mlp.gate_up_proj.weight\n",
      "Cheking: model.layers.4.mlp.gate_up_proj.absmax\n",
      "Cheking: model.layers.4.mlp.down_proj.weight\n",
      "Cheking: model.layers.4.mlp.down_proj.absmax\n",
      "Cheking: model.layers.4.input_layernorm.weight\n",
      "Cheking: model.layers.4.post_attention_layernorm.weight\n",
      "Cheking: model.layers.5.self_attn.qkv_proj.weight\n",
      "Cheking: model.layers.5.self_attn.qkv_proj.absmax\n",
      "Cheking: model.layers.5.self_attn.o_proj.weight\n",
      "Cheking: model.layers.5.self_attn.o_proj.absmax\n",
      "Cheking: model.layers.5.mlp.gate_up_proj.weight\n",
      "Cheking: model.layers.5.mlp.gate_up_proj.absmax\n",
      "Cheking: model.layers.5.mlp.down_proj.weight\n",
      "Cheking: model.layers.5.mlp.down_proj.absmax\n",
      "Cheking: model.layers.5.input_layernorm.weight\n",
      "Cheking: model.layers.5.post_attention_layernorm.weight\n",
      "Cheking: model.layers.6.self_attn.qkv_proj.weight\n",
      "Cheking: model.layers.6.self_attn.qkv_proj.absmax\n",
      "Cheking: model.layers.6.self_attn.o_proj.weight\n",
      "Cheking: model.layers.6.self_attn.o_proj.absmax\n",
      "Cheking: model.layers.6.mlp.gate_up_proj.weight\n",
      "Cheking: model.layers.6.mlp.gate_up_proj.absmax\n",
      "Cheking: model.layers.6.mlp.down_proj.weight\n",
      "Cheking: model.layers.6.mlp.down_proj.absmax\n",
      "Cheking: model.layers.6.input_layernorm.weight\n",
      "Cheking: model.layers.6.post_attention_layernorm.weight\n",
      "Cheking: model.layers.7.self_attn.qkv_proj.weight\n",
      "Cheking: model.layers.7.self_attn.qkv_proj.absmax\n",
      "Cheking: model.layers.7.self_attn.o_proj.weight\n",
      "Cheking: model.layers.7.self_attn.o_proj.absmax\n",
      "Cheking: model.layers.7.mlp.gate_up_proj.weight\n",
      "Cheking: model.layers.7.mlp.gate_up_proj.absmax\n",
      "Cheking: model.layers.7.mlp.down_proj.weight\n",
      "Cheking: model.layers.7.mlp.down_proj.absmax\n",
      "Cheking: model.layers.7.input_layernorm.weight\n",
      "Cheking: model.layers.7.post_attention_layernorm.weight\n",
      "Cheking: model.layers.8.self_attn.qkv_proj.weight\n",
      "Cheking: model.layers.8.self_attn.qkv_proj.absmax\n",
      "Cheking: model.layers.8.self_attn.o_proj.weight\n",
      "Cheking: model.layers.8.self_attn.o_proj.absmax\n",
      "Cheking: model.layers.8.mlp.gate_up_proj.weight\n",
      "Cheking: model.layers.8.mlp.gate_up_proj.absmax\n",
      "Cheking: model.layers.8.mlp.down_proj.weight\n",
      "Cheking: model.layers.8.mlp.down_proj.absmax\n",
      "Cheking: model.layers.8.input_layernorm.weight\n",
      "Cheking: model.layers.8.post_attention_layernorm.weight\n",
      "Cheking: model.layers.9.self_attn.qkv_proj.weight\n",
      "Cheking: model.layers.9.self_attn.qkv_proj.absmax\n",
      "Cheking: model.layers.9.self_attn.o_proj.weight\n",
      "Cheking: model.layers.9.self_attn.o_proj.absmax\n",
      "Cheking: model.layers.9.mlp.gate_up_proj.weight\n",
      "Cheking: model.layers.9.mlp.gate_up_proj.absmax\n",
      "Cheking: model.layers.9.mlp.down_proj.weight\n",
      "Cheking: model.layers.9.mlp.down_proj.absmax\n",
      "Cheking: model.layers.9.input_layernorm.weight\n",
      "Cheking: model.layers.9.post_attention_layernorm.weight\n",
      "Cheking: model.layers.10.self_attn.qkv_proj.weight\n",
      "Cheking: model.layers.10.self_attn.qkv_proj.absmax\n",
      "Cheking: model.layers.10.self_attn.o_proj.weight\n",
      "Cheking: model.layers.10.self_attn.o_proj.absmax\n",
      "Cheking: model.layers.10.mlp.gate_up_proj.weight\n",
      "Cheking: model.layers.10.mlp.gate_up_proj.absmax\n",
      "Cheking: model.layers.10.mlp.down_proj.weight\n",
      "Cheking: model.layers.10.mlp.down_proj.absmax\n",
      "Cheking: model.layers.10.input_layernorm.weight\n",
      "Cheking: model.layers.10.post_attention_layernorm.weight\n",
      "Cheking: model.layers.11.self_attn.qkv_proj.weight\n",
      "Cheking: model.layers.11.self_attn.qkv_proj.absmax\n",
      "Cheking: model.layers.11.self_attn.o_proj.weight\n",
      "Cheking: model.layers.11.self_attn.o_proj.absmax\n",
      "Cheking: model.layers.11.mlp.gate_up_proj.weight\n",
      "Cheking: model.layers.11.mlp.gate_up_proj.absmax\n",
      "Cheking: model.layers.11.mlp.down_proj.weight\n",
      "Cheking: model.layers.11.mlp.down_proj.absmax\n",
      "Cheking: model.layers.11.input_layernorm.weight\n",
      "Cheking: model.layers.11.post_attention_layernorm.weight\n",
      "Cheking: model.layers.12.self_attn.qkv_proj.weight\n",
      "Cheking: model.layers.12.self_attn.qkv_proj.absmax\n",
      "Cheking: model.layers.12.self_attn.o_proj.weight\n",
      "Cheking: model.layers.12.self_attn.o_proj.absmax\n",
      "Cheking: model.layers.12.mlp.gate_up_proj.weight\n",
      "Cheking: model.layers.12.mlp.gate_up_proj.absmax\n",
      "Cheking: model.layers.12.mlp.down_proj.weight\n",
      "Cheking: model.layers.12.mlp.down_proj.absmax\n",
      "Cheking: model.layers.12.input_layernorm.weight\n",
      "Cheking: model.layers.12.post_attention_layernorm.weight\n",
      "Cheking: model.layers.13.self_attn.qkv_proj.weight\n",
      "Cheking: model.layers.13.self_attn.qkv_proj.absmax\n",
      "Cheking: model.layers.13.self_attn.o_proj.weight\n",
      "Cheking: model.layers.13.self_attn.o_proj.absmax\n",
      "Cheking: model.layers.13.mlp.gate_up_proj.weight\n",
      "Cheking: model.layers.13.mlp.gate_up_proj.absmax\n",
      "Cheking: model.layers.13.mlp.down_proj.weight\n",
      "Cheking: model.layers.13.mlp.down_proj.absmax\n",
      "Cheking: model.layers.13.input_layernorm.weight\n",
      "Cheking: model.layers.13.post_attention_layernorm.weight\n",
      "Cheking: model.layers.14.self_attn.qkv_proj.weight\n",
      "Cheking: model.layers.14.self_attn.qkv_proj.absmax\n",
      "Cheking: model.layers.14.self_attn.o_proj.weight\n",
      "Cheking: model.layers.14.self_attn.o_proj.absmax\n",
      "Cheking: model.layers.14.mlp.gate_up_proj.weight\n",
      "Cheking: model.layers.14.mlp.gate_up_proj.absmax\n",
      "Cheking: model.layers.14.mlp.down_proj.weight\n",
      "Cheking: model.layers.14.mlp.down_proj.absmax\n",
      "Cheking: model.layers.14.input_layernorm.weight\n",
      "Cheking: model.layers.14.post_attention_layernorm.weight\n",
      "Cheking: model.layers.15.self_attn.qkv_proj.weight\n",
      "Cheking: model.layers.15.self_attn.qkv_proj.absmax\n",
      "Cheking: model.layers.15.self_attn.o_proj.weight\n",
      "Cheking: model.layers.15.self_attn.o_proj.absmax\n",
      "Cheking: model.layers.15.mlp.gate_up_proj.weight\n",
      "Cheking: model.layers.15.mlp.gate_up_proj.absmax\n",
      "Cheking: model.layers.15.mlp.down_proj.weight\n",
      "Cheking: model.layers.15.mlp.down_proj.absmax\n",
      "Cheking: model.layers.15.input_layernorm.weight\n",
      "Cheking: model.layers.15.post_attention_layernorm.weight\n",
      "Cheking: model.layers.16.self_attn.qkv_proj.weight\n",
      "Cheking: model.layers.16.self_attn.qkv_proj.absmax\n",
      "Cheking: model.layers.16.self_attn.o_proj.weight\n",
      "Cheking: model.layers.16.self_attn.o_proj.absmax\n",
      "Cheking: model.layers.16.mlp.gate_up_proj.weight\n",
      "Cheking: model.layers.16.mlp.gate_up_proj.absmax\n",
      "Cheking: model.layers.16.mlp.down_proj.weight\n",
      "Cheking: model.layers.16.mlp.down_proj.absmax\n",
      "Cheking: model.layers.16.input_layernorm.weight\n",
      "Cheking: model.layers.16.post_attention_layernorm.weight\n",
      "Cheking: model.layers.17.self_attn.qkv_proj.weight\n",
      "Cheking: model.layers.17.self_attn.qkv_proj.absmax\n",
      "Cheking: model.layers.17.self_attn.o_proj.weight\n",
      "Cheking: model.layers.17.self_attn.o_proj.absmax\n",
      "Cheking: model.layers.17.mlp.gate_up_proj.weight\n",
      "Cheking: model.layers.17.mlp.gate_up_proj.absmax\n",
      "Cheking: model.layers.17.mlp.down_proj.weight\n",
      "Cheking: model.layers.17.mlp.down_proj.absmax\n",
      "Cheking: model.layers.17.input_layernorm.weight\n",
      "Cheking: model.layers.17.post_attention_layernorm.weight\n",
      "Cheking: model.layers.18.self_attn.qkv_proj.weight\n",
      "Cheking: model.layers.18.self_attn.qkv_proj.absmax\n",
      "Cheking: model.layers.18.self_attn.o_proj.weight\n",
      "Cheking: model.layers.18.self_attn.o_proj.absmax\n",
      "Cheking: model.layers.18.mlp.gate_up_proj.weight\n",
      "Cheking: model.layers.18.mlp.gate_up_proj.absmax\n",
      "Cheking: model.layers.18.mlp.down_proj.weight\n",
      "Cheking: model.layers.18.mlp.down_proj.absmax\n",
      "Cheking: model.layers.18.input_layernorm.weight\n",
      "Cheking: model.layers.18.post_attention_layernorm.weight\n",
      "Cheking: model.layers.19.self_attn.qkv_proj.weight\n",
      "Cheking: model.layers.19.self_attn.qkv_proj.absmax\n",
      "Cheking: model.layers.19.self_attn.o_proj.weight\n",
      "Cheking: model.layers.19.self_attn.o_proj.absmax\n",
      "Cheking: model.layers.19.mlp.gate_up_proj.weight\n",
      "Cheking: model.layers.19.mlp.gate_up_proj.absmax\n",
      "Cheking: model.layers.19.mlp.down_proj.weight\n",
      "Cheking: model.layers.19.mlp.down_proj.absmax\n",
      "Cheking: model.layers.19.input_layernorm.weight\n",
      "Cheking: model.layers.19.post_attention_layernorm.weight\n",
      "Cheking: model.layers.20.self_attn.qkv_proj.weight\n",
      "Cheking: model.layers.20.self_attn.qkv_proj.absmax\n",
      "Cheking: model.layers.20.self_attn.o_proj.weight\n",
      "Cheking: model.layers.20.self_attn.o_proj.absmax\n",
      "Cheking: model.layers.20.mlp.gate_up_proj.weight\n",
      "Cheking: model.layers.20.mlp.gate_up_proj.absmax\n",
      "Cheking: model.layers.20.mlp.down_proj.weight\n",
      "Cheking: model.layers.20.mlp.down_proj.absmax\n",
      "Cheking: model.layers.20.input_layernorm.weight\n",
      "Cheking: model.layers.20.post_attention_layernorm.weight\n",
      "Cheking: model.layers.21.self_attn.qkv_proj.weight\n",
      "Cheking: model.layers.21.self_attn.qkv_proj.absmax\n",
      "Cheking: model.layers.21.self_attn.o_proj.weight\n",
      "Cheking: model.layers.21.self_attn.o_proj.absmax\n",
      "Cheking: model.layers.21.mlp.gate_up_proj.weight\n",
      "Cheking: model.layers.21.mlp.gate_up_proj.absmax\n",
      "Cheking: model.layers.21.mlp.down_proj.weight\n",
      "Cheking: model.layers.21.mlp.down_proj.absmax\n",
      "Cheking: model.layers.21.input_layernorm.weight\n",
      "Cheking: model.layers.21.post_attention_layernorm.weight\n",
      "Cheking: model.layers.22.self_attn.qkv_proj.weight\n",
      "Cheking: model.layers.22.self_attn.qkv_proj.absmax\n",
      "Cheking: model.layers.22.self_attn.o_proj.weight\n",
      "Cheking: model.layers.22.self_attn.o_proj.absmax\n",
      "Cheking: model.layers.22.mlp.gate_up_proj.weight\n",
      "Cheking: model.layers.22.mlp.gate_up_proj.absmax\n",
      "Cheking: model.layers.22.mlp.down_proj.weight\n",
      "Cheking: model.layers.22.mlp.down_proj.absmax\n",
      "Cheking: model.layers.22.input_layernorm.weight\n",
      "Cheking: model.layers.22.post_attention_layernorm.weight\n",
      "Cheking: model.layers.23.self_attn.qkv_proj.weight\n",
      "Cheking: model.layers.23.self_attn.qkv_proj.absmax\n",
      "Cheking: model.layers.23.self_attn.o_proj.weight\n",
      "Cheking: model.layers.23.self_attn.o_proj.absmax\n",
      "Cheking: model.layers.23.mlp.gate_up_proj.weight\n",
      "Cheking: model.layers.23.mlp.gate_up_proj.absmax\n",
      "Cheking: model.layers.23.mlp.down_proj.weight\n",
      "Cheking: model.layers.23.mlp.down_proj.absmax\n",
      "Cheking: model.layers.23.input_layernorm.weight\n",
      "Cheking: model.layers.23.post_attention_layernorm.weight\n",
      "Cheking: model.layers.24.self_attn.qkv_proj.weight\n",
      "Cheking: model.layers.24.self_attn.qkv_proj.absmax\n",
      "Cheking: model.layers.24.self_attn.o_proj.weight\n",
      "Cheking: model.layers.24.self_attn.o_proj.absmax\n",
      "Cheking: model.layers.24.mlp.gate_up_proj.weight\n",
      "Cheking: model.layers.24.mlp.gate_up_proj.absmax\n",
      "Cheking: model.layers.24.mlp.down_proj.weight\n",
      "Cheking: model.layers.24.mlp.down_proj.absmax\n",
      "Cheking: model.layers.24.input_layernorm.weight\n",
      "Cheking: model.layers.24.post_attention_layernorm.weight\n",
      "Cheking: model.layers.25.self_attn.qkv_proj.weight\n",
      "Cheking: model.layers.25.self_attn.qkv_proj.absmax\n",
      "Cheking: model.layers.25.self_attn.o_proj.weight\n",
      "Cheking: model.layers.25.self_attn.o_proj.absmax\n",
      "Cheking: model.layers.25.mlp.gate_up_proj.weight\n",
      "Cheking: model.layers.25.mlp.gate_up_proj.absmax\n",
      "Cheking: model.layers.25.mlp.down_proj.weight\n",
      "Cheking: model.layers.25.mlp.down_proj.absmax\n",
      "Cheking: model.layers.25.input_layernorm.weight\n",
      "Cheking: model.layers.25.post_attention_layernorm.weight\n",
      "Cheking: model.layers.26.self_attn.qkv_proj.weight\n",
      "Cheking: model.layers.26.self_attn.qkv_proj.absmax\n",
      "Cheking: model.layers.26.self_attn.o_proj.weight\n",
      "Cheking: model.layers.26.self_attn.o_proj.absmax\n",
      "Cheking: model.layers.26.mlp.gate_up_proj.weight\n",
      "Cheking: model.layers.26.mlp.gate_up_proj.absmax\n",
      "Cheking: model.layers.26.mlp.down_proj.weight\n",
      "Cheking: model.layers.26.mlp.down_proj.absmax\n",
      "Cheking: model.layers.26.input_layernorm.weight\n",
      "Cheking: model.layers.26.post_attention_layernorm.weight\n",
      "Cheking: model.layers.27.self_attn.qkv_proj.weight\n",
      "Cheking: model.layers.27.self_attn.qkv_proj.absmax\n",
      "Cheking: model.layers.27.self_attn.o_proj.weight\n",
      "Cheking: model.layers.27.self_attn.o_proj.absmax\n",
      "Cheking: model.layers.27.mlp.gate_up_proj.weight\n",
      "Cheking: model.layers.27.mlp.gate_up_proj.absmax\n",
      "Cheking: model.layers.27.mlp.down_proj.weight\n",
      "Cheking: model.layers.27.mlp.down_proj.absmax\n",
      "Cheking: model.layers.27.input_layernorm.weight\n",
      "Cheking: model.layers.27.post_attention_layernorm.weight\n",
      "Cheking: model.layers.28.self_attn.qkv_proj.weight\n",
      "Cheking: model.layers.28.self_attn.qkv_proj.absmax\n",
      "Cheking: model.layers.28.self_attn.o_proj.weight\n",
      "Cheking: model.layers.28.self_attn.o_proj.absmax\n",
      "Cheking: model.layers.28.mlp.gate_up_proj.weight\n",
      "Cheking: model.layers.28.mlp.gate_up_proj.absmax\n",
      "Cheking: model.layers.28.mlp.down_proj.weight\n",
      "Cheking: model.layers.28.mlp.down_proj.absmax\n",
      "Cheking: model.layers.28.input_layernorm.weight\n",
      "Cheking: model.layers.28.post_attention_layernorm.weight\n",
      "Cheking: model.layers.29.self_attn.qkv_proj.weight\n",
      "Cheking: model.layers.29.self_attn.qkv_proj.absmax\n",
      "Cheking: model.layers.29.self_attn.o_proj.weight\n",
      "Cheking: model.layers.29.self_attn.o_proj.absmax\n",
      "Cheking: model.layers.29.mlp.gate_up_proj.weight\n",
      "Cheking: model.layers.29.mlp.gate_up_proj.absmax\n",
      "Cheking: model.layers.29.mlp.down_proj.weight\n",
      "Cheking: model.layers.29.mlp.down_proj.absmax\n",
      "Cheking: model.layers.29.input_layernorm.weight\n",
      "Cheking: model.layers.29.post_attention_layernorm.weight\n",
      "Cheking: model.layers.30.self_attn.qkv_proj.weight\n",
      "Cheking: model.layers.30.self_attn.qkv_proj.absmax\n",
      "Cheking: model.layers.30.self_attn.o_proj.weight\n",
      "Cheking: model.layers.30.self_attn.o_proj.absmax\n",
      "Cheking: model.layers.30.mlp.gate_up_proj.weight\n",
      "Cheking: model.layers.30.mlp.gate_up_proj.absmax\n",
      "Cheking: model.layers.30.mlp.down_proj.weight\n",
      "Cheking: model.layers.30.mlp.down_proj.absmax\n",
      "Cheking: model.layers.30.input_layernorm.weight\n",
      "Cheking: model.layers.30.post_attention_layernorm.weight\n",
      "Cheking: model.layers.31.self_attn.qkv_proj.weight\n",
      "Cheking: model.layers.31.self_attn.qkv_proj.absmax\n",
      "Cheking: model.layers.31.self_attn.o_proj.weight\n",
      "Cheking: model.layers.31.self_attn.o_proj.absmax\n",
      "Cheking: model.layers.31.mlp.gate_up_proj.weight\n",
      "Cheking: model.layers.31.mlp.gate_up_proj.absmax\n",
      "Cheking: model.layers.31.mlp.down_proj.weight\n",
      "Cheking: model.layers.31.mlp.down_proj.absmax\n",
      "Cheking: model.layers.31.input_layernorm.weight\n",
      "Cheking: model.layers.31.post_attention_layernorm.weight\n",
      "Cheking: model.norm.weight\n",
      "Cheking: lm_head.weight\n"
     ]
    }
   ],
   "source": [
    "# Sanity Check if weights are loaded correctly into vllm model.\n",
    "pack_factor = 2\n",
    "for n, p in model.named_parameters():\n",
    "\n",
    "    print(\"Cheking:\", n)\n",
    "    \n",
    "    if 'qkv_proj' in n:\n",
    "        if 'absmax' in n: continue\n",
    "        \n",
    "        # Loaded qkv\n",
    "        qkv_weight = model.get_parameter(n)\n",
    "        qkv_absmax = model.get_parameter(n.replace(\".weight\", \".absmax\"))\n",
    "        qkv_shape = [qkv_weight.shape[0], qkv_weight.shape[1] * pack_factor]\n",
    "        q_shape   = [qkv_weight.shape[0], qkv_weight.shape[1] * pack_factor // 3]\n",
    "        \n",
    "        absmax = qkv_absmax.contiguous().view(-1)\n",
    "        quant_state = create_quant_state(absmax, qkv_shape)\n",
    "        \n",
    "        W_dq = bnb.functional.dequantize_4bit(qkv_weight.contiguous().view(-1,1), quant_state=quant_state)\n",
    "\n",
    "        # Saved q proj\n",
    "        q_proj_weight_name = n.replace(\"qkv_proj\", \"q_proj\")\n",
    "        q_proj_absmax_name = n.replace(\"qkv_proj\", \"q_proj\").replace(\".weight\", \".absmax\")\n",
    "        \n",
    "        absmax = quantized_state_dict[q_proj_absmax_name].cuda().contiguous().view(-1)\n",
    "        quant_state = create_quant_state(absmax, q_shape)\n",
    "        \n",
    "        W_q_proj_dq = bnb.functional.dequantize_4bit(quantized_state_dict[q_proj_weight_name].contiguous().view(-1,1).cuda(), quant_state=quant_state)\n",
    "\n",
    "        # Compare with HF model state dict\n",
    "        param = Params4bit(hf_state_dict[q_proj_weight_name].t(), blocksize=64, compress_statistics=False, quant_type='nf4').cuda()\n",
    "        W_q_proj_dq_hf = dequantize_4bit(param.data, param.quant_state)\n",
    "        \n",
    "        # Saved k proj\n",
    "        k_proj_weight_name = n.replace(\"qkv_proj\", \"k_proj\")\n",
    "        k_proj_absmax_name = n.replace(\"qkv_proj\", \"k_proj\").replace(\".weight\", \".absmax\")\n",
    "        \n",
    "        absmax = quantized_state_dict[k_proj_absmax_name].cuda().contiguous().view(-1)\n",
    "        quant_state = create_quant_state(absmax, q_shape)\n",
    "        \n",
    "        W_k_proj_dq = bnb.functional.dequantize_4bit(quantized_state_dict[k_proj_weight_name].contiguous().view(-1,1).cuda(), quant_state=quant_state)\n",
    "\n",
    "        # Compare with HF model state dict\n",
    "        param = Params4bit(hf_state_dict[k_proj_weight_name].t(), blocksize=64, compress_statistics=False, quant_type='nf4').cuda()\n",
    "        W_k_proj_dq_hf = dequantize_4bit(param.data, param.quant_state)        \n",
    "\n",
    "        # Saved v proj\n",
    "        v_proj_weight_name = n.replace(\"qkv_proj\", \"v_proj\")\n",
    "        v_proj_absmax_name = n.replace(\"qkv_proj\", \"v_proj\").replace(\".weight\", \".absmax\")\n",
    "\n",
    "        absmax = quantized_state_dict[v_proj_absmax_name].cuda().contiguous().view(-1)\n",
    "        quant_state = create_quant_state(absmax, q_shape)\n",
    "\n",
    "        W_v_proj_dq = bnb.functional.dequantize_4bit(quantized_state_dict[v_proj_weight_name].contiguous().view(-1,1).cuda(), quant_state=quant_state)\n",
    "\n",
    "         # Compare with HF model state dict\n",
    "        param = Params4bit(hf_state_dict[v_proj_weight_name].t(), blocksize=64, compress_statistics=False, quant_type='nf4').cuda()\n",
    "        W_v_proj_dq_hf = dequantize_4bit(param.data, param.quant_state)       \n",
    "\n",
    "        # Check whether loaded vs saved weights are equal after dequantization.\n",
    "        assert torch.equal(W_dq, torch.cat([W_q_proj_dq, W_k_proj_dq, W_v_proj_dq], dim=1))\n",
    "\n",
    "        assert torch.equal(W_dq, torch.cat([W_q_proj_dq_hf, W_k_proj_dq_hf, W_v_proj_dq_hf], dim=1))\n",
    "    \n",
    "    \n",
    "    elif 'gate_up_proj' in n:\n",
    "        if 'absmax' in n: continue\n",
    "            \n",
    "        # Loaded gate_up\n",
    "        gate_up_weight = model.get_parameter(n)\n",
    "        gate_up_absmax = model.get_parameter(n.replace(\".weight\", \".absmax\"))\n",
    "        gate_up_shape = [gate_up_weight.shape[0], gate_up_weight.shape[1] * pack_factor]\n",
    "        gate_shape    = [gate_up_weight.shape[0], gate_up_weight.shape[1] * pack_factor // 2]\n",
    "\n",
    "        absmax = gate_up_absmax.contiguous().view(-1)\n",
    "        quant_state = create_quant_state(absmax, gate_up_shape)\n",
    "        \n",
    "        W_dq = bnb.functional.dequantize_4bit(gate_up_weight.contiguous().view(-1,1), quant_state=quant_state)\n",
    "\n",
    "        # Saved gate_proj\n",
    "        gate_proj_weight_name = n.replace(\"gate_up_proj\", \"gate_proj\")\n",
    "        gate_proj_absmax_name = n.replace(\"gate_up_proj\", \"gate_proj\").replace(\".weight\", \".absmax\")\n",
    "        \n",
    "        absmax = quantized_state_dict[gate_proj_absmax_name].cuda().contiguous().view(-1)\n",
    "        quant_state = create_quant_state(absmax, gate_shape)\n",
    "        \n",
    "        W_gate_proj_dq = bnb.functional.dequantize_4bit(quantized_state_dict[gate_proj_weight_name].contiguous().view(-1,1).cuda(), quant_state=quant_state)\n",
    "\n",
    "        # Saved up_proj\n",
    "        up_proj_weight_name = n.replace(\"gate_up_proj\", \"up_proj\")\n",
    "        up_proj_absmax_name = n.replace(\"gate_up_proj\", \"up_proj\").replace(\".weight\", \".absmax\")\n",
    "        \n",
    "        absmax = quantized_state_dict[up_proj_absmax_name].cuda().contiguous().view(-1)\n",
    "        quant_state = create_quant_state(absmax, gate_shape)\n",
    "\n",
    "        W_up_proj_dq = bnb.functional.dequantize_4bit(quantized_state_dict[up_proj_weight_name].contiguous().view(-1,1).cuda(), quant_state=quant_state)\n",
    "\n",
    "        # Check whether loaded vs saved weights are equal after dequantization.\n",
    "        assert torch.equal(W_dq, torch.cat([W_gate_proj_dq, W_up_proj_dq], dim=1))\n",
    "    \n",
    "    \n",
    "    else:\n",
    "        # Check whether loaded vs saved weights are equal after dequantization.\n",
    "        assert torch.equal(quantized_state_dict[n].data, p.data.cpu())\n",
    "        \n",
    "        # Loaded gate_up\n",
    "        if any(l in n for l in [\"o_proj\", \"down_proj\"]):\n",
    "            if \"weight\" in n:\n",
    "                weight = model.get_parameter(n)\n",
    "                absmax = model.get_parameter(n.replace(\".weight\", \".absmax\"))\n",
    "                shape = [weight.shape[0], weight.shape[1] * pack_factor]\n",
    "                absmax = absmax.contiguous().view(-1)\n",
    "                quant_state = create_quant_state(absmax, shape)\n",
    "                W_dq = bnb.functional.dequantize_4bit(weight.contiguous().view(-1,1), quant_state=quant_state)\n",
    "\n",
    "                # Compare with HF model state dict\n",
    "                param = Params4bit(hf_state_dict[n].t(), blocksize=64, compress_statistics=False, quant_type='nf4').cuda()\n",
    "                assert torch.equal(W_dq, dequantize_4bit(param.data, param.quant_state))\n",
    "                \n",
    "        else:\n",
    "            # Compare with HF model state dict\n",
    "            assert torch.equal(quantized_state_dict[n].data, hf_state_dict[n])\n",
    "\n",
    "    \n",
    "    if any(l in n for l in [\"qkv_proj\", \"o_proj\", \"gate_up_proj\", \"down_proj\"]) and \"weight\" in n:\n",
    "        module = model.get_submodule(n.rpartition(\".\")[0])\n",
    "        input_size = module.weight.shape[0]\n",
    "        x = torch.randn(1,input_size).cuda().to(torch.bfloat16)\n",
    "        out1 = module(x)\n",
    "        if len(out1) > 1: out1 = out1[0]\n",
    "        out2 = x @ W_dq\n",
    "        \n",
    "        # Check forward pass is correct.\n",
    "        assert torch.equal(out1, out2)\n",
    "\n",
    "    # print(p.view(-1)[:10])"
   ]
  },
  {
   "cell_type": "code",
   "execution_count": 66,
   "id": "3e381a01-7457-4cf6-8994-bc9561af3269",
   "metadata": {},
   "outputs": [],
   "source": [
    "# TODO: Check activations VLLM bnb vs HF bnb"
   ]
  },
  {
   "cell_type": "code",
   "execution_count": null,
   "id": "207aba1d-b5e5-42cb-b136-bd2fcdb06694",
   "metadata": {},
   "outputs": [],
   "source": []
  },
  {
   "cell_type": "code",
   "execution_count": null,
   "id": "bc74e0f2-b15e-4457-8ee2-85e67325aad7",
   "metadata": {},
   "outputs": [],
   "source": []
  },
  {
   "cell_type": "code",
   "execution_count": null,
   "id": "afc2aa61-6684-4ce2-b8c7-c31a3a500697",
   "metadata": {},
   "outputs": [],
   "source": []
  },
  {
   "cell_type": "code",
   "execution_count": null,
   "id": "f43c4344-3699-4f0f-b3a5-ed2045c2c14c",
   "metadata": {},
   "outputs": [],
   "source": []
  },
  {
   "cell_type": "code",
   "execution_count": null,
   "id": "dde15183-ee7a-4c32-9406-8a5b4238f79d",
   "metadata": {},
   "outputs": [],
   "source": []
  },
  {
   "cell_type": "code",
   "execution_count": null,
   "id": "32091d7a-06b4-488f-a37d-21d37fd1a59c",
   "metadata": {},
   "outputs": [],
   "source": []
  },
  {
   "cell_type": "code",
   "execution_count": null,
   "id": "2a6e6dd3-f798-4ea0-8642-6448cffacaa2",
   "metadata": {},
   "outputs": [],
   "source": []
  },
  {
   "cell_type": "code",
   "execution_count": null,
   "id": "2b433344-8ff8-432c-8638-776c9e2545c5",
   "metadata": {},
   "outputs": [],
   "source": []
  },
  {
   "cell_type": "code",
   "execution_count": null,
   "id": "e258bca3-acae-4213-b12b-d53b6a201751",
   "metadata": {},
   "outputs": [],
   "source": []
  },
  {
   "cell_type": "code",
   "execution_count": null,
   "id": "d5694bb7-06bf-4b63-9ddf-f633e3a3f690",
   "metadata": {},
   "outputs": [],
   "source": []
  },
  {
   "cell_type": "code",
   "execution_count": null,
   "id": "279b99cc-49cf-4b7e-a5c7-95c7f98bcba8",
   "metadata": {},
   "outputs": [],
   "source": []
  }
 ],
 "metadata": {
  "kernelspec": {
   "display_name": "Python 3 (ipykernel)",
   "language": "python",
   "name": "python3"
  },
  "language_info": {
   "codemirror_mode": {
    "name": "ipython",
    "version": 3
   },
   "file_extension": ".py",
   "mimetype": "text/x-python",
   "name": "python",
   "nbconvert_exporter": "python",
   "pygments_lexer": "ipython3",
   "version": "3.11.5"
  }
 },
 "nbformat": 4,
 "nbformat_minor": 5
}
